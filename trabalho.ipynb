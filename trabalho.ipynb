{
 "cells": [
  {
   "cell_type": "markdown",
   "metadata": {},
   "source": [
    "# Trabalho prático AC"
   ]
  },
  {
   "cell_type": "markdown",
   "metadata": {},
   "source": [
    "## Trabalho realizado por:\n",
    "\n",
    "Margarida Vila-chã, 202107923\n",
    "\n",
    "Miguel Duarte Silva, 20210504\n",
    "\n",
    "Sebastião Lessa, 202103238\n"
   ]
  },
  {
   "cell_type": "markdown",
   "metadata": {},
   "source": [
    "## Algoritmo escolhido e breve explicação:\n",
    "\n",
    "O algoritmo escolhido pelo nosso grupo foi o Random Forrest.\n",
    "\n",
    "Ele usa uma combinação de árvores de decisão aleatórias. O processo começa com a criação de um número de árvores (floresta), em que cada uma das árvores criadas é treinada com uma amostra diferente. Isto permite a criação de árvores suficientemente diferentes, o que leva a que elas juntas consigam lidar com uma ampla variedade de situações, reduzindo o risco de overffitting.\n",
    "\n",
    "Baseamos-nos nos seguintes data-sets:\n",
    "\n",
    "- [breast-w](https://www.openml.org/search?type=run&id=7413&collections.id=99&run_task.task_id=15)\n",
    "- [qsar-biodeg](https://www.openml.org/search?type=run&id=519587&collections.id=99&run_task.task_id=9957)\n",
    "- [diabetes](https://www.openml.org/search?type=run&id=548&collections.id=99&run_task.task_id=37)\n"
   ]
  },
  {
   "cell_type": "markdown",
   "metadata": {},
   "source": [
    "## Alteração escolhida\n",
    "A alteração que o nosso grupo decidiu fazer no codigo fonte obtido foi considerar utilizar outros tipos de critérios. A nossa intenção é testar os 3 critérios possiveis e escolher como Classificador Random Forest final o que tiver mais precisão. Implementamos também uma forma de testar os 3 critérios em todas as Decision Trees e usar sempre a mais precisa na criação do Classificador Random Forest.\n"
   ]
  },
  {
   "cell_type": "markdown",
   "metadata": {
    "ExecuteTime": {
     "end_time": "2023-05-17T18:01:28.593025Z",
     "start_time": "2023-05-17T18:01:28.453152Z"
    }
   },
   "source": [
    "## Import das bibliotecas necessárias:"
   ],
   "outputs": [],
   "execution_count": 482
  },
  {
   "cell_type": "code",
   "execution_count": 17,
   "metadata": {
    "ExecuteTime": {
     "end_time": "2023-05-19T21:43:49.013455Z",
     "start_time": "2023-05-19T21:43:48.991926Z"
    }
   },
   "outputs": [],
   "source": [
    "from collections import Counter\n",
    "from time import time\n",
    "import numpy as np\n",
    "import pandas as pd\n",
    "from sklearn.base import BaseEstimator, ClassifierMixin\n",
    "from sklearn.utils import resample\n",
    "from sklearn.model_selection import GridSearchCV\n",
    "from sklearn.ensemble import RandomForestClassifier as RF\n",
    "from sklearn.metrics import accuracy_score\n",
    "from sklearn.model_selection import train_test_split"
   ]
  },
  {
   "cell_type": "markdown",
   "source": [
    "## Modelo implementado, sem alteração"
   ],
   "metadata": {
    "collapsed": false
   }
  },
  {
   "cell_type": "code",
   "execution_count": 18,
   "outputs": [],
   "source": [
    "class DecisionTree:\n",
    "\n",
    "    # class constructor\n",
    "    def __init__(self, criterion='gini', max_depth=None):\n",
    "        self.criterion = criterion\n",
    "        self.max_depth = max_depth\n",
    "        self.tree = None\n",
    "\n",
    "    # method to train the tree\n",
    "    def fit(self, X, y):\n",
    "        self.tree = self._build_tree(X, y, depth=0)\n",
    "\n",
    "    # recursive method to build the tree based on training\n",
    "    def _build_tree(self, X, y, depth):\n",
    "        num_samples, num_features = X.shape\n",
    "        label_counts = Counter(y)\n",
    "\n",
    "        # Base cases: check termination conditions\n",
    "        if len(label_counts) == 1:\n",
    "            # All samples belong to the same class\n",
    "            return {'class': label_counts.most_common(1)[0][0]}\n",
    "\n",
    "        if depth == self.max_depth or num_samples < 2:\n",
    "            # Reached maximum depth or too few samples remaining\n",
    "            return {'class': label_counts.most_common(1)[0][0]}\n",
    "\n",
    "        if num_features == 0:\n",
    "            # No features remaining to split on\n",
    "            return {'class': label_counts.most_common(1)[0][0]}\n",
    "\n",
    "        # Determine the best feature and split point\n",
    "        best_feature, best_split_point = self._get_best_split(X, y)\n",
    "\n",
    "        # Create the tree node\n",
    "        node = {'feature': best_feature, 'split_point': best_split_point}\n",
    "\n",
    "        # Split the data based on the best feature and split point\n",
    "        left_mask = X[:, best_feature] <= best_split_point\n",
    "        right_mask = X[:, best_feature] > best_split_point\n",
    "\n",
    "        left_X, left_y = X[left_mask], y[left_mask]\n",
    "        right_X, right_y = X[right_mask], y[right_mask]\n",
    "\n",
    "        # Recursively build the left and right subtrees\n",
    "        node['left'] = self._build_tree(left_X, left_y, depth + 1)\n",
    "        node['right'] = self._build_tree(right_X, right_y, depth + 1)\n",
    "\n",
    "        return node\n",
    "\n",
    "    # method to compute the score based on the criteria\n",
    "    def _compute_score(self, y):\n",
    "        # Compute the score based on the selected criterion\n",
    "        if self.criterion == 'gini':\n",
    "            return self._gini_index(y)\n",
    "        elif self.criterion == 'entropy':\n",
    "            return self._entropy(y)\n",
    "        elif self.criterion == 'log_loss':\n",
    "            return self._log_loss(y)\n",
    "        else:\n",
    "            raise ValueError(\"Invalid criterion: {}\".format(self.criterion))\n",
    "\n",
    "    # method that makes the input(features) traverse the tree and comeback as results(target), makes a list of predicted results\n",
    "    def predict(self, X):\n",
    "        # Make predictions for the input data\n",
    "        predictions = np.zeros(len(X))\n",
    "\n",
    "        for i, sample in enumerate(X):\n",
    "            predictions[i] = self._traverse_tree(sample, self.tree)\n",
    "\n",
    "        return predictions\n",
    "\n",
    "    # method to traverse the tree\n",
    "    def _traverse_tree(self, sample, node):\n",
    "        if 'class' in node:\n",
    "            # Leaf node: return the predicted class\n",
    "            return node['class']\n",
    "\n",
    "        # Internal node: recursively traverse the tree\n",
    "        feature = node['feature']\n",
    "        split_point = node['split_point']\n",
    "\n",
    "        if sample[feature] <= split_point:\n",
    "            return self._traverse_tree(sample, node['left'])\n",
    "        else:\n",
    "            return self._traverse_tree(sample, node['right'])\n",
    "\n",
    "    @staticmethod\n",
    "    def _gini_index(y):\n",
    "        # Compute the Gini index for a given set of labels\n",
    "        _, counts = np.unique(y, return_counts=True)\n",
    "        probabilities = counts / len(y)\n",
    "        gini = 1.0 - np.sum(probabilities ** 2)\n",
    "        return gini\n",
    "\n",
    "    @staticmethod\n",
    "    def _entropy(y):\n",
    "        # Compute the entropy for a given set of labels\n",
    "        _, counts = np.unique(y, return_counts=True)\n",
    "        probabilities = counts / len(y)\n",
    "        entropy = -np.sum(probabilities * np.log2(probabilities))\n",
    "        return entropy\n",
    "\n",
    "    @staticmethod\n",
    "    def _log_loss(y):\n",
    "        # Compute the logarithmic loss for a given set of labels\n",
    "        num_samples = len(y)\n",
    "        unique_classes = np.unique(y)\n",
    "\n",
    "        class_counts = Counter(y)\n",
    "        class_probabilities = np.array([class_counts[c] / num_samples for c in unique_classes])\n",
    "\n",
    "        return -np.sum(class_probabilities * np.log2(class_probabilities))\n",
    "\n",
    "    # method to assist building the tree\n",
    "    def _get_best_split(self, X, y):\n",
    "        best_feature = None\n",
    "        best_split_point = None\n",
    "        best_score = -np.inf\n",
    "\n",
    "        for feature in range(X.shape[1]):\n",
    "            unique_values = np.unique(X[:, feature])\n",
    "            for value in unique_values:\n",
    "                left_mask = X[:, feature] <= value\n",
    "                right_mask = X[:, feature] > value\n",
    "                left_labels = y[left_mask]\n",
    "                right_labels = y[right_mask]\n",
    "\n",
    "                if len(left_labels) > 0 and len(right_labels) > 0:\n",
    "                    score = self._compute_score(left_labels) * len(left_labels) + \\\n",
    "                            self._compute_score(right_labels) * len(right_labels)\n",
    "                    if score > best_score:\n",
    "                        best_feature = feature\n",
    "                        best_split_point = value\n",
    "                        best_score = score\n",
    "\n",
    "        return best_feature, best_split_point\n",
    "\n",
    "    # method to gest the best criterion based on the scored from a trained tree\n",
    "    def get_best_criterion(self, X, y, criteria):\n",
    "        best_score = 0.0\n",
    "        best_criterion = None\n",
    "\n",
    "        for criterion in criteria:\n",
    "            self.criterion = criterion\n",
    "            X_train, X_test, y_train, y_test = train_test_split(X, y, test_size=0.3, random_state=42)\n",
    "            self.fit(X_train, y_train)\n",
    "            y_pred = self.predict(X_test)\n",
    "            score = accuracy_score(y_test, y_pred)\n",
    "\n",
    "            if score > best_score:\n",
    "                best_score = score\n",
    "                best_criterion = criterion\n",
    "\n",
    "        return best_criterion"
   ],
   "metadata": {
    "collapsed": false,
    "ExecuteTime": {
     "end_time": "2023-05-19T21:43:49.041163Z",
     "start_time": "2023-05-19T21:43:49.003764Z"
    }
   }
  },
  {
   "cell_type": "code",
   "execution_count": 19,
   "outputs": [],
   "source": [
    "# tests in each tree for the forest which criterion is the best\n",
    "class Custom_RF_all(BaseEstimator, ClassifierMixin):\n",
    "    def __init__(self, n_estimators=100, max_depth=None):\n",
    "        self.n_estimators = n_estimators\n",
    "        self.max_depth = max_depth\n",
    "        self.estimators = []\n",
    "\n",
    "    # trains the forest, in each tree it decided the best criterion individually\n",
    "    def fit(self, X, y):\n",
    "        self.estimators = []\n",
    "        # self.max_depth = self._get_best_max_depth(X, y) # sets the max depth to its optimal value (takes too long, but it works)\n",
    "        # self.n_estimators = self._get_best_n_estimators(X, y) # sets the n_estimators to its optimal value (takes too long, but it works)\n",
    "\n",
    "        criteria = [\"gini\", \"entropy\", \"log_loss\"]\n",
    "        used_criterion=[]\n",
    "\n",
    "        for _ in range(self.n_estimators):\n",
    "            bootstrap_indices = resample(range(len(X)), replace=True)\n",
    "            X_bootstrap = X[bootstrap_indices]\n",
    "            y_bootstrap = y[bootstrap_indices]\n",
    "\n",
    "            tree = DecisionTree(self.max_depth)\n",
    "            best_criterion=tree.get_best_criterion(X_bootstrap, y_bootstrap, criteria)\n",
    "            used_criterion.append(best_criterion)\n",
    "\n",
    "            tree.criterion=best_criterion\n",
    "            tree.fit(X_bootstrap, y_bootstrap)\n",
    "\n",
    "            self.estimators.append(tree)\n",
    "\n",
    "        print(\"Most used criterion in our implementation: '\"+ str(Counter(used_criterion).most_common(1)[0][0])+ \"'\")\n",
    "\n",
    "\n",
    "    # method that makes the input(features) traverse the tree and comeback as results(target), makes a list of predicted results\n",
    "    def predict(self, X):\n",
    "        predictions = np.zeros((len(X), len(self.estimators)))\n",
    "\n",
    "        for i, estimator in enumerate(self.estimators):\n",
    "            predictions[:, i] = estimator.predict(X)\n",
    "\n",
    "        return np.apply_along_axis(lambda x: np.bincount(x.astype(int)).argmax(), axis=1, arr=predictions)\n",
    "\n",
    "    @staticmethod\n",
    "    def _get_best_max_depth(X, y):\n",
    "        param_grid = {'max_depth': [None, 5, 10, 15, 20]}\n",
    "        rf_classifier = Custom_RF(n_estimators=1)  # Temporarily create an instance for grid search\n",
    "        grid_search = GridSearchCV(rf_classifier, param_grid, cv=3, scoring='accuracy')\n",
    "        grid_search.fit(X, y)\n",
    "        best_max_depth = grid_search.best_params_['max_depth']\n",
    "        return best_max_depth\n",
    "\n",
    "    def _get_best_n_estimators(self, X, y):\n",
    "        param_grid = {'n_estimators': [50, 100, 150, 200, 250]}\n",
    "        rf_classifier = Custom_RF(max_depth=self.max_depth)  # Temporarily create an instance for grid search\n",
    "        grid_search = GridSearchCV(rf_classifier, param_grid, cv=3, scoring='accuracy')\n",
    "        grid_search.fit(X, y)\n",
    "        best_n_estimators = grid_search.best_params_['n_estimators']\n",
    "        return best_n_estimators"
   ],
   "metadata": {
    "collapsed": false,
    "ExecuteTime": {
     "end_time": "2023-05-19T21:43:49.042960Z",
     "start_time": "2023-05-19T21:43:49.011634Z"
    }
   }
  },
  {
   "cell_type": "code",
   "execution_count": 20,
   "outputs": [],
   "source": [
    "# tests the algorithm with the 3 criteria and returns the best one\n",
    "class Custom_RF(BaseEstimator, ClassifierMixin):\n",
    "    def __init__(self, n_estimators=100, max_depth=None):\n",
    "        self.n_estimators = n_estimators\n",
    "        self.max_depth = max_depth\n",
    "        self.estimators = []\n",
    "\n",
    "    def get_accuracy(self, X, y):\n",
    "        y_pred = self.predict(X)\n",
    "        return accuracy_score(y, y_pred)\n",
    "\n",
    "    # trains the forest with the same criterion all the way and in the end it chooses the forest with best score\n",
    "    def fit(self, X, y):\n",
    "        self.estimators = []\n",
    "        # self.max_depth = self._get_best_max_depth(X, y) # sets the max depth to its optimal value (takes too long, but it works)\n",
    "        # self.n_estimators = self._get_best_n_estimators(X, y) # sets the n_estimators to its optimal value (takes too long, but it works)\n",
    "\n",
    "        criteria = [\"gini\", \"entropy\", \"log_loss\"]\n",
    "        best_score = 0.0\n",
    "        best_criterion = None\n",
    "\n",
    "        for criterion in criteria:\n",
    "            temp_rf = Custom_RF(self.n_estimators, self.max_depth)\n",
    "            for _ in range(self.n_estimators):\n",
    "                tree = DecisionTree(self.max_depth)\n",
    "                tree.criterion=criterion\n",
    "                bootstrap_indices = resample(range(len(X)), replace=True)\n",
    "                X_bootstrap = X[bootstrap_indices]\n",
    "                y_bootstrap = y[bootstrap_indices]\n",
    "\n",
    "                tree.fit(X_bootstrap, y_bootstrap)\n",
    "\n",
    "                temp_rf.estimators.append(tree)\n",
    "\n",
    "            score = temp_rf.get_accuracy(X, y)\n",
    "\n",
    "            if  score > best_score:\n",
    "                best_score = score\n",
    "                best_criterion = criterion\n",
    "                self.estimators = temp_rf.estimators\n",
    "\n",
    "        print(\"Highest scored criterion in our implementation: '\"+ best_criterion+ \"'\")\n",
    "\n",
    "    # method that makes the input(features) traverse the tree and comeback as results(target), makes a list of predicted results\n",
    "    def predict(self, X):\n",
    "        predictions = np.zeros((len(X), len(self.estimators)))\n",
    "\n",
    "        for i, estimator in enumerate(self.estimators):\n",
    "            predictions[:, i] = estimator.predict(X)\n",
    "\n",
    "        return np.apply_along_axis(lambda x: np.bincount(x.astype(int)).argmax(), axis=1, arr=predictions)\n",
    "\n",
    "    @staticmethod\n",
    "    def _get_best_max_depth(X, y):\n",
    "        param_grid = {'max_depth': [None, 5, 10, 15, 20]}\n",
    "        rf_classifier = Custom_RF(n_estimators=1)  # Temporarily create an instance for grid search\n",
    "        grid_search = GridSearchCV(rf_classifier, param_grid, cv=3, scoring='accuracy')\n",
    "        grid_search.fit(X, y)\n",
    "        best_max_depth = grid_search.best_params_['max_depth']\n",
    "        return best_max_depth\n",
    "\n",
    "    def _get_best_n_estimators(self, X, y):\n",
    "        param_grid = {'n_estimators': [50, 100, 150, 200, 250]}\n",
    "        rf_classifier = Custom_RF(max_depth=self.max_depth)  # Temporarily create an instance for grid search\n",
    "        grid_search = GridSearchCV(rf_classifier, param_grid, cv=3, scoring='accuracy')\n",
    "        grid_search.fit(X, y)\n",
    "        best_n_estimators = grid_search.best_params_['n_estimators']\n",
    "        return best_n_estimators"
   ],
   "metadata": {
    "collapsed": false,
    "ExecuteTime": {
     "end_time": "2023-05-19T21:43:49.043216Z",
     "start_time": "2023-05-19T21:43:49.020490Z"
    }
   }
  },
  {
   "cell_type": "markdown",
   "metadata": {},
   "source": [
    "## Testes para cada dataset"
   ],
   "outputs": [],
   "execution_count": null
  },
  {
   "cell_type": "code",
   "execution_count": 21,
   "outputs": [],
   "source": [
    "def test_model(dataset):\n",
    "    def test(model):\n",
    "        X=dataset.iloc[:,1:-1].values\n",
    "        y=dataset.iloc[:,-1].values\n",
    "\n",
    "        X_train, X_test, y_train, y_test = train_test_split(X, y,test_size=0.3, random_state=42)\n",
    "\n",
    "        model.fit(X_train, y_train)\n",
    "\n",
    "        print(\"Accuracy: \"+ str(round(accuracy_score(y_test, model.predict(X_test)),7)))\n",
    "\n",
    "\n",
    "    print(\"Random Forest Classifier from sklearn using 'gini' criterion:\")\n",
    "    test(RF())\n",
    "\n",
    "    print(\"\\nRandom Forest Classifier from sklearn using 'entropy' criterion:\")\n",
    "    test(RF(criterion='entropy'))\n",
    "\n",
    "    print(\"\\nRandom Forest Classifier from sklearn using 'log_loss' criterion:\")\n",
    "    test(RF(criterion='log_loss'))\n",
    "\n",
    "    print(\"\\nOur model of Random Forest Classifier:\")\n",
    "    ti=time()\n",
    "    test(Custom_RF())\n",
    "    tf=time()\n",
    "    t=tf-ti\n",
    "    print(\"Time: \"+str(int(t//60))+\" minutes and \"+str(round(t%60,2))+\" seconds\")\n",
    "\n",
    "    print(\"\\nOur model of Random Forest Classifier but each tree is choosing the best criterion:\")\n",
    "    ti=time()\n",
    "    test(Custom_RF_all())\n",
    "    tf=time()\n",
    "    t=tf-ti\n",
    "    print(\"Time: \"+str(int(t//60))+\" minutes and \"+str(round(t%60,2))+\" seconds\")\n"
   ],
   "metadata": {
    "collapsed": false,
    "ExecuteTime": {
     "end_time": "2023-05-19T21:43:49.043309Z",
     "start_time": "2023-05-19T21:43:49.025046Z"
    }
   }
  },
  {
   "cell_type": "markdown",
   "metadata": {},
   "source": [
    "### DATASET 1 - Cancro da mama"
   ],
   "outputs": [],
   "execution_count": null
  },
  {
   "cell_type": "code",
   "execution_count": 49,
   "metadata": {
    "ExecuteTime": {
     "end_time": "2023-05-19T22:33:11.122636Z",
     "start_time": "2023-05-19T22:33:11.090560Z"
    }
   },
   "outputs": [
    {
     "data": {
      "text/plain": "   id  Clump_Thickness  Cell_Size_Uniformity  Cell_Shape_Uniformity  \\\n0   1                5                     1                      1   \n1   2                5                     4                      4   \n2   3                3                     1                      1   \n3   4                6                     8                      8   \n4   5                4                     1                      1   \n\n   Marginal_Adhesion  Single_Epi_Cell_Size Bare_Nuclei  Bland_Chromatin  \\\n0                  1                     2           1                3   \n1                  5                     7          10                3   \n2                  1                     2           2                3   \n3                  1                     3           4                3   \n4                  3                     2           1                3   \n\n   Normal_Nucleoli  Mitoses   Class  \n0                1        1  benign  \n1                2        1  benign  \n2                1        1  benign  \n3                7        1  benign  \n4                1        1  benign  ",
      "text/html": "<div>\n<style scoped>\n    .dataframe tbody tr th:only-of-type {\n        vertical-align: middle;\n    }\n\n    .dataframe tbody tr th {\n        vertical-align: top;\n    }\n\n    .dataframe thead th {\n        text-align: right;\n    }\n</style>\n<table border=\"1\" class=\"dataframe\">\n  <thead>\n    <tr style=\"text-align: right;\">\n      <th></th>\n      <th>id</th>\n      <th>Clump_Thickness</th>\n      <th>Cell_Size_Uniformity</th>\n      <th>Cell_Shape_Uniformity</th>\n      <th>Marginal_Adhesion</th>\n      <th>Single_Epi_Cell_Size</th>\n      <th>Bare_Nuclei</th>\n      <th>Bland_Chromatin</th>\n      <th>Normal_Nucleoli</th>\n      <th>Mitoses</th>\n      <th>Class</th>\n    </tr>\n  </thead>\n  <tbody>\n    <tr>\n      <th>0</th>\n      <td>1</td>\n      <td>5</td>\n      <td>1</td>\n      <td>1</td>\n      <td>1</td>\n      <td>2</td>\n      <td>1</td>\n      <td>3</td>\n      <td>1</td>\n      <td>1</td>\n      <td>benign</td>\n    </tr>\n    <tr>\n      <th>1</th>\n      <td>2</td>\n      <td>5</td>\n      <td>4</td>\n      <td>4</td>\n      <td>5</td>\n      <td>7</td>\n      <td>10</td>\n      <td>3</td>\n      <td>2</td>\n      <td>1</td>\n      <td>benign</td>\n    </tr>\n    <tr>\n      <th>2</th>\n      <td>3</td>\n      <td>3</td>\n      <td>1</td>\n      <td>1</td>\n      <td>1</td>\n      <td>2</td>\n      <td>2</td>\n      <td>3</td>\n      <td>1</td>\n      <td>1</td>\n      <td>benign</td>\n    </tr>\n    <tr>\n      <th>3</th>\n      <td>4</td>\n      <td>6</td>\n      <td>8</td>\n      <td>8</td>\n      <td>1</td>\n      <td>3</td>\n      <td>4</td>\n      <td>3</td>\n      <td>7</td>\n      <td>1</td>\n      <td>benign</td>\n    </tr>\n    <tr>\n      <th>4</th>\n      <td>5</td>\n      <td>4</td>\n      <td>1</td>\n      <td>1</td>\n      <td>3</td>\n      <td>2</td>\n      <td>1</td>\n      <td>3</td>\n      <td>1</td>\n      <td>1</td>\n      <td>benign</td>\n    </tr>\n  </tbody>\n</table>\n</div>"
     },
     "execution_count": 49,
     "metadata": {},
     "output_type": "execute_result"
    }
   ],
   "source": [
    "df = pd.read_csv('breast.csv')\n",
    "df.head()"
   ]
  },
  {
   "cell_type": "code",
   "execution_count": 50,
   "outputs": [],
   "source": [
    "df['Class']=df['Class'].map({'benign': 0, 'malignant': 1})\n",
    "df['Bare_Nuclei'].replace('?', np.nan, inplace=True)"
   ],
   "metadata": {
    "collapsed": false,
    "ExecuteTime": {
     "end_time": "2023-05-19T22:33:11.873134Z",
     "start_time": "2023-05-19T22:33:11.857422Z"
    }
   }
  },
  {
   "cell_type": "code",
   "execution_count": 51,
   "outputs": [
    {
     "data": {
      "text/plain": "id                        0\nClump_Thickness           0\nCell_Size_Uniformity      0\nCell_Shape_Uniformity     0\nMarginal_Adhesion         0\nSingle_Epi_Cell_Size      0\nBare_Nuclei              16\nBland_Chromatin           0\nNormal_Nucleoli           0\nMitoses                   0\nClass                     0\ndtype: int64"
     },
     "execution_count": 51,
     "metadata": {},
     "output_type": "execute_result"
    }
   ],
   "source": [
    "df.isnull().sum()"
   ],
   "metadata": {
    "collapsed": false,
    "ExecuteTime": {
     "end_time": "2023-05-19T22:33:12.616662Z",
     "start_time": "2023-05-19T22:33:12.605667Z"
    }
   }
  },
  {
   "cell_type": "code",
   "execution_count": 52,
   "metadata": {
    "ExecuteTime": {
     "end_time": "2023-05-19T22:33:14.620014Z",
     "start_time": "2023-05-19T22:33:14.609889Z"
    }
   },
   "outputs": [
    {
     "data": {
      "text/plain": "   id  Clump_Thickness  Cell_Size_Uniformity  Cell_Shape_Uniformity  \\\n0   1                5                     1                      1   \n1   2                5                     4                      4   \n2   3                3                     1                      1   \n3   4                6                     8                      8   \n4   5                4                     1                      1   \n\n   Marginal_Adhesion  Single_Epi_Cell_Size Bare_Nuclei  Bland_Chromatin  \\\n0                  1                     2           1                3   \n1                  5                     7          10                3   \n2                  1                     2           2                3   \n3                  1                     3           4                3   \n4                  3                     2           1                3   \n\n   Normal_Nucleoli  Mitoses  Class  \n0                1        1      0  \n1                2        1      0  \n2                1        1      0  \n3                7        1      0  \n4                1        1      0  ",
      "text/html": "<div>\n<style scoped>\n    .dataframe tbody tr th:only-of-type {\n        vertical-align: middle;\n    }\n\n    .dataframe tbody tr th {\n        vertical-align: top;\n    }\n\n    .dataframe thead th {\n        text-align: right;\n    }\n</style>\n<table border=\"1\" class=\"dataframe\">\n  <thead>\n    <tr style=\"text-align: right;\">\n      <th></th>\n      <th>id</th>\n      <th>Clump_Thickness</th>\n      <th>Cell_Size_Uniformity</th>\n      <th>Cell_Shape_Uniformity</th>\n      <th>Marginal_Adhesion</th>\n      <th>Single_Epi_Cell_Size</th>\n      <th>Bare_Nuclei</th>\n      <th>Bland_Chromatin</th>\n      <th>Normal_Nucleoli</th>\n      <th>Mitoses</th>\n      <th>Class</th>\n    </tr>\n  </thead>\n  <tbody>\n    <tr>\n      <th>0</th>\n      <td>1</td>\n      <td>5</td>\n      <td>1</td>\n      <td>1</td>\n      <td>1</td>\n      <td>2</td>\n      <td>1</td>\n      <td>3</td>\n      <td>1</td>\n      <td>1</td>\n      <td>0</td>\n    </tr>\n    <tr>\n      <th>1</th>\n      <td>2</td>\n      <td>5</td>\n      <td>4</td>\n      <td>4</td>\n      <td>5</td>\n      <td>7</td>\n      <td>10</td>\n      <td>3</td>\n      <td>2</td>\n      <td>1</td>\n      <td>0</td>\n    </tr>\n    <tr>\n      <th>2</th>\n      <td>3</td>\n      <td>3</td>\n      <td>1</td>\n      <td>1</td>\n      <td>1</td>\n      <td>2</td>\n      <td>2</td>\n      <td>3</td>\n      <td>1</td>\n      <td>1</td>\n      <td>0</td>\n    </tr>\n    <tr>\n      <th>3</th>\n      <td>4</td>\n      <td>6</td>\n      <td>8</td>\n      <td>8</td>\n      <td>1</td>\n      <td>3</td>\n      <td>4</td>\n      <td>3</td>\n      <td>7</td>\n      <td>1</td>\n      <td>0</td>\n    </tr>\n    <tr>\n      <th>4</th>\n      <td>5</td>\n      <td>4</td>\n      <td>1</td>\n      <td>1</td>\n      <td>3</td>\n      <td>2</td>\n      <td>1</td>\n      <td>3</td>\n      <td>1</td>\n      <td>1</td>\n      <td>0</td>\n    </tr>\n  </tbody>\n</table>\n</div>"
     },
     "execution_count": 52,
     "metadata": {},
     "output_type": "execute_result"
    }
   ],
   "source": [
    "df.dropna(subset=['Bare_Nuclei'], inplace=True)\n",
    "df.head()"
   ]
  },
  {
   "cell_type": "code",
   "execution_count": 53,
   "outputs": [
    {
     "data": {
      "text/plain": "id                       0\nClump_Thickness          0\nCell_Size_Uniformity     0\nCell_Shape_Uniformity    0\nMarginal_Adhesion        0\nSingle_Epi_Cell_Size     0\nBare_Nuclei              0\nBland_Chromatin          0\nNormal_Nucleoli          0\nMitoses                  0\nClass                    0\ndtype: int64"
     },
     "execution_count": 53,
     "metadata": {},
     "output_type": "execute_result"
    }
   ],
   "source": [
    "df.isnull().sum()"
   ],
   "metadata": {
    "collapsed": false,
    "ExecuteTime": {
     "end_time": "2023-05-19T22:33:15.743876Z",
     "start_time": "2023-05-19T22:33:15.721958Z"
    }
   }
  },
  {
   "cell_type": "code",
   "execution_count": 54,
   "outputs": [
    {
     "data": {
      "text/plain": "               id  Clump_Thickness  Cell_Size_Uniformity  \\\ncount  683.000000       683.000000            683.000000   \nmean   352.355783         4.442167              3.150805   \nstd    202.563927         2.820761              3.065145   \nmin      1.000000         1.000000              1.000000   \n25%    177.500000         2.000000              1.000000   \n50%    356.000000         4.000000              1.000000   \n75%    527.500000         6.000000              5.000000   \nmax    699.000000        10.000000             10.000000   \n\n       Cell_Shape_Uniformity  Marginal_Adhesion  Single_Epi_Cell_Size  \\\ncount             683.000000         683.000000            683.000000   \nmean                3.215227           2.830161              3.234261   \nstd                 2.988581           2.864562              2.223085   \nmin                 1.000000           1.000000              1.000000   \n25%                 1.000000           1.000000              2.000000   \n50%                 1.000000           1.000000              2.000000   \n75%                 5.000000           4.000000              4.000000   \nmax                10.000000          10.000000             10.000000   \n\n       Bland_Chromatin  Normal_Nucleoli     Mitoses       Class  \ncount       683.000000       683.000000  683.000000  683.000000  \nmean          3.445095         2.869693    1.603221    0.349927  \nstd           2.449697         3.052666    1.732674    0.477296  \nmin           1.000000         1.000000    1.000000    0.000000  \n25%           2.000000         1.000000    1.000000    0.000000  \n50%           3.000000         1.000000    1.000000    0.000000  \n75%           5.000000         4.000000    1.000000    1.000000  \nmax          10.000000        10.000000   10.000000    1.000000  ",
      "text/html": "<div>\n<style scoped>\n    .dataframe tbody tr th:only-of-type {\n        vertical-align: middle;\n    }\n\n    .dataframe tbody tr th {\n        vertical-align: top;\n    }\n\n    .dataframe thead th {\n        text-align: right;\n    }\n</style>\n<table border=\"1\" class=\"dataframe\">\n  <thead>\n    <tr style=\"text-align: right;\">\n      <th></th>\n      <th>id</th>\n      <th>Clump_Thickness</th>\n      <th>Cell_Size_Uniformity</th>\n      <th>Cell_Shape_Uniformity</th>\n      <th>Marginal_Adhesion</th>\n      <th>Single_Epi_Cell_Size</th>\n      <th>Bland_Chromatin</th>\n      <th>Normal_Nucleoli</th>\n      <th>Mitoses</th>\n      <th>Class</th>\n    </tr>\n  </thead>\n  <tbody>\n    <tr>\n      <th>count</th>\n      <td>683.000000</td>\n      <td>683.000000</td>\n      <td>683.000000</td>\n      <td>683.000000</td>\n      <td>683.000000</td>\n      <td>683.000000</td>\n      <td>683.000000</td>\n      <td>683.000000</td>\n      <td>683.000000</td>\n      <td>683.000000</td>\n    </tr>\n    <tr>\n      <th>mean</th>\n      <td>352.355783</td>\n      <td>4.442167</td>\n      <td>3.150805</td>\n      <td>3.215227</td>\n      <td>2.830161</td>\n      <td>3.234261</td>\n      <td>3.445095</td>\n      <td>2.869693</td>\n      <td>1.603221</td>\n      <td>0.349927</td>\n    </tr>\n    <tr>\n      <th>std</th>\n      <td>202.563927</td>\n      <td>2.820761</td>\n      <td>3.065145</td>\n      <td>2.988581</td>\n      <td>2.864562</td>\n      <td>2.223085</td>\n      <td>2.449697</td>\n      <td>3.052666</td>\n      <td>1.732674</td>\n      <td>0.477296</td>\n    </tr>\n    <tr>\n      <th>min</th>\n      <td>1.000000</td>\n      <td>1.000000</td>\n      <td>1.000000</td>\n      <td>1.000000</td>\n      <td>1.000000</td>\n      <td>1.000000</td>\n      <td>1.000000</td>\n      <td>1.000000</td>\n      <td>1.000000</td>\n      <td>0.000000</td>\n    </tr>\n    <tr>\n      <th>25%</th>\n      <td>177.500000</td>\n      <td>2.000000</td>\n      <td>1.000000</td>\n      <td>1.000000</td>\n      <td>1.000000</td>\n      <td>2.000000</td>\n      <td>2.000000</td>\n      <td>1.000000</td>\n      <td>1.000000</td>\n      <td>0.000000</td>\n    </tr>\n    <tr>\n      <th>50%</th>\n      <td>356.000000</td>\n      <td>4.000000</td>\n      <td>1.000000</td>\n      <td>1.000000</td>\n      <td>1.000000</td>\n      <td>2.000000</td>\n      <td>3.000000</td>\n      <td>1.000000</td>\n      <td>1.000000</td>\n      <td>0.000000</td>\n    </tr>\n    <tr>\n      <th>75%</th>\n      <td>527.500000</td>\n      <td>6.000000</td>\n      <td>5.000000</td>\n      <td>5.000000</td>\n      <td>4.000000</td>\n      <td>4.000000</td>\n      <td>5.000000</td>\n      <td>4.000000</td>\n      <td>1.000000</td>\n      <td>1.000000</td>\n    </tr>\n    <tr>\n      <th>max</th>\n      <td>699.000000</td>\n      <td>10.000000</td>\n      <td>10.000000</td>\n      <td>10.000000</td>\n      <td>10.000000</td>\n      <td>10.000000</td>\n      <td>10.000000</td>\n      <td>10.000000</td>\n      <td>10.000000</td>\n      <td>1.000000</td>\n    </tr>\n  </tbody>\n</table>\n</div>"
     },
     "execution_count": 54,
     "metadata": {},
     "output_type": "execute_result"
    }
   ],
   "source": [
    "df.describe()"
   ],
   "metadata": {
    "collapsed": false,
    "ExecuteTime": {
     "end_time": "2023-05-19T22:33:17.408616Z",
     "start_time": "2023-05-19T22:33:17.378462Z"
    }
   }
  },
  {
   "cell_type": "markdown",
   "metadata": {},
   "source": [
    "#### Tests"
   ],
   "outputs": [],
   "execution_count": null
  },
  {
   "cell_type": "code",
   "execution_count": 24,
   "metadata": {
    "ExecuteTime": {
     "end_time": "2023-05-19T21:45:15.545782Z",
     "start_time": "2023-05-19T21:43:49.047018Z"
    }
   },
   "outputs": [
    {
     "name": "stdout",
     "output_type": "stream",
     "text": [
      "Random Forest Classifier from sklearn using 'gini' criterion:\n",
      "Accuracy: 0.9609756\n",
      "\n",
      "Random Forest Classifier from sklearn using 'entropy' criterion:\n",
      "Accuracy: 0.9560976\n",
      "\n",
      "Random Forest Classifier from sklearn using 'log_loss' criterion:\n",
      "Accuracy: 0.9609756\n",
      "\n",
      "Our model of Random Forest Classifier:\n",
      "Highest scored criterion in our implementation: 'gini'\n",
      "Accuracy: 0.9658537\n",
      "Time: 0 minutes and 42.53 seconds\n",
      "\n",
      "Our model of Random Forest Classifier but each tree is choosing the best criterion:\n",
      "Most used criterion in our implementation: 'gini'\n",
      "Accuracy: 0.9609756\n",
      "Time: 0 minutes and 43.75 seconds\n"
     ]
    }
   ],
   "source": [
    "test_model(df)"
   ]
  },
  {
   "cell_type": "markdown",
   "metadata": {},
   "source": [
    "### Dataset 2 - Biodeg"
   ],
   "outputs": [],
   "execution_count": null
  },
  {
   "cell_type": "code",
   "execution_count": 35,
   "metadata": {
    "ExecuteTime": {
     "end_time": "2023-05-19T22:29:44.559216Z",
     "start_time": "2023-05-19T22:29:44.535579Z"
    }
   },
   "outputs": [
    {
     "data": {
      "text/plain": "   id     V1      V2  V3  V4  V5  V6  V7    V8  V9  ...  V33  V34  V35    V36  \\\n0   1  3.919  2.6909   0   0   0   0   0  31.4   2  ...    0    0    0  2.949   \n1   2  4.170  2.1144   0   0   0   0   0  30.8   1  ...    0    0    0  3.315   \n2   3  3.932  3.2512   0   0   0   0   0  26.7   2  ...    0    0    1  3.076   \n3   4  3.000  2.7098   0   0   0   0   0  20.0   0  ...    0    0    1  3.046   \n4   5  4.236  3.3944   0   0   0   0   0  29.4   2  ...    0    0    0  3.351   \n\n     V37  V38    V39  V40  V41  Class  \n0  1.591    0  7.253    0    0      2  \n1  1.967    0  7.257    0    0      2  \n2  2.417    0  7.601    0    0      2  \n3  5.000    0  6.690    0    0      2  \n4  2.405    0  8.003    0    0      2  \n\n[5 rows x 43 columns]",
      "text/html": "<div>\n<style scoped>\n    .dataframe tbody tr th:only-of-type {\n        vertical-align: middle;\n    }\n\n    .dataframe tbody tr th {\n        vertical-align: top;\n    }\n\n    .dataframe thead th {\n        text-align: right;\n    }\n</style>\n<table border=\"1\" class=\"dataframe\">\n  <thead>\n    <tr style=\"text-align: right;\">\n      <th></th>\n      <th>id</th>\n      <th>V1</th>\n      <th>V2</th>\n      <th>V3</th>\n      <th>V4</th>\n      <th>V5</th>\n      <th>V6</th>\n      <th>V7</th>\n      <th>V8</th>\n      <th>V9</th>\n      <th>...</th>\n      <th>V33</th>\n      <th>V34</th>\n      <th>V35</th>\n      <th>V36</th>\n      <th>V37</th>\n      <th>V38</th>\n      <th>V39</th>\n      <th>V40</th>\n      <th>V41</th>\n      <th>Class</th>\n    </tr>\n  </thead>\n  <tbody>\n    <tr>\n      <th>0</th>\n      <td>1</td>\n      <td>3.919</td>\n      <td>2.6909</td>\n      <td>0</td>\n      <td>0</td>\n      <td>0</td>\n      <td>0</td>\n      <td>0</td>\n      <td>31.4</td>\n      <td>2</td>\n      <td>...</td>\n      <td>0</td>\n      <td>0</td>\n      <td>0</td>\n      <td>2.949</td>\n      <td>1.591</td>\n      <td>0</td>\n      <td>7.253</td>\n      <td>0</td>\n      <td>0</td>\n      <td>2</td>\n    </tr>\n    <tr>\n      <th>1</th>\n      <td>2</td>\n      <td>4.170</td>\n      <td>2.1144</td>\n      <td>0</td>\n      <td>0</td>\n      <td>0</td>\n      <td>0</td>\n      <td>0</td>\n      <td>30.8</td>\n      <td>1</td>\n      <td>...</td>\n      <td>0</td>\n      <td>0</td>\n      <td>0</td>\n      <td>3.315</td>\n      <td>1.967</td>\n      <td>0</td>\n      <td>7.257</td>\n      <td>0</td>\n      <td>0</td>\n      <td>2</td>\n    </tr>\n    <tr>\n      <th>2</th>\n      <td>3</td>\n      <td>3.932</td>\n      <td>3.2512</td>\n      <td>0</td>\n      <td>0</td>\n      <td>0</td>\n      <td>0</td>\n      <td>0</td>\n      <td>26.7</td>\n      <td>2</td>\n      <td>...</td>\n      <td>0</td>\n      <td>0</td>\n      <td>1</td>\n      <td>3.076</td>\n      <td>2.417</td>\n      <td>0</td>\n      <td>7.601</td>\n      <td>0</td>\n      <td>0</td>\n      <td>2</td>\n    </tr>\n    <tr>\n      <th>3</th>\n      <td>4</td>\n      <td>3.000</td>\n      <td>2.7098</td>\n      <td>0</td>\n      <td>0</td>\n      <td>0</td>\n      <td>0</td>\n      <td>0</td>\n      <td>20.0</td>\n      <td>0</td>\n      <td>...</td>\n      <td>0</td>\n      <td>0</td>\n      <td>1</td>\n      <td>3.046</td>\n      <td>5.000</td>\n      <td>0</td>\n      <td>6.690</td>\n      <td>0</td>\n      <td>0</td>\n      <td>2</td>\n    </tr>\n    <tr>\n      <th>4</th>\n      <td>5</td>\n      <td>4.236</td>\n      <td>3.3944</td>\n      <td>0</td>\n      <td>0</td>\n      <td>0</td>\n      <td>0</td>\n      <td>0</td>\n      <td>29.4</td>\n      <td>2</td>\n      <td>...</td>\n      <td>0</td>\n      <td>0</td>\n      <td>0</td>\n      <td>3.351</td>\n      <td>2.405</td>\n      <td>0</td>\n      <td>8.003</td>\n      <td>0</td>\n      <td>0</td>\n      <td>2</td>\n    </tr>\n  </tbody>\n</table>\n<p>5 rows × 43 columns</p>\n</div>"
     },
     "execution_count": 35,
     "metadata": {},
     "output_type": "execute_result"
    }
   ],
   "source": [
    "df = pd.read_csv('biodeg.csv')\n",
    "df.head()"
   ]
  },
  {
   "cell_type": "code",
   "execution_count": 36,
   "outputs": [
    {
     "data": {
      "text/plain": "id       0\nV1       0\nV2       0\nV3       0\nV4       0\nV5       0\nV6       0\nV7       0\nV8       0\nV9       0\nV10      0\nV11      0\nV12      0\nV13      0\nV14      0\nV15      0\nV16      0\nV17      0\nV18      0\nV19      0\nV20      0\nV21      0\nV22      0\nV23      0\nV24      0\nV25      0\nV26      0\nV27      0\nV28      0\nV29      0\nV30      0\nV31      0\nV32      0\nV33      0\nV34      0\nV35      0\nV36      0\nV37      0\nV38      0\nV39      0\nV40      0\nV41      0\nClass    0\ndtype: int64"
     },
     "execution_count": 36,
     "metadata": {},
     "output_type": "execute_result"
    }
   ],
   "source": [
    "df.isnull().sum()"
   ],
   "metadata": {
    "collapsed": false,
    "ExecuteTime": {
     "end_time": "2023-05-19T22:29:50.977066Z",
     "start_time": "2023-05-19T22:29:50.976593Z"
    }
   }
  },
  {
   "cell_type": "code",
   "execution_count": 37,
   "outputs": [
    {
     "data": {
      "text/plain": "               id           V1           V2           V3           V4  \\\ncount  1055.00000  1055.000000  1055.000000  1055.000000  1055.000000   \nmean    528.00000     4.782644     3.069508     0.716588     0.042654   \nstd     304.69657     0.546916     0.831308     1.462452     0.256010   \nmin       1.00000     2.000000     0.803900     0.000000     0.000000   \n25%     264.50000     4.481000     2.502750     0.000000     0.000000   \n50%     528.00000     4.828000     3.046300     0.000000     0.000000   \n75%     791.50000     5.125000     3.437650     1.000000     0.000000   \nmax    1055.00000     6.496000     9.177500    12.000000     3.000000   \n\n                V5           V6           V7           V8           V9  ...  \\\ncount  1055.000000  1055.000000  1055.000000  1055.000000  1055.000000  ...   \nmean      0.980095     0.290047     1.646445    37.055640     1.376303  ...   \nstd       2.332955     1.073771     2.224822     9.144466     1.963521  ...   \nmin       0.000000     0.000000     0.000000     0.000000     0.000000  ...   \n25%       0.000000     0.000000     0.000000    30.450000     0.000000  ...   \n50%       0.000000     0.000000     1.000000    37.500000     1.000000  ...   \n75%       1.000000     0.000000     3.000000    43.400000     2.000000  ...   \nmax      36.000000    13.000000    18.000000    60.700000    24.000000  ...   \n\n               V33          V34          V35          V36          V37  \\\ncount  1055.000000  1055.000000  1055.000000  1055.000000  1055.000000   \nmean      0.883412     1.274882     0.961137     3.918240     2.558417   \nstd       1.520467     2.273994     1.257013     0.999602     0.642765   \nmin       0.000000     0.000000     0.000000     2.267000     1.467000   \n25%       0.000000     0.000000     0.000000     3.487500     2.103000   \n50%       0.000000     0.000000     1.000000     3.726000     2.458000   \n75%       1.000000     2.000000     2.000000     3.987000     2.870500   \nmax      12.000000    18.000000     7.000000    10.695000     5.825000   \n\n               V38          V39          V40          V41        Class  \ncount  1055.000000  1055.000000  1055.000000  1055.000000  1055.000000  \nmean      0.686256     8.629492     0.051185     0.723223     1.337441  \nstd       1.090389     1.241986     0.318970     2.239286     0.473061  \nmin       0.000000     4.917000     0.000000     0.000000     1.000000  \n25%       0.000000     7.991000     0.000000     0.000000     1.000000  \n50%       0.000000     8.499000     0.000000     0.000000     1.000000  \n75%       1.000000     9.020500     0.000000     0.000000     2.000000  \nmax       8.000000    14.700000     4.000000    27.000000     2.000000  \n\n[8 rows x 43 columns]",
      "text/html": "<div>\n<style scoped>\n    .dataframe tbody tr th:only-of-type {\n        vertical-align: middle;\n    }\n\n    .dataframe tbody tr th {\n        vertical-align: top;\n    }\n\n    .dataframe thead th {\n        text-align: right;\n    }\n</style>\n<table border=\"1\" class=\"dataframe\">\n  <thead>\n    <tr style=\"text-align: right;\">\n      <th></th>\n      <th>id</th>\n      <th>V1</th>\n      <th>V2</th>\n      <th>V3</th>\n      <th>V4</th>\n      <th>V5</th>\n      <th>V6</th>\n      <th>V7</th>\n      <th>V8</th>\n      <th>V9</th>\n      <th>...</th>\n      <th>V33</th>\n      <th>V34</th>\n      <th>V35</th>\n      <th>V36</th>\n      <th>V37</th>\n      <th>V38</th>\n      <th>V39</th>\n      <th>V40</th>\n      <th>V41</th>\n      <th>Class</th>\n    </tr>\n  </thead>\n  <tbody>\n    <tr>\n      <th>count</th>\n      <td>1055.00000</td>\n      <td>1055.000000</td>\n      <td>1055.000000</td>\n      <td>1055.000000</td>\n      <td>1055.000000</td>\n      <td>1055.000000</td>\n      <td>1055.000000</td>\n      <td>1055.000000</td>\n      <td>1055.000000</td>\n      <td>1055.000000</td>\n      <td>...</td>\n      <td>1055.000000</td>\n      <td>1055.000000</td>\n      <td>1055.000000</td>\n      <td>1055.000000</td>\n      <td>1055.000000</td>\n      <td>1055.000000</td>\n      <td>1055.000000</td>\n      <td>1055.000000</td>\n      <td>1055.000000</td>\n      <td>1055.000000</td>\n    </tr>\n    <tr>\n      <th>mean</th>\n      <td>528.00000</td>\n      <td>4.782644</td>\n      <td>3.069508</td>\n      <td>0.716588</td>\n      <td>0.042654</td>\n      <td>0.980095</td>\n      <td>0.290047</td>\n      <td>1.646445</td>\n      <td>37.055640</td>\n      <td>1.376303</td>\n      <td>...</td>\n      <td>0.883412</td>\n      <td>1.274882</td>\n      <td>0.961137</td>\n      <td>3.918240</td>\n      <td>2.558417</td>\n      <td>0.686256</td>\n      <td>8.629492</td>\n      <td>0.051185</td>\n      <td>0.723223</td>\n      <td>1.337441</td>\n    </tr>\n    <tr>\n      <th>std</th>\n      <td>304.69657</td>\n      <td>0.546916</td>\n      <td>0.831308</td>\n      <td>1.462452</td>\n      <td>0.256010</td>\n      <td>2.332955</td>\n      <td>1.073771</td>\n      <td>2.224822</td>\n      <td>9.144466</td>\n      <td>1.963521</td>\n      <td>...</td>\n      <td>1.520467</td>\n      <td>2.273994</td>\n      <td>1.257013</td>\n      <td>0.999602</td>\n      <td>0.642765</td>\n      <td>1.090389</td>\n      <td>1.241986</td>\n      <td>0.318970</td>\n      <td>2.239286</td>\n      <td>0.473061</td>\n    </tr>\n    <tr>\n      <th>min</th>\n      <td>1.00000</td>\n      <td>2.000000</td>\n      <td>0.803900</td>\n      <td>0.000000</td>\n      <td>0.000000</td>\n      <td>0.000000</td>\n      <td>0.000000</td>\n      <td>0.000000</td>\n      <td>0.000000</td>\n      <td>0.000000</td>\n      <td>...</td>\n      <td>0.000000</td>\n      <td>0.000000</td>\n      <td>0.000000</td>\n      <td>2.267000</td>\n      <td>1.467000</td>\n      <td>0.000000</td>\n      <td>4.917000</td>\n      <td>0.000000</td>\n      <td>0.000000</td>\n      <td>1.000000</td>\n    </tr>\n    <tr>\n      <th>25%</th>\n      <td>264.50000</td>\n      <td>4.481000</td>\n      <td>2.502750</td>\n      <td>0.000000</td>\n      <td>0.000000</td>\n      <td>0.000000</td>\n      <td>0.000000</td>\n      <td>0.000000</td>\n      <td>30.450000</td>\n      <td>0.000000</td>\n      <td>...</td>\n      <td>0.000000</td>\n      <td>0.000000</td>\n      <td>0.000000</td>\n      <td>3.487500</td>\n      <td>2.103000</td>\n      <td>0.000000</td>\n      <td>7.991000</td>\n      <td>0.000000</td>\n      <td>0.000000</td>\n      <td>1.000000</td>\n    </tr>\n    <tr>\n      <th>50%</th>\n      <td>528.00000</td>\n      <td>4.828000</td>\n      <td>3.046300</td>\n      <td>0.000000</td>\n      <td>0.000000</td>\n      <td>0.000000</td>\n      <td>0.000000</td>\n      <td>1.000000</td>\n      <td>37.500000</td>\n      <td>1.000000</td>\n      <td>...</td>\n      <td>0.000000</td>\n      <td>0.000000</td>\n      <td>1.000000</td>\n      <td>3.726000</td>\n      <td>2.458000</td>\n      <td>0.000000</td>\n      <td>8.499000</td>\n      <td>0.000000</td>\n      <td>0.000000</td>\n      <td>1.000000</td>\n    </tr>\n    <tr>\n      <th>75%</th>\n      <td>791.50000</td>\n      <td>5.125000</td>\n      <td>3.437650</td>\n      <td>1.000000</td>\n      <td>0.000000</td>\n      <td>1.000000</td>\n      <td>0.000000</td>\n      <td>3.000000</td>\n      <td>43.400000</td>\n      <td>2.000000</td>\n      <td>...</td>\n      <td>1.000000</td>\n      <td>2.000000</td>\n      <td>2.000000</td>\n      <td>3.987000</td>\n      <td>2.870500</td>\n      <td>1.000000</td>\n      <td>9.020500</td>\n      <td>0.000000</td>\n      <td>0.000000</td>\n      <td>2.000000</td>\n    </tr>\n    <tr>\n      <th>max</th>\n      <td>1055.00000</td>\n      <td>6.496000</td>\n      <td>9.177500</td>\n      <td>12.000000</td>\n      <td>3.000000</td>\n      <td>36.000000</td>\n      <td>13.000000</td>\n      <td>18.000000</td>\n      <td>60.700000</td>\n      <td>24.000000</td>\n      <td>...</td>\n      <td>12.000000</td>\n      <td>18.000000</td>\n      <td>7.000000</td>\n      <td>10.695000</td>\n      <td>5.825000</td>\n      <td>8.000000</td>\n      <td>14.700000</td>\n      <td>4.000000</td>\n      <td>27.000000</td>\n      <td>2.000000</td>\n    </tr>\n  </tbody>\n</table>\n<p>8 rows × 43 columns</p>\n</div>"
     },
     "execution_count": 37,
     "metadata": {},
     "output_type": "execute_result"
    }
   ],
   "source": [
    "df.describe()"
   ],
   "metadata": {
    "collapsed": false,
    "ExecuteTime": {
     "end_time": "2023-05-19T22:30:00.521299Z",
     "start_time": "2023-05-19T22:30:00.473183Z"
    }
   }
  },
  {
   "cell_type": "markdown",
   "source": [
    "#### Tests"
   ],
   "metadata": {
    "collapsed": false
   },
   "outputs": [],
   "execution_count": null
  },
  {
   "cell_type": "code",
   "execution_count": 26,
   "outputs": [
    {
     "name": "stdout",
     "output_type": "stream",
     "text": [
      "Random Forest Classifier from sklearn using 'gini' criterion:\n",
      "Accuracy: 0.8675079\n",
      "\n",
      "Random Forest Classifier from sklearn using 'entropy' criterion:\n",
      "Accuracy: 0.8706625\n",
      "\n",
      "Random Forest Classifier from sklearn using 'log_loss' criterion:\n",
      "Accuracy: 0.8832808\n",
      "\n",
      "Our model of Random Forest Classifier:\n",
      "Highest scored criterion in our implementation: 'gini'\n",
      "Accuracy: 0.7066246\n",
      "Time: 10 minutes and 54.85 seconds\n",
      "\n",
      "Our model of Random Forest Classifier but each tree is choosing the best criterion:\n",
      "Most used criterion in our implementation: 'gini'\n",
      "Accuracy: 0.7066246\n",
      "Time: 10 minutes and 51.29 seconds\n"
     ]
    }
   ],
   "source": [
    "test_model(df)"
   ],
   "metadata": {
    "collapsed": false,
    "ExecuteTime": {
     "end_time": "2023-05-19T22:07:02.113087Z",
     "start_time": "2023-05-19T21:45:15.564791Z"
    }
   }
  },
  {
   "cell_type": "markdown",
   "source": [
    "### Dataset 3 - Diabetes"
   ],
   "metadata": {
    "collapsed": false
   },
   "outputs": []
  },
  {
   "cell_type": "code",
   "execution_count": 45,
   "outputs": [
    {
     "data": {
      "text/plain": "   id  'preg'  'plas'  'pres'  'skin'  'insu'  'mass'  'pedi'  'age'  \\\n0   1       6     148      72      35       0    33.6   0.627     50   \n1   2       1      85      66      29       0    26.6   0.351     31   \n2   3       8     183      64       0       0    23.3   0.672     32   \n3   4       1      89      66      23      94    28.1   0.167     21   \n4   5       0     137      40      35     168    43.1   2.288     33   \n\n           'class'  \n0  tested_positive  \n1  tested_negative  \n2  tested_positive  \n3  tested_negative  \n4  tested_positive  ",
      "text/html": "<div>\n<style scoped>\n    .dataframe tbody tr th:only-of-type {\n        vertical-align: middle;\n    }\n\n    .dataframe tbody tr th {\n        vertical-align: top;\n    }\n\n    .dataframe thead th {\n        text-align: right;\n    }\n</style>\n<table border=\"1\" class=\"dataframe\">\n  <thead>\n    <tr style=\"text-align: right;\">\n      <th></th>\n      <th>id</th>\n      <th>'preg'</th>\n      <th>'plas'</th>\n      <th>'pres'</th>\n      <th>'skin'</th>\n      <th>'insu'</th>\n      <th>'mass'</th>\n      <th>'pedi'</th>\n      <th>'age'</th>\n      <th>'class'</th>\n    </tr>\n  </thead>\n  <tbody>\n    <tr>\n      <th>0</th>\n      <td>1</td>\n      <td>6</td>\n      <td>148</td>\n      <td>72</td>\n      <td>35</td>\n      <td>0</td>\n      <td>33.6</td>\n      <td>0.627</td>\n      <td>50</td>\n      <td>tested_positive</td>\n    </tr>\n    <tr>\n      <th>1</th>\n      <td>2</td>\n      <td>1</td>\n      <td>85</td>\n      <td>66</td>\n      <td>29</td>\n      <td>0</td>\n      <td>26.6</td>\n      <td>0.351</td>\n      <td>31</td>\n      <td>tested_negative</td>\n    </tr>\n    <tr>\n      <th>2</th>\n      <td>3</td>\n      <td>8</td>\n      <td>183</td>\n      <td>64</td>\n      <td>0</td>\n      <td>0</td>\n      <td>23.3</td>\n      <td>0.672</td>\n      <td>32</td>\n      <td>tested_positive</td>\n    </tr>\n    <tr>\n      <th>3</th>\n      <td>4</td>\n      <td>1</td>\n      <td>89</td>\n      <td>66</td>\n      <td>23</td>\n      <td>94</td>\n      <td>28.1</td>\n      <td>0.167</td>\n      <td>21</td>\n      <td>tested_negative</td>\n    </tr>\n    <tr>\n      <th>4</th>\n      <td>5</td>\n      <td>0</td>\n      <td>137</td>\n      <td>40</td>\n      <td>35</td>\n      <td>168</td>\n      <td>43.1</td>\n      <td>2.288</td>\n      <td>33</td>\n      <td>tested_positive</td>\n    </tr>\n  </tbody>\n</table>\n</div>"
     },
     "execution_count": 45,
     "metadata": {},
     "output_type": "execute_result"
    }
   ],
   "source": [
    "df = pd.read_csv('diabetes.csv')\n",
    "df.head()"
   ],
   "metadata": {
    "collapsed": false,
    "ExecuteTime": {
     "end_time": "2023-05-19T22:32:42.674105Z",
     "start_time": "2023-05-19T22:32:42.663129Z"
    }
   }
  },
  {
   "cell_type": "code",
   "execution_count": 46,
   "outputs": [
    {
     "data": {
      "text/plain": "   id  'preg'  'plas'  'pres'  'skin'  'insu'  'mass'  'pedi'  'age'  'class'\n0   1       6     148      72      35       0    33.6   0.627     50        0\n1   2       1      85      66      29       0    26.6   0.351     31        1\n2   3       8     183      64       0       0    23.3   0.672     32        0\n3   4       1      89      66      23      94    28.1   0.167     21        1\n4   5       0     137      40      35     168    43.1   2.288     33        0",
      "text/html": "<div>\n<style scoped>\n    .dataframe tbody tr th:only-of-type {\n        vertical-align: middle;\n    }\n\n    .dataframe tbody tr th {\n        vertical-align: top;\n    }\n\n    .dataframe thead th {\n        text-align: right;\n    }\n</style>\n<table border=\"1\" class=\"dataframe\">\n  <thead>\n    <tr style=\"text-align: right;\">\n      <th></th>\n      <th>id</th>\n      <th>'preg'</th>\n      <th>'plas'</th>\n      <th>'pres'</th>\n      <th>'skin'</th>\n      <th>'insu'</th>\n      <th>'mass'</th>\n      <th>'pedi'</th>\n      <th>'age'</th>\n      <th>'class'</th>\n    </tr>\n  </thead>\n  <tbody>\n    <tr>\n      <th>0</th>\n      <td>1</td>\n      <td>6</td>\n      <td>148</td>\n      <td>72</td>\n      <td>35</td>\n      <td>0</td>\n      <td>33.6</td>\n      <td>0.627</td>\n      <td>50</td>\n      <td>0</td>\n    </tr>\n    <tr>\n      <th>1</th>\n      <td>2</td>\n      <td>1</td>\n      <td>85</td>\n      <td>66</td>\n      <td>29</td>\n      <td>0</td>\n      <td>26.6</td>\n      <td>0.351</td>\n      <td>31</td>\n      <td>1</td>\n    </tr>\n    <tr>\n      <th>2</th>\n      <td>3</td>\n      <td>8</td>\n      <td>183</td>\n      <td>64</td>\n      <td>0</td>\n      <td>0</td>\n      <td>23.3</td>\n      <td>0.672</td>\n      <td>32</td>\n      <td>0</td>\n    </tr>\n    <tr>\n      <th>3</th>\n      <td>4</td>\n      <td>1</td>\n      <td>89</td>\n      <td>66</td>\n      <td>23</td>\n      <td>94</td>\n      <td>28.1</td>\n      <td>0.167</td>\n      <td>21</td>\n      <td>1</td>\n    </tr>\n    <tr>\n      <th>4</th>\n      <td>5</td>\n      <td>0</td>\n      <td>137</td>\n      <td>40</td>\n      <td>35</td>\n      <td>168</td>\n      <td>43.1</td>\n      <td>2.288</td>\n      <td>33</td>\n      <td>0</td>\n    </tr>\n  </tbody>\n</table>\n</div>"
     },
     "execution_count": 46,
     "metadata": {},
     "output_type": "execute_result"
    }
   ],
   "source": [
    "df[\"'class'\"]=df[\"'class'\"].map({'tested_positive': 0, 'tested_negative': 1})\n",
    "df.head()"
   ],
   "metadata": {
    "collapsed": false,
    "ExecuteTime": {
     "end_time": "2023-05-19T22:32:43.030782Z",
     "start_time": "2023-05-19T22:32:43.025768Z"
    }
   }
  },
  {
   "cell_type": "code",
   "execution_count": 47,
   "outputs": [
    {
     "data": {
      "text/plain": "id         0\n'preg'     0\n'plas'     0\n'pres'     0\n'skin'     0\n'insu'     0\n'mass'     0\n'pedi'     0\n'age'      0\n'class'    0\ndtype: int64"
     },
     "execution_count": 47,
     "metadata": {},
     "output_type": "execute_result"
    }
   ],
   "source": [
    "df.isnull().sum()"
   ],
   "metadata": {
    "collapsed": false,
    "ExecuteTime": {
     "end_time": "2023-05-19T22:32:43.693409Z",
     "start_time": "2023-05-19T22:32:43.686282Z"
    }
   }
  },
  {
   "cell_type": "code",
   "execution_count": 48,
   "outputs": [
    {
     "data": {
      "text/plain": "               id      'preg'      'plas'      'pres'      'skin'      'insu'  \\\ncount  768.000000  768.000000  768.000000  768.000000  768.000000  768.000000   \nmean   384.500000    3.845052  120.894531   69.105469   20.536458   79.799479   \nstd    221.846794    3.369578   31.972618   19.355807   15.952218  115.244002   \nmin      1.000000    0.000000    0.000000    0.000000    0.000000    0.000000   \n25%    192.750000    1.000000   99.000000   62.000000    0.000000    0.000000   \n50%    384.500000    3.000000  117.000000   72.000000   23.000000   30.500000   \n75%    576.250000    6.000000  140.250000   80.000000   32.000000  127.250000   \nmax    768.000000   17.000000  199.000000  122.000000   99.000000  846.000000   \n\n           'mass'      'pedi'       'age'     'class'  \ncount  768.000000  768.000000  768.000000  768.000000  \nmean    31.992578    0.471876   33.240885    0.651042  \nstd      7.884160    0.331329   11.760232    0.476951  \nmin      0.000000    0.078000   21.000000    0.000000  \n25%     27.300000    0.243750   24.000000    0.000000  \n50%     32.000000    0.372500   29.000000    1.000000  \n75%     36.600000    0.626250   41.000000    1.000000  \nmax     67.100000    2.420000   81.000000    1.000000  ",
      "text/html": "<div>\n<style scoped>\n    .dataframe tbody tr th:only-of-type {\n        vertical-align: middle;\n    }\n\n    .dataframe tbody tr th {\n        vertical-align: top;\n    }\n\n    .dataframe thead th {\n        text-align: right;\n    }\n</style>\n<table border=\"1\" class=\"dataframe\">\n  <thead>\n    <tr style=\"text-align: right;\">\n      <th></th>\n      <th>id</th>\n      <th>'preg'</th>\n      <th>'plas'</th>\n      <th>'pres'</th>\n      <th>'skin'</th>\n      <th>'insu'</th>\n      <th>'mass'</th>\n      <th>'pedi'</th>\n      <th>'age'</th>\n      <th>'class'</th>\n    </tr>\n  </thead>\n  <tbody>\n    <tr>\n      <th>count</th>\n      <td>768.000000</td>\n      <td>768.000000</td>\n      <td>768.000000</td>\n      <td>768.000000</td>\n      <td>768.000000</td>\n      <td>768.000000</td>\n      <td>768.000000</td>\n      <td>768.000000</td>\n      <td>768.000000</td>\n      <td>768.000000</td>\n    </tr>\n    <tr>\n      <th>mean</th>\n      <td>384.500000</td>\n      <td>3.845052</td>\n      <td>120.894531</td>\n      <td>69.105469</td>\n      <td>20.536458</td>\n      <td>79.799479</td>\n      <td>31.992578</td>\n      <td>0.471876</td>\n      <td>33.240885</td>\n      <td>0.651042</td>\n    </tr>\n    <tr>\n      <th>std</th>\n      <td>221.846794</td>\n      <td>3.369578</td>\n      <td>31.972618</td>\n      <td>19.355807</td>\n      <td>15.952218</td>\n      <td>115.244002</td>\n      <td>7.884160</td>\n      <td>0.331329</td>\n      <td>11.760232</td>\n      <td>0.476951</td>\n    </tr>\n    <tr>\n      <th>min</th>\n      <td>1.000000</td>\n      <td>0.000000</td>\n      <td>0.000000</td>\n      <td>0.000000</td>\n      <td>0.000000</td>\n      <td>0.000000</td>\n      <td>0.000000</td>\n      <td>0.078000</td>\n      <td>21.000000</td>\n      <td>0.000000</td>\n    </tr>\n    <tr>\n      <th>25%</th>\n      <td>192.750000</td>\n      <td>1.000000</td>\n      <td>99.000000</td>\n      <td>62.000000</td>\n      <td>0.000000</td>\n      <td>0.000000</td>\n      <td>27.300000</td>\n      <td>0.243750</td>\n      <td>24.000000</td>\n      <td>0.000000</td>\n    </tr>\n    <tr>\n      <th>50%</th>\n      <td>384.500000</td>\n      <td>3.000000</td>\n      <td>117.000000</td>\n      <td>72.000000</td>\n      <td>23.000000</td>\n      <td>30.500000</td>\n      <td>32.000000</td>\n      <td>0.372500</td>\n      <td>29.000000</td>\n      <td>1.000000</td>\n    </tr>\n    <tr>\n      <th>75%</th>\n      <td>576.250000</td>\n      <td>6.000000</td>\n      <td>140.250000</td>\n      <td>80.000000</td>\n      <td>32.000000</td>\n      <td>127.250000</td>\n      <td>36.600000</td>\n      <td>0.626250</td>\n      <td>41.000000</td>\n      <td>1.000000</td>\n    </tr>\n    <tr>\n      <th>max</th>\n      <td>768.000000</td>\n      <td>17.000000</td>\n      <td>199.000000</td>\n      <td>122.000000</td>\n      <td>99.000000</td>\n      <td>846.000000</td>\n      <td>67.100000</td>\n      <td>2.420000</td>\n      <td>81.000000</td>\n      <td>1.000000</td>\n    </tr>\n  </tbody>\n</table>\n</div>"
     },
     "execution_count": 48,
     "metadata": {},
     "output_type": "execute_result"
    }
   ],
   "source": [
    "df.describe()"
   ],
   "metadata": {
    "collapsed": false,
    "ExecuteTime": {
     "end_time": "2023-05-19T22:32:44.333192Z",
     "start_time": "2023-05-19T22:32:44.306530Z"
    }
   }
  },
  {
   "cell_type": "markdown",
   "source": [
    "#### Tests"
   ],
   "metadata": {
    "collapsed": false
   },
   "outputs": []
  },
  {
   "cell_type": "code",
   "execution_count": 29,
   "outputs": [
    {
     "name": "stdout",
     "output_type": "stream",
     "text": [
      "Random Forest Classifier from sklearn using 'gini' criterion:\n",
      "Accuracy: 0.7489177\n",
      "\n",
      "Random Forest Classifier from sklearn using 'entropy' criterion:\n",
      "Accuracy: 0.7272727\n",
      "\n",
      "Random Forest Classifier from sklearn using 'log_loss' criterion:\n",
      "Accuracy: 0.7575758\n",
      "\n",
      "Our model of Random Forest Classifier:\n",
      "Highest scored criterion in our implementation: 'gini'\n",
      "Accuracy: 0.6623377\n",
      "Time: 2 minutes and 14.8 seconds\n",
      "\n",
      "Our model of Random Forest Classifier but each tree is choosing the best criterion:\n",
      "Most used criterion in our implementation: 'gini'\n",
      "Accuracy: 0.6580087\n",
      "Time: 2 minutes and 18.35 seconds\n"
     ]
    }
   ],
   "source": [
    "test_model(df)"
   ],
   "metadata": {
    "collapsed": false,
    "ExecuteTime": {
     "end_time": "2023-05-19T22:11:35.614602Z",
     "start_time": "2023-05-19T22:07:02.180589Z"
    }
   }
  },
  {
   "cell_type": "code",
   "execution_count": 29,
   "outputs": [],
   "source": [],
   "metadata": {
    "collapsed": false,
    "ExecuteTime": {
     "end_time": "2023-05-19T22:11:35.615784Z",
     "start_time": "2023-05-19T22:11:35.613404Z"
    }
   }
  }
 ],
 "metadata": {
  "kernelspec": {
   "display_name": "Python 3 (ipykernel)",
   "language": "python",
   "name": "python3"
  },
  "language_info": {
   "codemirror_mode": {
    "name": "ipython",
    "version": 3
   },
   "file_extension": ".py",
   "mimetype": "text/x-python",
   "name": "python",
   "nbconvert_exporter": "python",
   "pygments_lexer": "ipython3",
   "version": "3.10.9"
  }
 },
 "nbformat": 4,
 "nbformat_minor": 1
}
