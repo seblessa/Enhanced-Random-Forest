{
 "cells": [
  {
   "cell_type": "markdown",
   "source": [
    "# Trabalho prático AC"
   ],
   "metadata": {
    "collapsed": false
   }
  },
  {
   "cell_type": "markdown",
   "source": [
    "## Trabalho realizado por:\n",
    "\n",
    "Margarida Vila-chã, 20210504\n",
    "\n",
    "Miguel Duarte Silva, 20210504\n",
    "\n",
    "Sebastião Lessa, 202103238\n"
   ],
   "metadata": {
    "collapsed": false
   }
  },
  {
   "cell_type": "markdown",
   "source": [
    "## Algoritmo escolhido e breve explicação:\n",
    "\n",
    "O algoritmo escolhido pelo nosso grupo foi o Random Forrest.\n",
    "\n",
    "Este algoritmo é um algoritmo de aprendizagem computacional supervisionado. Ele usa uma combinação de árvores de decisão aleatórias. O processo começa com a criação de um grande número de árvores (floresta), em que cada uma das árvores criadas é treinada com uma amostra diferente. Isto permite a criação de árvores suficientemente diferentes, o que leva a que elas juntas consigam lidar com uma ampla variedade de situações, reduzindo o risco de overffitting.\n",
    "\n"
   ],
   "metadata": {
    "collapsed": false
   }
  },
  {
   "cell_type": "markdown",
   "source": [],
   "metadata": {
    "collapsed": false
   }
  },
  {
   "cell_type": "code",
   "execution_count": 1,
   "metadata": {
    "collapsed": true,
    "ExecuteTime": {
     "start_time": "2023-05-04T15:38:07.481777Z",
     "end_time": "2023-05-04T15:38:08.595240Z"
    }
   },
   "outputs": [],
   "source": [
    "import pandas as pd\n"
   ]
  },
  {
   "cell_type": "code",
   "execution_count": 2,
   "outputs": [
    {
     "data": {
      "text/plain": "    checking_status  duration                    credit_history  \\\n0              '<0'         6  'critical/other existing credit'   \n1        '0<=X<200'        48                   'existing paid'   \n2     'no checking'        12  'critical/other existing credit'   \n3              '<0'        42                   'existing paid'   \n4              '<0'        24              'delayed previously'   \n..              ...       ...                               ...   \n995   'no checking'        12                   'existing paid'   \n996            '<0'        30                   'existing paid'   \n997   'no checking'        12                   'existing paid'   \n998            '<0'        45                   'existing paid'   \n999      '0<=X<200'        45  'critical/other existing credit'   \n\n                 purpose  credit_amount      savings_status  employment  \\\n0               radio/tv           1169  'no known savings'       '>=7'   \n1               radio/tv           5951              '<100'    '1<=X<4'   \n2              education           2096              '<100'    '4<=X<7'   \n3    furniture/equipment           7882              '<100'    '4<=X<7'   \n4              'new car'           4870              '<100'    '1<=X<4'   \n..                   ...            ...                 ...         ...   \n995  furniture/equipment           1736              '<100'    '4<=X<7'   \n996           'used car'           3857              '<100'    '1<=X<4'   \n997             radio/tv            804              '<100'       '>=7'   \n998             radio/tv           1845              '<100'    '1<=X<4'   \n999           'used car'           4576        '100<=X<500'  unemployed   \n\n     installment_commitment       personal_status other_parties  ...  \\\n0                         4         'male single'          none  ...   \n1                         2  'female div/dep/mar'          none  ...   \n2                         2         'male single'          none  ...   \n3                         2         'male single'     guarantor  ...   \n4                         3         'male single'          none  ...   \n..                      ...                   ...           ...  ...   \n995                       3  'female div/dep/mar'          none  ...   \n996                       4        'male div/sep'          none  ...   \n997                       4         'male single'          none  ...   \n998                       4         'male single'          none  ...   \n999                       3         'male single'          none  ...   \n\n      property_magnitude age  other_payment_plans     housing  \\\n0          'real estate'  67                 none         own   \n1          'real estate'  22                 none         own   \n2          'real estate'  49                 none         own   \n3       'life insurance'  45                 none  'for free'   \n4    'no known property'  53                 none  'for free'   \n..                   ...  ..                  ...         ...   \n995        'real estate'  31                 none         own   \n996     'life insurance'  40                 none         own   \n997                  car  38                 none         own   \n998  'no known property'  23                 none  'for free'   \n999                  car  27                 none         own   \n\n    existing_credits                          job num_dependents  \\\n0                  2                      skilled              1   \n1                  1                      skilled              1   \n2                  1         'unskilled resident'              2   \n3                  1                      skilled              2   \n4                  2                      skilled              2   \n..               ...                          ...            ...   \n995                1         'unskilled resident'              1   \n996                1  'high qualif/self emp/mgmt'              1   \n997                1                      skilled              1   \n998                1                      skilled              1   \n999                1                      skilled              1   \n\n     own_telephone foreign_worker class  \n0              yes            yes  good  \n1             none            yes   bad  \n2             none            yes  good  \n3             none            yes  good  \n4             none            yes   bad  \n..             ...            ...   ...  \n995           none            yes  good  \n996            yes            yes  good  \n997           none            yes  good  \n998            yes            yes   bad  \n999           none            yes  good  \n\n[1000 rows x 21 columns]",
      "text/html": "<div>\n<style scoped>\n    .dataframe tbody tr th:only-of-type {\n        vertical-align: middle;\n    }\n\n    .dataframe tbody tr th {\n        vertical-align: top;\n    }\n\n    .dataframe thead th {\n        text-align: right;\n    }\n</style>\n<table border=\"1\" class=\"dataframe\">\n  <thead>\n    <tr style=\"text-align: right;\">\n      <th></th>\n      <th>checking_status</th>\n      <th>duration</th>\n      <th>credit_history</th>\n      <th>purpose</th>\n      <th>credit_amount</th>\n      <th>savings_status</th>\n      <th>employment</th>\n      <th>installment_commitment</th>\n      <th>personal_status</th>\n      <th>other_parties</th>\n      <th>...</th>\n      <th>property_magnitude</th>\n      <th>age</th>\n      <th>other_payment_plans</th>\n      <th>housing</th>\n      <th>existing_credits</th>\n      <th>job</th>\n      <th>num_dependents</th>\n      <th>own_telephone</th>\n      <th>foreign_worker</th>\n      <th>class</th>\n    </tr>\n  </thead>\n  <tbody>\n    <tr>\n      <th>0</th>\n      <td>'&lt;0'</td>\n      <td>6</td>\n      <td>'critical/other existing credit'</td>\n      <td>radio/tv</td>\n      <td>1169</td>\n      <td>'no known savings'</td>\n      <td>'&gt;=7'</td>\n      <td>4</td>\n      <td>'male single'</td>\n      <td>none</td>\n      <td>...</td>\n      <td>'real estate'</td>\n      <td>67</td>\n      <td>none</td>\n      <td>own</td>\n      <td>2</td>\n      <td>skilled</td>\n      <td>1</td>\n      <td>yes</td>\n      <td>yes</td>\n      <td>good</td>\n    </tr>\n    <tr>\n      <th>1</th>\n      <td>'0&lt;=X&lt;200'</td>\n      <td>48</td>\n      <td>'existing paid'</td>\n      <td>radio/tv</td>\n      <td>5951</td>\n      <td>'&lt;100'</td>\n      <td>'1&lt;=X&lt;4'</td>\n      <td>2</td>\n      <td>'female div/dep/mar'</td>\n      <td>none</td>\n      <td>...</td>\n      <td>'real estate'</td>\n      <td>22</td>\n      <td>none</td>\n      <td>own</td>\n      <td>1</td>\n      <td>skilled</td>\n      <td>1</td>\n      <td>none</td>\n      <td>yes</td>\n      <td>bad</td>\n    </tr>\n    <tr>\n      <th>2</th>\n      <td>'no checking'</td>\n      <td>12</td>\n      <td>'critical/other existing credit'</td>\n      <td>education</td>\n      <td>2096</td>\n      <td>'&lt;100'</td>\n      <td>'4&lt;=X&lt;7'</td>\n      <td>2</td>\n      <td>'male single'</td>\n      <td>none</td>\n      <td>...</td>\n      <td>'real estate'</td>\n      <td>49</td>\n      <td>none</td>\n      <td>own</td>\n      <td>1</td>\n      <td>'unskilled resident'</td>\n      <td>2</td>\n      <td>none</td>\n      <td>yes</td>\n      <td>good</td>\n    </tr>\n    <tr>\n      <th>3</th>\n      <td>'&lt;0'</td>\n      <td>42</td>\n      <td>'existing paid'</td>\n      <td>furniture/equipment</td>\n      <td>7882</td>\n      <td>'&lt;100'</td>\n      <td>'4&lt;=X&lt;7'</td>\n      <td>2</td>\n      <td>'male single'</td>\n      <td>guarantor</td>\n      <td>...</td>\n      <td>'life insurance'</td>\n      <td>45</td>\n      <td>none</td>\n      <td>'for free'</td>\n      <td>1</td>\n      <td>skilled</td>\n      <td>2</td>\n      <td>none</td>\n      <td>yes</td>\n      <td>good</td>\n    </tr>\n    <tr>\n      <th>4</th>\n      <td>'&lt;0'</td>\n      <td>24</td>\n      <td>'delayed previously'</td>\n      <td>'new car'</td>\n      <td>4870</td>\n      <td>'&lt;100'</td>\n      <td>'1&lt;=X&lt;4'</td>\n      <td>3</td>\n      <td>'male single'</td>\n      <td>none</td>\n      <td>...</td>\n      <td>'no known property'</td>\n      <td>53</td>\n      <td>none</td>\n      <td>'for free'</td>\n      <td>2</td>\n      <td>skilled</td>\n      <td>2</td>\n      <td>none</td>\n      <td>yes</td>\n      <td>bad</td>\n    </tr>\n    <tr>\n      <th>...</th>\n      <td>...</td>\n      <td>...</td>\n      <td>...</td>\n      <td>...</td>\n      <td>...</td>\n      <td>...</td>\n      <td>...</td>\n      <td>...</td>\n      <td>...</td>\n      <td>...</td>\n      <td>...</td>\n      <td>...</td>\n      <td>...</td>\n      <td>...</td>\n      <td>...</td>\n      <td>...</td>\n      <td>...</td>\n      <td>...</td>\n      <td>...</td>\n      <td>...</td>\n      <td>...</td>\n    </tr>\n    <tr>\n      <th>995</th>\n      <td>'no checking'</td>\n      <td>12</td>\n      <td>'existing paid'</td>\n      <td>furniture/equipment</td>\n      <td>1736</td>\n      <td>'&lt;100'</td>\n      <td>'4&lt;=X&lt;7'</td>\n      <td>3</td>\n      <td>'female div/dep/mar'</td>\n      <td>none</td>\n      <td>...</td>\n      <td>'real estate'</td>\n      <td>31</td>\n      <td>none</td>\n      <td>own</td>\n      <td>1</td>\n      <td>'unskilled resident'</td>\n      <td>1</td>\n      <td>none</td>\n      <td>yes</td>\n      <td>good</td>\n    </tr>\n    <tr>\n      <th>996</th>\n      <td>'&lt;0'</td>\n      <td>30</td>\n      <td>'existing paid'</td>\n      <td>'used car'</td>\n      <td>3857</td>\n      <td>'&lt;100'</td>\n      <td>'1&lt;=X&lt;4'</td>\n      <td>4</td>\n      <td>'male div/sep'</td>\n      <td>none</td>\n      <td>...</td>\n      <td>'life insurance'</td>\n      <td>40</td>\n      <td>none</td>\n      <td>own</td>\n      <td>1</td>\n      <td>'high qualif/self emp/mgmt'</td>\n      <td>1</td>\n      <td>yes</td>\n      <td>yes</td>\n      <td>good</td>\n    </tr>\n    <tr>\n      <th>997</th>\n      <td>'no checking'</td>\n      <td>12</td>\n      <td>'existing paid'</td>\n      <td>radio/tv</td>\n      <td>804</td>\n      <td>'&lt;100'</td>\n      <td>'&gt;=7'</td>\n      <td>4</td>\n      <td>'male single'</td>\n      <td>none</td>\n      <td>...</td>\n      <td>car</td>\n      <td>38</td>\n      <td>none</td>\n      <td>own</td>\n      <td>1</td>\n      <td>skilled</td>\n      <td>1</td>\n      <td>none</td>\n      <td>yes</td>\n      <td>good</td>\n    </tr>\n    <tr>\n      <th>998</th>\n      <td>'&lt;0'</td>\n      <td>45</td>\n      <td>'existing paid'</td>\n      <td>radio/tv</td>\n      <td>1845</td>\n      <td>'&lt;100'</td>\n      <td>'1&lt;=X&lt;4'</td>\n      <td>4</td>\n      <td>'male single'</td>\n      <td>none</td>\n      <td>...</td>\n      <td>'no known property'</td>\n      <td>23</td>\n      <td>none</td>\n      <td>'for free'</td>\n      <td>1</td>\n      <td>skilled</td>\n      <td>1</td>\n      <td>yes</td>\n      <td>yes</td>\n      <td>bad</td>\n    </tr>\n    <tr>\n      <th>999</th>\n      <td>'0&lt;=X&lt;200'</td>\n      <td>45</td>\n      <td>'critical/other existing credit'</td>\n      <td>'used car'</td>\n      <td>4576</td>\n      <td>'100&lt;=X&lt;500'</td>\n      <td>unemployed</td>\n      <td>3</td>\n      <td>'male single'</td>\n      <td>none</td>\n      <td>...</td>\n      <td>car</td>\n      <td>27</td>\n      <td>none</td>\n      <td>own</td>\n      <td>1</td>\n      <td>skilled</td>\n      <td>1</td>\n      <td>none</td>\n      <td>yes</td>\n      <td>good</td>\n    </tr>\n  </tbody>\n</table>\n<p>1000 rows × 21 columns</p>\n</div>"
     },
     "execution_count": 2,
     "metadata": {},
     "output_type": "execute_result"
    }
   ],
   "source": [
    "df=pd.read_csv(\"dataset_31_credit-g.csv\")\n",
    "df"
   ],
   "metadata": {
    "collapsed": false,
    "ExecuteTime": {
     "start_time": "2023-05-04T15:38:08.594246Z",
     "end_time": "2023-05-04T15:38:08.616248Z"
    }
   }
  },
  {
   "cell_type": "code",
   "execution_count": null,
   "outputs": [],
   "source": [],
   "metadata": {
    "collapsed": false
   }
  }
 ],
 "metadata": {
  "kernelspec": {
   "display_name": "Python 3",
   "language": "python",
   "name": "python3"
  },
  "language_info": {
   "codemirror_mode": {
    "name": "ipython",
    "version": 2
   },
   "file_extension": ".py",
   "mimetype": "text/x-python",
   "name": "python",
   "nbconvert_exporter": "python",
   "pygments_lexer": "ipython2",
   "version": "2.7.6"
  }
 },
 "nbformat": 4,
 "nbformat_minor": 0
}
