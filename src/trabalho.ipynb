{
 "cells": [
  {
   "cell_type": "markdown",
   "metadata": {},
   "source": [
    "# Trabalho prático AC"
   ]
  },
  {
   "cell_type": "markdown",
   "metadata": {},
   "source": [
    "## Trabalho realizado por:\n",
    "\n",
    "Margarida Vila-chã, 20210504\n",
    "\n",
    "Miguel Duarte Silva, 20210504\n",
    "\n",
    "Sebastião Lessa, 202103238\n"
   ]
  },
  {
   "cell_type": "markdown",
   "metadata": {},
   "source": [
    "## Algoritmo escolhido e breve explicação:\n",
    "\n",
    "O algoritmo escolhido pelo nosso grupo foi o Random Forrest.\n",
    "\n",
    "Este algoritmo é um algoritmo de aprendizagem computacional supervisionado. Ele usa uma combinação de árvores de decisão aleatórias. O processo começa com a criação de um grande número de árvores (floresta), em que cada uma das árvores criadas é treinada com uma amostra diferente. Isto permite a criação de árvores suficientemente diferentes, o que leva a que elas juntas consigam lidar com uma ampla variedade de situações, reduzindo o risco de overffitting.\n",
    "\n",
    "Baseamos-nos nos seguintes data-sets:\n",
    "\n",
    "- [breast-w](https://www.openml.org/search?type=run&id=7413&collections.id=99&run_task.task_id=15)\n",
    "- [qsar-biodeg](https://www.openml.org/search?type=run&id=519587&collections.id=99&run_task.task_id=9957)\n",
    "- [diabetes](https://www.openml.org/search?type=run&id=548&collections.id=99&run_task.task_id=37)\n"
   ]
  },
  {
   "cell_type": "markdown",
   "metadata": {},
   "source": [
    "## Alteração escolhida\n",
    "A alteração que o nosso grupo decidiu fazer no codigo fonte obtido foi a de considerar a utilização de outros tipos de critérios de divisão. O critério pré definido no nosso código fonte é o de entropia, por isso vamos testar com o gini e com o classification error."
   ]
  },
  {
   "cell_type": "markdown",
   "metadata": {
    "ExecuteTime": {
     "end_time": "2023-05-17T18:01:28.593025Z",
     "start_time": "2023-05-17T18:01:28.453152Z"
    }
   },
   "source": [
    "## Import das bibliotecas necessárias:"
   ],
   "outputs": [],
   "execution_count": 482
  },
  {
   "cell_type": "code",
   "execution_count": 88,
   "metadata": {
    "ExecuteTime": {
     "end_time": "2023-05-19T16:45:44.895745Z",
     "start_time": "2023-05-19T16:45:44.852816Z"
    }
   },
   "outputs": [],
   "source": [
    "from IPython.display import Audio\n",
    "from collections import Counter\n",
    "from time import time\n",
    "import numpy as np\n",
    "import pandas as pd\n",
    "from sklearn.base import BaseEstimator, ClassifierMixin\n",
    "from sklearn.utils import resample\n",
    "from sklearn.model_selection import GridSearchCV\n",
    "from sklearn.ensemble import RandomForestClassifier as RF\n",
    "from sklearn.metrics import accuracy_score\n",
    "from sklearn.model_selection import train_test_split"
   ]
  },
  {
   "cell_type": "markdown",
   "source": [
    "## Modelo implementado, sem alteração"
   ],
   "metadata": {
    "collapsed": false
   }
  },
  {
   "cell_type": "code",
   "execution_count": 89,
   "outputs": [],
   "source": [
    "class DecisionTree:\n",
    "    def __init__(self, criterion='gini', max_depth=None):\n",
    "        self.criterion = criterion\n",
    "        self.max_depth = max_depth\n",
    "        self.tree = None\n",
    "\n",
    "    def fit(self, X, y):\n",
    "        self.tree = self._build_tree(X, y, depth=0)\n",
    "\n",
    "    def _build_tree(self, X, y, depth):\n",
    "        num_samples, num_features = X.shape\n",
    "        label_counts = Counter(y)\n",
    "\n",
    "        # Base cases: check termination conditions\n",
    "        if len(label_counts) == 1:\n",
    "            # All samples belong to the same class\n",
    "            return {'class': label_counts.most_common(1)[0][0]}\n",
    "\n",
    "        if depth == self.max_depth or num_samples < 2:\n",
    "            # Reached maximum depth or too few samples remaining\n",
    "            return {'class': label_counts.most_common(1)[0][0]}\n",
    "\n",
    "        if num_features == 0:\n",
    "            # No features remaining to split on\n",
    "            return {'class': label_counts.most_common(1)[0][0]}\n",
    "\n",
    "        # Determine the best feature and split point\n",
    "        best_feature, best_split_point = self._get_best_split(X, y)\n",
    "\n",
    "        # Create the tree node\n",
    "        node = {'feature': best_feature, 'split_point': best_split_point}\n",
    "\n",
    "        # Split the data based on the best feature and split point\n",
    "        left_mask = X[:, best_feature] <= best_split_point\n",
    "        right_mask = X[:, best_feature] > best_split_point\n",
    "\n",
    "        left_X, left_y = X[left_mask], y[left_mask]\n",
    "        right_X, right_y = X[right_mask], y[right_mask]\n",
    "\n",
    "        # Recursively build the left and right subtrees\n",
    "        node['left'] = self._build_tree(left_X, left_y, depth + 1)\n",
    "        node['right'] = self._build_tree(right_X, right_y, depth + 1)\n",
    "\n",
    "        return node\n",
    "\n",
    "    def _compute_score(self, y):\n",
    "        # Compute the score based on the selected criterion\n",
    "        if self.criterion == 'gini':\n",
    "            return self._gini_index(y)\n",
    "        elif self.criterion == 'entropy':\n",
    "            return self._entropy(y)\n",
    "        elif self.criterion == 'log_loss':\n",
    "            return self._log_loss(y)\n",
    "        else:\n",
    "            raise ValueError(\"Invalid criterion: {}\".format(self.criterion))\n",
    "\n",
    "    def predict(self, X):\n",
    "        # Make predictions for the input data\n",
    "        predictions = np.zeros(len(X))\n",
    "\n",
    "        for i, sample in enumerate(X):\n",
    "            predictions[i] = self._traverse_tree(sample, self.tree)\n",
    "\n",
    "        return predictions\n",
    "\n",
    "    def _traverse_tree(self, sample, node):\n",
    "        if 'class' in node:\n",
    "            # Leaf node: return the predicted class\n",
    "            return node['class']\n",
    "\n",
    "        # Internal node: recursively traverse the tree\n",
    "        feature = node['feature']\n",
    "        split_point = node['split_point']\n",
    "\n",
    "        if sample[feature] <= split_point:\n",
    "            return self._traverse_tree(sample, node['left'])\n",
    "        else:\n",
    "            return self._traverse_tree(sample, node['right'])\n",
    "\n",
    "    @staticmethod\n",
    "    def _gini_index(y):\n",
    "        # Compute the Gini index for a given set of labels\n",
    "        _, counts = np.unique(y, return_counts=True)\n",
    "        probabilities = counts / len(y)\n",
    "        gini = 1.0 - np.sum(probabilities ** 2)\n",
    "        return gini\n",
    "\n",
    "    @staticmethod\n",
    "    def _entropy(y):\n",
    "        # Compute the entropy for a given set of labels\n",
    "        _, counts = np.unique(y, return_counts=True)\n",
    "        probabilities = counts / len(y)\n",
    "        entropy = -np.sum(probabilities * np.log2(probabilities))\n",
    "        return entropy\n",
    "\n",
    "    @staticmethod\n",
    "    def _log_loss(y):\n",
    "        # Compute the logarithmic loss for a given set of labels\n",
    "        num_samples = len(y)\n",
    "        unique_classes = np.unique(y)\n",
    "\n",
    "        class_counts = Counter(y)\n",
    "        class_probabilities = np.array([class_counts[c] / num_samples for c in unique_classes])\n",
    "\n",
    "        return -np.sum(class_probabilities * np.log2(class_probabilities))\n",
    "\n",
    "    def _get_best_split(self, X, y):\n",
    "        best_feature = None\n",
    "        best_split_point = None\n",
    "        best_score = -np.inf\n",
    "\n",
    "        for feature in range(X.shape[1]):\n",
    "            unique_values = np.unique(X[:, feature])\n",
    "            for value in unique_values:\n",
    "                left_mask = X[:, feature] <= value\n",
    "                right_mask = X[:, feature] > value\n",
    "                left_labels = y[left_mask]\n",
    "                right_labels = y[right_mask]\n",
    "\n",
    "                if len(left_labels) > 0 and len(right_labels) > 0:\n",
    "                    score = self._compute_score(left_labels) * len(left_labels) + \\\n",
    "                            self._compute_score(right_labels) * len(right_labels)\n",
    "                    if score > best_score:\n",
    "                        best_feature = feature\n",
    "                        best_split_point = value\n",
    "                        best_score = score\n",
    "\n",
    "        return best_feature, best_split_point\n",
    "\n",
    "    def get_best_criterion(self, X, y, criteria):\n",
    "        best_score = 0.0\n",
    "        best_criterion = None\n",
    "\n",
    "        for criterion in criteria:\n",
    "            self.criterion = criterion\n",
    "            X_train, X_test, y_train, y_test = train_test_split(X, y, test_size=0.3, random_state=42)\n",
    "            self.fit(X_train, y_train)\n",
    "            y_pred = self.predict(X_test)\n",
    "            score = accuracy_score(y_test, y_pred)\n",
    "\n",
    "            if score > best_score:\n",
    "                best_score = score\n",
    "                best_criterion = criterion\n",
    "\n",
    "        return best_criterion"
   ],
   "metadata": {
    "collapsed": false,
    "ExecuteTime": {
     "end_time": "2023-05-19T16:45:44.922649Z",
     "start_time": "2023-05-19T16:45:44.867987Z"
    }
   }
  },
  {
   "cell_type": "code",
   "execution_count": 90,
   "outputs": [],
   "source": [
    "class Custom_RF(BaseEstimator, ClassifierMixin):\n",
    "    def __init__(self, n_estimators=100, max_depth=None):\n",
    "        self.n_estimators = n_estimators\n",
    "        self.max_depth = max_depth\n",
    "        self.estimators = []\n",
    "\n",
    "    def fit(self, X, y):\n",
    "        self.estimators = []\n",
    "        # self.max_depth = self._get_best_max_depth(X, y)\n",
    "        # self.n_estimators = self._get_best_n_estimators(X, y)\n",
    "\n",
    "        criteria = [\"gini\", \"entropy\", \"log_loss\"]\n",
    "        used_criterion=[]\n",
    "\n",
    "        for _ in range(self.n_estimators):\n",
    "            bootstrap_indices = resample(range(len(X)), replace=True)\n",
    "            X_bootstrap = X[bootstrap_indices]\n",
    "            y_bootstrap = y[bootstrap_indices]\n",
    "\n",
    "            tree = DecisionTree(self.max_depth)\n",
    "            best_criterion=tree.get_best_criterion(X_bootstrap, y_bootstrap, criteria)\n",
    "            used_criterion.append(best_criterion)\n",
    "\n",
    "            tree.criterion=best_criterion\n",
    "            tree.fit(X_bootstrap, y_bootstrap)\n",
    "\n",
    "            self.estimators.append(tree)\n",
    "\n",
    "        print(\"Most used criterion in our implementation: '\"+ str(Counter(used_criterion).most_common(1)[0][0])+ \"'\")\n",
    "\n",
    "    def predict(self, X):\n",
    "        predictions = np.zeros((len(X), len(self.estimators)))\n",
    "\n",
    "        for i, estimator in enumerate(self.estimators):\n",
    "            predictions[:, i] = estimator.predict(X)\n",
    "\n",
    "        return np.apply_along_axis(lambda x: np.bincount(x.astype(int)).argmax(), axis=1, arr=predictions)\n",
    "\n",
    "    @staticmethod\n",
    "    def _get_best_max_depth(X, y):\n",
    "        param_grid = {'max_depth': [None, 5, 10, 15, 20]}\n",
    "        rf_classifier = Custom_RF(n_estimators=1)  # Temporarily create an instance for grid search\n",
    "        grid_search = GridSearchCV(rf_classifier, param_grid, cv=3, scoring='accuracy')\n",
    "        grid_search.fit(X, y)\n",
    "        best_max_depth = grid_search.best_params_['max_depth']\n",
    "        return best_max_depth\n",
    "\n",
    "    def _get_best_n_estimators(self, X, y):\n",
    "        param_grid = {'n_estimators': [50, 100, 150, 200, 250]}\n",
    "        rf_classifier = Custom_RF(max_depth=self.max_depth)  # Temporarily create an instance for grid search\n",
    "        grid_search = GridSearchCV(rf_classifier, param_grid, cv=3, scoring='accuracy')\n",
    "        grid_search.fit(X, y)\n",
    "        best_n_estimators = grid_search.best_params_['n_estimators']\n",
    "        return best_n_estimators"
   ],
   "metadata": {
    "collapsed": false,
    "ExecuteTime": {
     "end_time": "2023-05-19T16:45:44.924600Z",
     "start_time": "2023-05-19T16:45:44.873738Z"
    }
   }
  },
  {
   "cell_type": "markdown",
   "metadata": {},
   "source": [
    "## Testes para cada dataset"
   ],
   "outputs": [],
   "execution_count": null
  },
  {
   "cell_type": "code",
   "execution_count": 91,
   "outputs": [],
   "source": [
    "def test_model(dataset):\n",
    "    def test(model):\n",
    "        X=dataset.iloc[:,1:-1].values\n",
    "        y=dataset.iloc[:,-1].values\n",
    "\n",
    "        X_train, X_test, y_train, y_test = train_test_split(X, y,test_size=0.3, random_state=42)\n",
    "\n",
    "        model.fit(X_train, y_train)\n",
    "\n",
    "        print(\"Accuracy: \"+ str(round(accuracy_score(y_test, model.predict(X_test)),4)))\n",
    "\n",
    "\n",
    "    print(\"Random Forest Classifier from sklearn using 'gini' criterion:\")\n",
    "    test(RF())\n",
    "    print(\"\\nRandom Forest Classifier from sklearn using 'entropy' criterion:\")\n",
    "    test(RF(criterion='entropy'))\n",
    "    print(\"\\nRandom Forest Classifier from sklearn using 'log_loss' criterion:\")\n",
    "    test(RF(criterion='log_loss'))\n",
    "    print(\"\\nOur model of Random Forest Classifier:\")\n",
    "    ti=time()\n",
    "    test(Custom_RF())\n",
    "    tf=time()\n",
    "    t=tf-ti\n",
    "    print(\"Time: \"+str(int(t//60))+\" minutes and \"+str(round(t%60,2))+\" seconds\")"
   ],
   "metadata": {
    "collapsed": false,
    "ExecuteTime": {
     "end_time": "2023-05-19T16:45:44.925667Z",
     "start_time": "2023-05-19T16:45:44.878960Z"
    }
   }
  },
  {
   "cell_type": "markdown",
   "metadata": {},
   "source": [
    "### DATASET 1 - Cancro da mama"
   ],
   "outputs": [],
   "execution_count": null
  },
  {
   "cell_type": "code",
   "execution_count": 92,
   "metadata": {
    "ExecuteTime": {
     "end_time": "2023-05-19T16:45:44.927429Z",
     "start_time": "2023-05-19T16:45:44.881977Z"
    }
   },
   "outputs": [
    {
     "data": {
      "text/plain": "   id  Clump_Thickness  Cell_Size_Uniformity  Cell_Shape_Uniformity  \\\n0   1                5                     1                      1   \n1   2                5                     4                      4   \n2   3                3                     1                      1   \n3   4                6                     8                      8   \n4   5                4                     1                      1   \n\n   Marginal_Adhesion  Single_Epi_Cell_Size Bare_Nuclei  Bland_Chromatin  \\\n0                  1                     2           1                3   \n1                  5                     7          10                3   \n2                  1                     2           2                3   \n3                  1                     3           4                3   \n4                  3                     2           1                3   \n\n   Normal_Nucleoli  Mitoses   Class  \n0                1        1  benign  \n1                2        1  benign  \n2                1        1  benign  \n3                7        1  benign  \n4                1        1  benign  ",
      "text/html": "<div>\n<style scoped>\n    .dataframe tbody tr th:only-of-type {\n        vertical-align: middle;\n    }\n\n    .dataframe tbody tr th {\n        vertical-align: top;\n    }\n\n    .dataframe thead th {\n        text-align: right;\n    }\n</style>\n<table border=\"1\" class=\"dataframe\">\n  <thead>\n    <tr style=\"text-align: right;\">\n      <th></th>\n      <th>id</th>\n      <th>Clump_Thickness</th>\n      <th>Cell_Size_Uniformity</th>\n      <th>Cell_Shape_Uniformity</th>\n      <th>Marginal_Adhesion</th>\n      <th>Single_Epi_Cell_Size</th>\n      <th>Bare_Nuclei</th>\n      <th>Bland_Chromatin</th>\n      <th>Normal_Nucleoli</th>\n      <th>Mitoses</th>\n      <th>Class</th>\n    </tr>\n  </thead>\n  <tbody>\n    <tr>\n      <th>0</th>\n      <td>1</td>\n      <td>5</td>\n      <td>1</td>\n      <td>1</td>\n      <td>1</td>\n      <td>2</td>\n      <td>1</td>\n      <td>3</td>\n      <td>1</td>\n      <td>1</td>\n      <td>benign</td>\n    </tr>\n    <tr>\n      <th>1</th>\n      <td>2</td>\n      <td>5</td>\n      <td>4</td>\n      <td>4</td>\n      <td>5</td>\n      <td>7</td>\n      <td>10</td>\n      <td>3</td>\n      <td>2</td>\n      <td>1</td>\n      <td>benign</td>\n    </tr>\n    <tr>\n      <th>2</th>\n      <td>3</td>\n      <td>3</td>\n      <td>1</td>\n      <td>1</td>\n      <td>1</td>\n      <td>2</td>\n      <td>2</td>\n      <td>3</td>\n      <td>1</td>\n      <td>1</td>\n      <td>benign</td>\n    </tr>\n    <tr>\n      <th>3</th>\n      <td>4</td>\n      <td>6</td>\n      <td>8</td>\n      <td>8</td>\n      <td>1</td>\n      <td>3</td>\n      <td>4</td>\n      <td>3</td>\n      <td>7</td>\n      <td>1</td>\n      <td>benign</td>\n    </tr>\n    <tr>\n      <th>4</th>\n      <td>5</td>\n      <td>4</td>\n      <td>1</td>\n      <td>1</td>\n      <td>3</td>\n      <td>2</td>\n      <td>1</td>\n      <td>3</td>\n      <td>1</td>\n      <td>1</td>\n      <td>benign</td>\n    </tr>\n  </tbody>\n</table>\n</div>"
     },
     "execution_count": 92,
     "metadata": {},
     "output_type": "execute_result"
    }
   ],
   "source": [
    "df = pd.read_csv('breast.csv')\n",
    "df.head()"
   ]
  },
  {
   "cell_type": "code",
   "execution_count": 93,
   "metadata": {
    "ExecuteTime": {
     "end_time": "2023-05-19T16:45:44.936208Z",
     "start_time": "2023-05-19T16:45:44.893849Z"
    }
   },
   "outputs": [
    {
     "data": {
      "text/plain": "   id  Clump_Thickness  Cell_Size_Uniformity  Cell_Shape_Uniformity  \\\n0   1                5                     1                      1   \n1   2                5                     4                      4   \n2   3                3                     1                      1   \n3   4                6                     8                      8   \n4   5                4                     1                      1   \n\n   Marginal_Adhesion  Single_Epi_Cell_Size Bare_Nuclei  Bland_Chromatin  \\\n0                  1                     2           1                3   \n1                  5                     7          10                3   \n2                  1                     2           2                3   \n3                  1                     3           4                3   \n4                  3                     2           1                3   \n\n   Normal_Nucleoli  Mitoses  Class  \n0                1        1      0  \n1                2        1      0  \n2                1        1      0  \n3                7        1      0  \n4                1        1      0  ",
      "text/html": "<div>\n<style scoped>\n    .dataframe tbody tr th:only-of-type {\n        vertical-align: middle;\n    }\n\n    .dataframe tbody tr th {\n        vertical-align: top;\n    }\n\n    .dataframe thead th {\n        text-align: right;\n    }\n</style>\n<table border=\"1\" class=\"dataframe\">\n  <thead>\n    <tr style=\"text-align: right;\">\n      <th></th>\n      <th>id</th>\n      <th>Clump_Thickness</th>\n      <th>Cell_Size_Uniformity</th>\n      <th>Cell_Shape_Uniformity</th>\n      <th>Marginal_Adhesion</th>\n      <th>Single_Epi_Cell_Size</th>\n      <th>Bare_Nuclei</th>\n      <th>Bland_Chromatin</th>\n      <th>Normal_Nucleoli</th>\n      <th>Mitoses</th>\n      <th>Class</th>\n    </tr>\n  </thead>\n  <tbody>\n    <tr>\n      <th>0</th>\n      <td>1</td>\n      <td>5</td>\n      <td>1</td>\n      <td>1</td>\n      <td>1</td>\n      <td>2</td>\n      <td>1</td>\n      <td>3</td>\n      <td>1</td>\n      <td>1</td>\n      <td>0</td>\n    </tr>\n    <tr>\n      <th>1</th>\n      <td>2</td>\n      <td>5</td>\n      <td>4</td>\n      <td>4</td>\n      <td>5</td>\n      <td>7</td>\n      <td>10</td>\n      <td>3</td>\n      <td>2</td>\n      <td>1</td>\n      <td>0</td>\n    </tr>\n    <tr>\n      <th>2</th>\n      <td>3</td>\n      <td>3</td>\n      <td>1</td>\n      <td>1</td>\n      <td>1</td>\n      <td>2</td>\n      <td>2</td>\n      <td>3</td>\n      <td>1</td>\n      <td>1</td>\n      <td>0</td>\n    </tr>\n    <tr>\n      <th>3</th>\n      <td>4</td>\n      <td>6</td>\n      <td>8</td>\n      <td>8</td>\n      <td>1</td>\n      <td>3</td>\n      <td>4</td>\n      <td>3</td>\n      <td>7</td>\n      <td>1</td>\n      <td>0</td>\n    </tr>\n    <tr>\n      <th>4</th>\n      <td>5</td>\n      <td>4</td>\n      <td>1</td>\n      <td>1</td>\n      <td>3</td>\n      <td>2</td>\n      <td>1</td>\n      <td>3</td>\n      <td>1</td>\n      <td>1</td>\n      <td>0</td>\n    </tr>\n  </tbody>\n</table>\n</div>"
     },
     "execution_count": 93,
     "metadata": {},
     "output_type": "execute_result"
    }
   ],
   "source": [
    "df['Class']=df['Class'].map({'benign': 0, 'malignant': 1})\n",
    "df['Bare_Nuclei'].replace('?', np.nan, inplace=True)\n",
    "df.dropna(subset=['Bare_Nuclei'], inplace=True)\n",
    "df.head()"
   ]
  },
  {
   "cell_type": "markdown",
   "metadata": {},
   "source": [
    "#### Tests"
   ],
   "outputs": [],
   "execution_count": null
  },
  {
   "cell_type": "code",
   "execution_count": 94,
   "metadata": {
    "ExecuteTime": {
     "end_time": "2023-05-19T16:46:30.508384Z",
     "start_time": "2023-05-19T16:45:44.901095Z"
    }
   },
   "outputs": [
    {
     "name": "stdout",
     "output_type": "stream",
     "text": [
      "Random Forest Classifier from sklearn using 'gini' criterion:\n",
      "Accuracy: 0.961\n",
      "\n",
      "Random Forest Classifier from sklearn using 'entropy' criterion:\n",
      "Accuracy: 0.9561\n",
      "\n",
      "Random Forest Classifier from sklearn using 'log_loss' criterion:\n",
      "Accuracy: 0.9561\n",
      "\n",
      "Our model of Random Forest Classifier:\n",
      "Most used criterion in our implementation: 'gini'\n",
      "Accuracy: 0.9561\n",
      "Time: 0.0 minutes and 45.38 seconds\n"
     ]
    }
   ],
   "source": [
    "test_model(df)"
   ]
  },
  {
   "cell_type": "markdown",
   "metadata": {},
   "source": [
    "### Dataset 2 - Biodeg"
   ],
   "outputs": [],
   "execution_count": null
  },
  {
   "cell_type": "code",
   "execution_count": 95,
   "metadata": {
    "ExecuteTime": {
     "end_time": "2023-05-19T16:46:30.522758Z",
     "start_time": "2023-05-19T16:46:30.509506Z"
    }
   },
   "outputs": [
    {
     "data": {
      "text/plain": "   id     V1      V2  V3  V4  V5  V6  V7    V8  V9  ...  V33  V34  V35    V36  \\\n0   1  3.919  2.6909   0   0   0   0   0  31.4   2  ...    0    0    0  2.949   \n1   2  4.170  2.1144   0   0   0   0   0  30.8   1  ...    0    0    0  3.315   \n2   3  3.932  3.2512   0   0   0   0   0  26.7   2  ...    0    0    1  3.076   \n3   4  3.000  2.7098   0   0   0   0   0  20.0   0  ...    0    0    1  3.046   \n4   5  4.236  3.3944   0   0   0   0   0  29.4   2  ...    0    0    0  3.351   \n\n     V37  V38    V39  V40  V41  Class  \n0  1.591    0  7.253    0    0      2  \n1  1.967    0  7.257    0    0      2  \n2  2.417    0  7.601    0    0      2  \n3  5.000    0  6.690    0    0      2  \n4  2.405    0  8.003    0    0      2  \n\n[5 rows x 43 columns]",
      "text/html": "<div>\n<style scoped>\n    .dataframe tbody tr th:only-of-type {\n        vertical-align: middle;\n    }\n\n    .dataframe tbody tr th {\n        vertical-align: top;\n    }\n\n    .dataframe thead th {\n        text-align: right;\n    }\n</style>\n<table border=\"1\" class=\"dataframe\">\n  <thead>\n    <tr style=\"text-align: right;\">\n      <th></th>\n      <th>id</th>\n      <th>V1</th>\n      <th>V2</th>\n      <th>V3</th>\n      <th>V4</th>\n      <th>V5</th>\n      <th>V6</th>\n      <th>V7</th>\n      <th>V8</th>\n      <th>V9</th>\n      <th>...</th>\n      <th>V33</th>\n      <th>V34</th>\n      <th>V35</th>\n      <th>V36</th>\n      <th>V37</th>\n      <th>V38</th>\n      <th>V39</th>\n      <th>V40</th>\n      <th>V41</th>\n      <th>Class</th>\n    </tr>\n  </thead>\n  <tbody>\n    <tr>\n      <th>0</th>\n      <td>1</td>\n      <td>3.919</td>\n      <td>2.6909</td>\n      <td>0</td>\n      <td>0</td>\n      <td>0</td>\n      <td>0</td>\n      <td>0</td>\n      <td>31.4</td>\n      <td>2</td>\n      <td>...</td>\n      <td>0</td>\n      <td>0</td>\n      <td>0</td>\n      <td>2.949</td>\n      <td>1.591</td>\n      <td>0</td>\n      <td>7.253</td>\n      <td>0</td>\n      <td>0</td>\n      <td>2</td>\n    </tr>\n    <tr>\n      <th>1</th>\n      <td>2</td>\n      <td>4.170</td>\n      <td>2.1144</td>\n      <td>0</td>\n      <td>0</td>\n      <td>0</td>\n      <td>0</td>\n      <td>0</td>\n      <td>30.8</td>\n      <td>1</td>\n      <td>...</td>\n      <td>0</td>\n      <td>0</td>\n      <td>0</td>\n      <td>3.315</td>\n      <td>1.967</td>\n      <td>0</td>\n      <td>7.257</td>\n      <td>0</td>\n      <td>0</td>\n      <td>2</td>\n    </tr>\n    <tr>\n      <th>2</th>\n      <td>3</td>\n      <td>3.932</td>\n      <td>3.2512</td>\n      <td>0</td>\n      <td>0</td>\n      <td>0</td>\n      <td>0</td>\n      <td>0</td>\n      <td>26.7</td>\n      <td>2</td>\n      <td>...</td>\n      <td>0</td>\n      <td>0</td>\n      <td>1</td>\n      <td>3.076</td>\n      <td>2.417</td>\n      <td>0</td>\n      <td>7.601</td>\n      <td>0</td>\n      <td>0</td>\n      <td>2</td>\n    </tr>\n    <tr>\n      <th>3</th>\n      <td>4</td>\n      <td>3.000</td>\n      <td>2.7098</td>\n      <td>0</td>\n      <td>0</td>\n      <td>0</td>\n      <td>0</td>\n      <td>0</td>\n      <td>20.0</td>\n      <td>0</td>\n      <td>...</td>\n      <td>0</td>\n      <td>0</td>\n      <td>1</td>\n      <td>3.046</td>\n      <td>5.000</td>\n      <td>0</td>\n      <td>6.690</td>\n      <td>0</td>\n      <td>0</td>\n      <td>2</td>\n    </tr>\n    <tr>\n      <th>4</th>\n      <td>5</td>\n      <td>4.236</td>\n      <td>3.3944</td>\n      <td>0</td>\n      <td>0</td>\n      <td>0</td>\n      <td>0</td>\n      <td>0</td>\n      <td>29.4</td>\n      <td>2</td>\n      <td>...</td>\n      <td>0</td>\n      <td>0</td>\n      <td>0</td>\n      <td>3.351</td>\n      <td>2.405</td>\n      <td>0</td>\n      <td>8.003</td>\n      <td>0</td>\n      <td>0</td>\n      <td>2</td>\n    </tr>\n  </tbody>\n</table>\n<p>5 rows × 43 columns</p>\n</div>"
     },
     "execution_count": 95,
     "metadata": {},
     "output_type": "execute_result"
    }
   ],
   "source": [
    "df = pd.read_csv('biodeg.csv')\n",
    "df.head()"
   ]
  },
  {
   "cell_type": "markdown",
   "source": [
    "#### Tests"
   ],
   "metadata": {
    "collapsed": false
   },
   "outputs": [],
   "execution_count": null
  },
  {
   "cell_type": "code",
   "execution_count": 96,
   "outputs": [
    {
     "name": "stdout",
     "output_type": "stream",
     "text": [
      "Random Forest Classifier from sklearn using 'gini' criterion:\n",
      "Accuracy: 0.8833\n",
      "\n",
      "Random Forest Classifier from sklearn using 'entropy' criterion:\n",
      "Accuracy: 0.8517\n",
      "\n",
      "Random Forest Classifier from sklearn using 'log_loss' criterion:\n",
      "Accuracy: 0.8644\n",
      "\n",
      "Our model of Random Forest Classifier:\n",
      "Most used criterion in our implementation: 'gini'\n",
      "Accuracy: 0.6909\n",
      "Time: 11.0 minutes and 8.02 seconds\n"
     ]
    }
   ],
   "source": [
    "test_model(df)"
   ],
   "metadata": {
    "collapsed": false,
    "ExecuteTime": {
     "end_time": "2023-05-19T16:57:38.934307Z",
     "start_time": "2023-05-19T16:46:30.525246Z"
    }
   }
  },
  {
   "cell_type": "markdown",
   "source": [
    "### Dataset 3 - Diabetes"
   ],
   "metadata": {
    "collapsed": false
   },
   "outputs": []
  },
  {
   "cell_type": "code",
   "execution_count": 97,
   "outputs": [
    {
     "data": {
      "text/plain": "   id  'preg'  'plas'  'pres'  'skin'  'insu'  'mass'  'pedi'  'age'  \\\n0   1       6     148      72      35       0    33.6   0.627     50   \n1   2       1      85      66      29       0    26.6   0.351     31   \n2   3       8     183      64       0       0    23.3   0.672     32   \n3   4       1      89      66      23      94    28.1   0.167     21   \n4   5       0     137      40      35     168    43.1   2.288     33   \n\n           'class'  \n0  tested_positive  \n1  tested_negative  \n2  tested_positive  \n3  tested_negative  \n4  tested_positive  ",
      "text/html": "<div>\n<style scoped>\n    .dataframe tbody tr th:only-of-type {\n        vertical-align: middle;\n    }\n\n    .dataframe tbody tr th {\n        vertical-align: top;\n    }\n\n    .dataframe thead th {\n        text-align: right;\n    }\n</style>\n<table border=\"1\" class=\"dataframe\">\n  <thead>\n    <tr style=\"text-align: right;\">\n      <th></th>\n      <th>id</th>\n      <th>'preg'</th>\n      <th>'plas'</th>\n      <th>'pres'</th>\n      <th>'skin'</th>\n      <th>'insu'</th>\n      <th>'mass'</th>\n      <th>'pedi'</th>\n      <th>'age'</th>\n      <th>'class'</th>\n    </tr>\n  </thead>\n  <tbody>\n    <tr>\n      <th>0</th>\n      <td>1</td>\n      <td>6</td>\n      <td>148</td>\n      <td>72</td>\n      <td>35</td>\n      <td>0</td>\n      <td>33.6</td>\n      <td>0.627</td>\n      <td>50</td>\n      <td>tested_positive</td>\n    </tr>\n    <tr>\n      <th>1</th>\n      <td>2</td>\n      <td>1</td>\n      <td>85</td>\n      <td>66</td>\n      <td>29</td>\n      <td>0</td>\n      <td>26.6</td>\n      <td>0.351</td>\n      <td>31</td>\n      <td>tested_negative</td>\n    </tr>\n    <tr>\n      <th>2</th>\n      <td>3</td>\n      <td>8</td>\n      <td>183</td>\n      <td>64</td>\n      <td>0</td>\n      <td>0</td>\n      <td>23.3</td>\n      <td>0.672</td>\n      <td>32</td>\n      <td>tested_positive</td>\n    </tr>\n    <tr>\n      <th>3</th>\n      <td>4</td>\n      <td>1</td>\n      <td>89</td>\n      <td>66</td>\n      <td>23</td>\n      <td>94</td>\n      <td>28.1</td>\n      <td>0.167</td>\n      <td>21</td>\n      <td>tested_negative</td>\n    </tr>\n    <tr>\n      <th>4</th>\n      <td>5</td>\n      <td>0</td>\n      <td>137</td>\n      <td>40</td>\n      <td>35</td>\n      <td>168</td>\n      <td>43.1</td>\n      <td>2.288</td>\n      <td>33</td>\n      <td>tested_positive</td>\n    </tr>\n  </tbody>\n</table>\n</div>"
     },
     "execution_count": 97,
     "metadata": {},
     "output_type": "execute_result"
    }
   ],
   "source": [
    "df = pd.read_csv('diabetes.csv')\n",
    "df.head()"
   ],
   "metadata": {
    "collapsed": false,
    "ExecuteTime": {
     "end_time": "2023-05-19T16:57:38.947853Z",
     "start_time": "2023-05-19T16:57:38.933712Z"
    }
   }
  },
  {
   "cell_type": "code",
   "execution_count": 98,
   "outputs": [
    {
     "data": {
      "text/plain": "   id  'preg'  'plas'  'pres'  'skin'  'insu'  'mass'  'pedi'  'age'  'class'\n0   1       6     148      72      35       0    33.6   0.627     50        0\n1   2       1      85      66      29       0    26.6   0.351     31        1\n2   3       8     183      64       0       0    23.3   0.672     32        0\n3   4       1      89      66      23      94    28.1   0.167     21        1\n4   5       0     137      40      35     168    43.1   2.288     33        0",
      "text/html": "<div>\n<style scoped>\n    .dataframe tbody tr th:only-of-type {\n        vertical-align: middle;\n    }\n\n    .dataframe tbody tr th {\n        vertical-align: top;\n    }\n\n    .dataframe thead th {\n        text-align: right;\n    }\n</style>\n<table border=\"1\" class=\"dataframe\">\n  <thead>\n    <tr style=\"text-align: right;\">\n      <th></th>\n      <th>id</th>\n      <th>'preg'</th>\n      <th>'plas'</th>\n      <th>'pres'</th>\n      <th>'skin'</th>\n      <th>'insu'</th>\n      <th>'mass'</th>\n      <th>'pedi'</th>\n      <th>'age'</th>\n      <th>'class'</th>\n    </tr>\n  </thead>\n  <tbody>\n    <tr>\n      <th>0</th>\n      <td>1</td>\n      <td>6</td>\n      <td>148</td>\n      <td>72</td>\n      <td>35</td>\n      <td>0</td>\n      <td>33.6</td>\n      <td>0.627</td>\n      <td>50</td>\n      <td>0</td>\n    </tr>\n    <tr>\n      <th>1</th>\n      <td>2</td>\n      <td>1</td>\n      <td>85</td>\n      <td>66</td>\n      <td>29</td>\n      <td>0</td>\n      <td>26.6</td>\n      <td>0.351</td>\n      <td>31</td>\n      <td>1</td>\n    </tr>\n    <tr>\n      <th>2</th>\n      <td>3</td>\n      <td>8</td>\n      <td>183</td>\n      <td>64</td>\n      <td>0</td>\n      <td>0</td>\n      <td>23.3</td>\n      <td>0.672</td>\n      <td>32</td>\n      <td>0</td>\n    </tr>\n    <tr>\n      <th>3</th>\n      <td>4</td>\n      <td>1</td>\n      <td>89</td>\n      <td>66</td>\n      <td>23</td>\n      <td>94</td>\n      <td>28.1</td>\n      <td>0.167</td>\n      <td>21</td>\n      <td>1</td>\n    </tr>\n    <tr>\n      <th>4</th>\n      <td>5</td>\n      <td>0</td>\n      <td>137</td>\n      <td>40</td>\n      <td>35</td>\n      <td>168</td>\n      <td>43.1</td>\n      <td>2.288</td>\n      <td>33</td>\n      <td>0</td>\n    </tr>\n  </tbody>\n</table>\n</div>"
     },
     "execution_count": 98,
     "metadata": {},
     "output_type": "execute_result"
    }
   ],
   "source": [
    "df[\"'class'\"]=df[\"'class'\"].map({'tested_positive': 0, 'tested_negative': 1})\n",
    "df.head()"
   ],
   "metadata": {
    "collapsed": false,
    "ExecuteTime": {
     "end_time": "2023-05-19T16:57:38.953785Z",
     "start_time": "2023-05-19T16:57:38.948741Z"
    }
   }
  },
  {
   "cell_type": "markdown",
   "source": [
    "#### Tests"
   ],
   "metadata": {
    "collapsed": false
   },
   "outputs": []
  },
  {
   "cell_type": "code",
   "execution_count": 99,
   "outputs": [
    {
     "name": "stdout",
     "output_type": "stream",
     "text": [
      "Random Forest Classifier from sklearn using 'gini' criterion:\n",
      "Accuracy: 0.7316\n",
      "\n",
      "Random Forest Classifier from sklearn using 'entropy' criterion:\n",
      "Accuracy: 0.7576\n",
      "\n",
      "Random Forest Classifier from sklearn using 'log_loss' criterion:\n",
      "Accuracy: 0.7489\n",
      "\n",
      "Our model of Random Forest Classifier:\n",
      "Most used criterion in our implementation: 'gini'\n",
      "Accuracy: 0.6797\n",
      "Time: 2.0 minutes and 18.22 seconds\n"
     ]
    }
   ],
   "source": [
    "test_model(df)"
   ],
   "metadata": {
    "collapsed": false,
    "ExecuteTime": {
     "end_time": "2023-05-19T16:59:57.455076Z",
     "start_time": "2023-05-19T16:57:38.952410Z"
    }
   }
  },
  {
   "cell_type": "code",
   "execution_count": 101,
   "outputs": [],
   "source": [],
   "metadata": {
    "collapsed": false,
    "ExecuteTime": {
     "end_time": "2023-05-19T17:00:34.416787Z",
     "start_time": "2023-05-19T17:00:34.413861Z"
    }
   }
  },
  {
   "cell_type": "code",
   "execution_count": 102,
   "outputs": [
    {
     "data": {
      "text/plain": "<IPython.lib.display.Audio object>",
      "text/html": "\n                <audio  controls=\"controls\" autoplay=\"autoplay\">\n                    <source src=\"data:audio/mpeg;base64,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\" type=\"audio/mpeg\" />\n                    Your browser does not support the audio element.\n                </audio>\n              "
     },
     "execution_count": 102,
     "metadata": {},
     "output_type": "execute_result"
    }
   ],
   "source": [
    "Audio('sound.mp3', autoplay=True)"
   ],
   "metadata": {
    "collapsed": false,
    "ExecuteTime": {
     "end_time": "2023-05-19T17:00:34.839473Z",
     "start_time": "2023-05-19T17:00:34.833425Z"
    }
   }
  }
 ],
 "metadata": {
  "kernelspec": {
   "display_name": "Python 3 (ipykernel)",
   "language": "python",
   "name": "python3"
  },
  "language_info": {
   "codemirror_mode": {
    "name": "ipython",
    "version": 3
   },
   "file_extension": ".py",
   "mimetype": "text/x-python",
   "name": "python",
   "nbconvert_exporter": "python",
   "pygments_lexer": "ipython3",
   "version": "3.10.9"
  }
 },
 "nbformat": 4,
 "nbformat_minor": 1
}
