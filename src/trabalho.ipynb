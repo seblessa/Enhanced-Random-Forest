{
 "cells": [
  {
   "cell_type": "markdown",
   "metadata": {},
   "source": [
    "# Trabalho prático AC"
   ]
  },
  {
   "cell_type": "markdown",
   "metadata": {},
   "source": [
    "## Trabalho realizado por:\n",
    "\n",
    "Margarida Vila-chã, 20210504\n",
    "\n",
    "Miguel Duarte Silva, 20210504\n",
    "\n",
    "Sebastião Lessa, 202103238\n"
   ]
  },
  {
   "cell_type": "markdown",
   "metadata": {},
   "source": [
    "## Algoritmo escolhido e breve explicação:\n",
    "\n",
    "O algoritmo escolhido pelo nosso grupo foi o Random Forrest.\n",
    "\n",
    "Este algoritmo é um algoritmo de aprendizagem computacional supervisionado. Ele usa uma combinação de árvores de decisão aleatórias. O processo começa com a criação de um grande número de árvores (floresta), em que cada uma das árvores criadas é treinada com uma amostra diferente. Isto permite a criação de árvores suficientemente diferentes, o que leva a que elas juntas consigam lidar com uma ampla variedade de situações, reduzindo o risco de overffitting.\n",
    "\n",
    "Baseamos-nos nos seguintes testes:\n",
    "\n",
    "- [credit-g](https://www.openml.org/search?type=run&id=591&collections.id=99&run_task.task_id=31&sort=date)\n",
    "- [breast-w](https://www.openml.org/search?type=run&id=7413&collections.id=99&run_task.task_id=15)\n",
    "- [qsar-biodeg](https://www.openml.org/search?type=run&id=519587&collections.id=99&run_task.task_id=9957)"
   ]
  },
  {
   "cell_type": "markdown",
   "metadata": {},
   "source": [
    "## Importação das bibliotecas necessárias:"
   ]
  },
  {
   "cell_type": "code",
   "execution_count": 32,
   "metadata": {
    "ExecuteTime": {
     "end_time": "2023-05-05T20:19:00.487759Z",
     "start_time": "2023-05-05T20:19:00.427530Z"
    }
   },
   "outputs": [],
   "source": [
    "from scipy.io import arff\n",
    "import numpy as np\n",
    "import pandas as pd\n",
    "import matplotlib.pyplot as plt\n",
    "import seaborn as sns\n",
    "from sklearn.model_selection import train_test_split\n",
    "from sklearn.metrics import accuracy_score\n",
    "from sklearn.ensemble import RandomForestClassifier\n",
    "from RandomForestClassifier import RandomForestClassifier as RFC_local\n",
    "from RandomForestClassifierUpgraded import RandomForestClassifierUpgraded"
   ]
  },
  {
   "cell_type": "markdown",
   "metadata": {},
   "source": [
    "## Inicializações"
   ]
  },
  {
   "cell_type": "code",
   "execution_count": 33,
   "metadata": {
    "ExecuteTime": {
     "end_time": "2023-05-05T20:19:00.490171Z",
     "start_time": "2023-05-05T20:19:00.430325Z"
    }
   },
   "outputs": [],
   "source": [
    "credit = pd.DataFrame(arff.loadarff('datasets/credit-g.arff')[0])\n",
    "bw = pd.DataFrame(arff.loadarff('datasets/breast-w.arff')[0])\n",
    "qsar = pd.DataFrame(arff.loadarff('datasets/qsar-biodeg.arff')[0])\n",
    "\n",
    "RFC_local = RFC_local(n_estimators=100, oob_score=True, random_state=42)\n",
    "RFC_upgraded = RandomForestClassifierUpgraded(n_estimators=100, oob_score=True, random_state=42)\n",
    "RFC_sk = RandomForestClassifier(n_estimators=100, oob_score=True, random_state=42)\n"
   ]
  },
  {
   "cell_type": "markdown",
   "metadata": {},
   "source": [
    "## Teste com o dataset credit-g"
   ]
  },
  {
   "cell_type": "code",
   "execution_count": 34,
   "metadata": {
    "ExecuteTime": {
     "end_time": "2023-05-05T20:19:00.507224Z",
     "start_time": "2023-05-05T20:19:00.490621Z"
    }
   },
   "outputs": [
    {
     "data": {
      "text/plain": "    checking_status  duration                     credit_history  \\\n0             b'<0'       6.0  b'critical/other existing credit'   \n1       b'0<=X<200'      48.0                   b'existing paid'   \n2    b'no checking'      12.0  b'critical/other existing credit'   \n3             b'<0'      42.0                   b'existing paid'   \n4             b'<0'      24.0              b'delayed previously'   \n..              ...       ...                                ...   \n995  b'no checking'      12.0                   b'existing paid'   \n996           b'<0'      30.0                   b'existing paid'   \n997  b'no checking'      12.0                   b'existing paid'   \n998           b'<0'      45.0                   b'existing paid'   \n999     b'0<=X<200'      45.0  b'critical/other existing credit'   \n\n                    purpose  credit_amount       savings_status  \\\n0               b'radio/tv'         1169.0  b'no known savings'   \n1               b'radio/tv'         5951.0              b'<100'   \n2              b'education'         2096.0              b'<100'   \n3    b'furniture/equipment'         7882.0              b'<100'   \n4                b'new car'         4870.0              b'<100'   \n..                      ...            ...                  ...   \n995  b'furniture/equipment'         1736.0              b'<100'   \n996             b'used car'         3857.0              b'<100'   \n997             b'radio/tv'          804.0              b'<100'   \n998             b'radio/tv'         1845.0              b'<100'   \n999             b'used car'         4576.0        b'100<=X<500'   \n\n        employment  installment_commitment        personal_status  \\\n0           b'>=7'                     4.0         b'male single'   \n1        b'1<=X<4'                     2.0  b'female div/dep/mar'   \n2        b'4<=X<7'                     2.0         b'male single'   \n3        b'4<=X<7'                     2.0         b'male single'   \n4        b'1<=X<4'                     3.0         b'male single'   \n..             ...                     ...                    ...   \n995      b'4<=X<7'                     3.0  b'female div/dep/mar'   \n996      b'1<=X<4'                     4.0        b'male div/sep'   \n997         b'>=7'                     4.0         b'male single'   \n998      b'1<=X<4'                     4.0         b'male single'   \n999  b'unemployed'                     3.0         b'male single'   \n\n    other_parties  ...    property_magnitude   age  other_payment_plans  \\\n0         b'none'  ...        b'real estate'  67.0              b'none'   \n1         b'none'  ...        b'real estate'  22.0              b'none'   \n2         b'none'  ...        b'real estate'  49.0              b'none'   \n3    b'guarantor'  ...     b'life insurance'  45.0              b'none'   \n4         b'none'  ...  b'no known property'  53.0              b'none'   \n..            ...  ...                   ...   ...                  ...   \n995       b'none'  ...        b'real estate'  31.0              b'none'   \n996       b'none'  ...     b'life insurance'  40.0              b'none'   \n997       b'none'  ...                b'car'  38.0              b'none'   \n998       b'none'  ...  b'no known property'  23.0              b'none'   \n999       b'none'  ...                b'car'  27.0              b'none'   \n\n         housing existing_credits                           job  \\\n0         b'own'              2.0                    b'skilled'   \n1         b'own'              1.0                    b'skilled'   \n2         b'own'              1.0         b'unskilled resident'   \n3    b'for free'              1.0                    b'skilled'   \n4    b'for free'              2.0                    b'skilled'   \n..           ...              ...                           ...   \n995       b'own'              1.0         b'unskilled resident'   \n996       b'own'              1.0  b'high qualif/self emp/mgmt'   \n997       b'own'              1.0                    b'skilled'   \n998  b'for free'              1.0                    b'skilled'   \n999       b'own'              1.0                    b'skilled'   \n\n    num_dependents  own_telephone foreign_worker    class  \n0              1.0         b'yes'         b'yes'  b'good'  \n1              1.0        b'none'         b'yes'   b'bad'  \n2              2.0        b'none'         b'yes'  b'good'  \n3              2.0        b'none'         b'yes'  b'good'  \n4              2.0        b'none'         b'yes'   b'bad'  \n..             ...            ...            ...      ...  \n995            1.0        b'none'         b'yes'  b'good'  \n996            1.0         b'yes'         b'yes'  b'good'  \n997            1.0        b'none'         b'yes'  b'good'  \n998            1.0         b'yes'         b'yes'   b'bad'  \n999            1.0        b'none'         b'yes'  b'good'  \n\n[1000 rows x 21 columns]",
      "text/html": "<div>\n<style scoped>\n    .dataframe tbody tr th:only-of-type {\n        vertical-align: middle;\n    }\n\n    .dataframe tbody tr th {\n        vertical-align: top;\n    }\n\n    .dataframe thead th {\n        text-align: right;\n    }\n</style>\n<table border=\"1\" class=\"dataframe\">\n  <thead>\n    <tr style=\"text-align: right;\">\n      <th></th>\n      <th>checking_status</th>\n      <th>duration</th>\n      <th>credit_history</th>\n      <th>purpose</th>\n      <th>credit_amount</th>\n      <th>savings_status</th>\n      <th>employment</th>\n      <th>installment_commitment</th>\n      <th>personal_status</th>\n      <th>other_parties</th>\n      <th>...</th>\n      <th>property_magnitude</th>\n      <th>age</th>\n      <th>other_payment_plans</th>\n      <th>housing</th>\n      <th>existing_credits</th>\n      <th>job</th>\n      <th>num_dependents</th>\n      <th>own_telephone</th>\n      <th>foreign_worker</th>\n      <th>class</th>\n    </tr>\n  </thead>\n  <tbody>\n    <tr>\n      <th>0</th>\n      <td>b'&lt;0'</td>\n      <td>6.0</td>\n      <td>b'critical/other existing credit'</td>\n      <td>b'radio/tv'</td>\n      <td>1169.0</td>\n      <td>b'no known savings'</td>\n      <td>b'&gt;=7'</td>\n      <td>4.0</td>\n      <td>b'male single'</td>\n      <td>b'none'</td>\n      <td>...</td>\n      <td>b'real estate'</td>\n      <td>67.0</td>\n      <td>b'none'</td>\n      <td>b'own'</td>\n      <td>2.0</td>\n      <td>b'skilled'</td>\n      <td>1.0</td>\n      <td>b'yes'</td>\n      <td>b'yes'</td>\n      <td>b'good'</td>\n    </tr>\n    <tr>\n      <th>1</th>\n      <td>b'0&lt;=X&lt;200'</td>\n      <td>48.0</td>\n      <td>b'existing paid'</td>\n      <td>b'radio/tv'</td>\n      <td>5951.0</td>\n      <td>b'&lt;100'</td>\n      <td>b'1&lt;=X&lt;4'</td>\n      <td>2.0</td>\n      <td>b'female div/dep/mar'</td>\n      <td>b'none'</td>\n      <td>...</td>\n      <td>b'real estate'</td>\n      <td>22.0</td>\n      <td>b'none'</td>\n      <td>b'own'</td>\n      <td>1.0</td>\n      <td>b'skilled'</td>\n      <td>1.0</td>\n      <td>b'none'</td>\n      <td>b'yes'</td>\n      <td>b'bad'</td>\n    </tr>\n    <tr>\n      <th>2</th>\n      <td>b'no checking'</td>\n      <td>12.0</td>\n      <td>b'critical/other existing credit'</td>\n      <td>b'education'</td>\n      <td>2096.0</td>\n      <td>b'&lt;100'</td>\n      <td>b'4&lt;=X&lt;7'</td>\n      <td>2.0</td>\n      <td>b'male single'</td>\n      <td>b'none'</td>\n      <td>...</td>\n      <td>b'real estate'</td>\n      <td>49.0</td>\n      <td>b'none'</td>\n      <td>b'own'</td>\n      <td>1.0</td>\n      <td>b'unskilled resident'</td>\n      <td>2.0</td>\n      <td>b'none'</td>\n      <td>b'yes'</td>\n      <td>b'good'</td>\n    </tr>\n    <tr>\n      <th>3</th>\n      <td>b'&lt;0'</td>\n      <td>42.0</td>\n      <td>b'existing paid'</td>\n      <td>b'furniture/equipment'</td>\n      <td>7882.0</td>\n      <td>b'&lt;100'</td>\n      <td>b'4&lt;=X&lt;7'</td>\n      <td>2.0</td>\n      <td>b'male single'</td>\n      <td>b'guarantor'</td>\n      <td>...</td>\n      <td>b'life insurance'</td>\n      <td>45.0</td>\n      <td>b'none'</td>\n      <td>b'for free'</td>\n      <td>1.0</td>\n      <td>b'skilled'</td>\n      <td>2.0</td>\n      <td>b'none'</td>\n      <td>b'yes'</td>\n      <td>b'good'</td>\n    </tr>\n    <tr>\n      <th>4</th>\n      <td>b'&lt;0'</td>\n      <td>24.0</td>\n      <td>b'delayed previously'</td>\n      <td>b'new car'</td>\n      <td>4870.0</td>\n      <td>b'&lt;100'</td>\n      <td>b'1&lt;=X&lt;4'</td>\n      <td>3.0</td>\n      <td>b'male single'</td>\n      <td>b'none'</td>\n      <td>...</td>\n      <td>b'no known property'</td>\n      <td>53.0</td>\n      <td>b'none'</td>\n      <td>b'for free'</td>\n      <td>2.0</td>\n      <td>b'skilled'</td>\n      <td>2.0</td>\n      <td>b'none'</td>\n      <td>b'yes'</td>\n      <td>b'bad'</td>\n    </tr>\n    <tr>\n      <th>...</th>\n      <td>...</td>\n      <td>...</td>\n      <td>...</td>\n      <td>...</td>\n      <td>...</td>\n      <td>...</td>\n      <td>...</td>\n      <td>...</td>\n      <td>...</td>\n      <td>...</td>\n      <td>...</td>\n      <td>...</td>\n      <td>...</td>\n      <td>...</td>\n      <td>...</td>\n      <td>...</td>\n      <td>...</td>\n      <td>...</td>\n      <td>...</td>\n      <td>...</td>\n      <td>...</td>\n    </tr>\n    <tr>\n      <th>995</th>\n      <td>b'no checking'</td>\n      <td>12.0</td>\n      <td>b'existing paid'</td>\n      <td>b'furniture/equipment'</td>\n      <td>1736.0</td>\n      <td>b'&lt;100'</td>\n      <td>b'4&lt;=X&lt;7'</td>\n      <td>3.0</td>\n      <td>b'female div/dep/mar'</td>\n      <td>b'none'</td>\n      <td>...</td>\n      <td>b'real estate'</td>\n      <td>31.0</td>\n      <td>b'none'</td>\n      <td>b'own'</td>\n      <td>1.0</td>\n      <td>b'unskilled resident'</td>\n      <td>1.0</td>\n      <td>b'none'</td>\n      <td>b'yes'</td>\n      <td>b'good'</td>\n    </tr>\n    <tr>\n      <th>996</th>\n      <td>b'&lt;0'</td>\n      <td>30.0</td>\n      <td>b'existing paid'</td>\n      <td>b'used car'</td>\n      <td>3857.0</td>\n      <td>b'&lt;100'</td>\n      <td>b'1&lt;=X&lt;4'</td>\n      <td>4.0</td>\n      <td>b'male div/sep'</td>\n      <td>b'none'</td>\n      <td>...</td>\n      <td>b'life insurance'</td>\n      <td>40.0</td>\n      <td>b'none'</td>\n      <td>b'own'</td>\n      <td>1.0</td>\n      <td>b'high qualif/self emp/mgmt'</td>\n      <td>1.0</td>\n      <td>b'yes'</td>\n      <td>b'yes'</td>\n      <td>b'good'</td>\n    </tr>\n    <tr>\n      <th>997</th>\n      <td>b'no checking'</td>\n      <td>12.0</td>\n      <td>b'existing paid'</td>\n      <td>b'radio/tv'</td>\n      <td>804.0</td>\n      <td>b'&lt;100'</td>\n      <td>b'&gt;=7'</td>\n      <td>4.0</td>\n      <td>b'male single'</td>\n      <td>b'none'</td>\n      <td>...</td>\n      <td>b'car'</td>\n      <td>38.0</td>\n      <td>b'none'</td>\n      <td>b'own'</td>\n      <td>1.0</td>\n      <td>b'skilled'</td>\n      <td>1.0</td>\n      <td>b'none'</td>\n      <td>b'yes'</td>\n      <td>b'good'</td>\n    </tr>\n    <tr>\n      <th>998</th>\n      <td>b'&lt;0'</td>\n      <td>45.0</td>\n      <td>b'existing paid'</td>\n      <td>b'radio/tv'</td>\n      <td>1845.0</td>\n      <td>b'&lt;100'</td>\n      <td>b'1&lt;=X&lt;4'</td>\n      <td>4.0</td>\n      <td>b'male single'</td>\n      <td>b'none'</td>\n      <td>...</td>\n      <td>b'no known property'</td>\n      <td>23.0</td>\n      <td>b'none'</td>\n      <td>b'for free'</td>\n      <td>1.0</td>\n      <td>b'skilled'</td>\n      <td>1.0</td>\n      <td>b'yes'</td>\n      <td>b'yes'</td>\n      <td>b'bad'</td>\n    </tr>\n    <tr>\n      <th>999</th>\n      <td>b'0&lt;=X&lt;200'</td>\n      <td>45.0</td>\n      <td>b'critical/other existing credit'</td>\n      <td>b'used car'</td>\n      <td>4576.0</td>\n      <td>b'100&lt;=X&lt;500'</td>\n      <td>b'unemployed'</td>\n      <td>3.0</td>\n      <td>b'male single'</td>\n      <td>b'none'</td>\n      <td>...</td>\n      <td>b'car'</td>\n      <td>27.0</td>\n      <td>b'none'</td>\n      <td>b'own'</td>\n      <td>1.0</td>\n      <td>b'skilled'</td>\n      <td>1.0</td>\n      <td>b'none'</td>\n      <td>b'yes'</td>\n      <td>b'good'</td>\n    </tr>\n  </tbody>\n</table>\n<p>1000 rows × 21 columns</p>\n</div>"
     },
     "execution_count": 34,
     "metadata": {},
     "output_type": "execute_result"
    }
   ],
   "source": [
    "credit"
   ]
  },
  {
   "cell_type": "markdown",
   "source": [
    "## Teste com o dataset tic-tac-toe"
   ],
   "metadata": {
    "collapsed": false
   }
  },
  {
   "cell_type": "code",
   "execution_count": 35,
   "metadata": {
    "ExecuteTime": {
     "end_time": "2023-05-05T20:19:00.553421Z",
     "start_time": "2023-05-05T20:19:00.516274Z"
    }
   },
   "outputs": [
    {
     "data": {
      "text/plain": "     Clump_Thickness  Cell_Size_Uniformity  Cell_Shape_Uniformity  \\\n0                5.0                   1.0                    1.0   \n1                5.0                   4.0                    4.0   \n2                3.0                   1.0                    1.0   \n3                6.0                   8.0                    8.0   \n4                4.0                   1.0                    1.0   \n..               ...                   ...                    ...   \n694              3.0                   1.0                    1.0   \n695              2.0                   1.0                    1.0   \n696              5.0                  10.0                   10.0   \n697              4.0                   8.0                    6.0   \n698              4.0                   8.0                    8.0   \n\n     Marginal_Adhesion  Single_Epi_Cell_Size  Bare_Nuclei  Bland_Chromatin  \\\n0                  1.0                   2.0          1.0              3.0   \n1                  5.0                   7.0         10.0              3.0   \n2                  1.0                   2.0          2.0              3.0   \n3                  1.0                   3.0          4.0              3.0   \n4                  3.0                   2.0          1.0              3.0   \n..                 ...                   ...          ...              ...   \n694                1.0                   3.0          2.0              1.0   \n695                1.0                   2.0          1.0              1.0   \n696                3.0                   7.0          3.0              8.0   \n697                4.0                   3.0          4.0             10.0   \n698                5.0                   4.0          5.0             10.0   \n\n     Normal_Nucleoli  Mitoses         Class  \n0                1.0      1.0     b'benign'  \n1                2.0      1.0     b'benign'  \n2                1.0      1.0     b'benign'  \n3                7.0      1.0     b'benign'  \n4                1.0      1.0     b'benign'  \n..               ...      ...           ...  \n694              1.0      1.0     b'benign'  \n695              1.0      1.0     b'benign'  \n696             10.0      2.0  b'malignant'  \n697              6.0      1.0  b'malignant'  \n698              4.0      1.0  b'malignant'  \n\n[699 rows x 10 columns]",
      "text/html": "<div>\n<style scoped>\n    .dataframe tbody tr th:only-of-type {\n        vertical-align: middle;\n    }\n\n    .dataframe tbody tr th {\n        vertical-align: top;\n    }\n\n    .dataframe thead th {\n        text-align: right;\n    }\n</style>\n<table border=\"1\" class=\"dataframe\">\n  <thead>\n    <tr style=\"text-align: right;\">\n      <th></th>\n      <th>Clump_Thickness</th>\n      <th>Cell_Size_Uniformity</th>\n      <th>Cell_Shape_Uniformity</th>\n      <th>Marginal_Adhesion</th>\n      <th>Single_Epi_Cell_Size</th>\n      <th>Bare_Nuclei</th>\n      <th>Bland_Chromatin</th>\n      <th>Normal_Nucleoli</th>\n      <th>Mitoses</th>\n      <th>Class</th>\n    </tr>\n  </thead>\n  <tbody>\n    <tr>\n      <th>0</th>\n      <td>5.0</td>\n      <td>1.0</td>\n      <td>1.0</td>\n      <td>1.0</td>\n      <td>2.0</td>\n      <td>1.0</td>\n      <td>3.0</td>\n      <td>1.0</td>\n      <td>1.0</td>\n      <td>b'benign'</td>\n    </tr>\n    <tr>\n      <th>1</th>\n      <td>5.0</td>\n      <td>4.0</td>\n      <td>4.0</td>\n      <td>5.0</td>\n      <td>7.0</td>\n      <td>10.0</td>\n      <td>3.0</td>\n      <td>2.0</td>\n      <td>1.0</td>\n      <td>b'benign'</td>\n    </tr>\n    <tr>\n      <th>2</th>\n      <td>3.0</td>\n      <td>1.0</td>\n      <td>1.0</td>\n      <td>1.0</td>\n      <td>2.0</td>\n      <td>2.0</td>\n      <td>3.0</td>\n      <td>1.0</td>\n      <td>1.0</td>\n      <td>b'benign'</td>\n    </tr>\n    <tr>\n      <th>3</th>\n      <td>6.0</td>\n      <td>8.0</td>\n      <td>8.0</td>\n      <td>1.0</td>\n      <td>3.0</td>\n      <td>4.0</td>\n      <td>3.0</td>\n      <td>7.0</td>\n      <td>1.0</td>\n      <td>b'benign'</td>\n    </tr>\n    <tr>\n      <th>4</th>\n      <td>4.0</td>\n      <td>1.0</td>\n      <td>1.0</td>\n      <td>3.0</td>\n      <td>2.0</td>\n      <td>1.0</td>\n      <td>3.0</td>\n      <td>1.0</td>\n      <td>1.0</td>\n      <td>b'benign'</td>\n    </tr>\n    <tr>\n      <th>...</th>\n      <td>...</td>\n      <td>...</td>\n      <td>...</td>\n      <td>...</td>\n      <td>...</td>\n      <td>...</td>\n      <td>...</td>\n      <td>...</td>\n      <td>...</td>\n      <td>...</td>\n    </tr>\n    <tr>\n      <th>694</th>\n      <td>3.0</td>\n      <td>1.0</td>\n      <td>1.0</td>\n      <td>1.0</td>\n      <td>3.0</td>\n      <td>2.0</td>\n      <td>1.0</td>\n      <td>1.0</td>\n      <td>1.0</td>\n      <td>b'benign'</td>\n    </tr>\n    <tr>\n      <th>695</th>\n      <td>2.0</td>\n      <td>1.0</td>\n      <td>1.0</td>\n      <td>1.0</td>\n      <td>2.0</td>\n      <td>1.0</td>\n      <td>1.0</td>\n      <td>1.0</td>\n      <td>1.0</td>\n      <td>b'benign'</td>\n    </tr>\n    <tr>\n      <th>696</th>\n      <td>5.0</td>\n      <td>10.0</td>\n      <td>10.0</td>\n      <td>3.0</td>\n      <td>7.0</td>\n      <td>3.0</td>\n      <td>8.0</td>\n      <td>10.0</td>\n      <td>2.0</td>\n      <td>b'malignant'</td>\n    </tr>\n    <tr>\n      <th>697</th>\n      <td>4.0</td>\n      <td>8.0</td>\n      <td>6.0</td>\n      <td>4.0</td>\n      <td>3.0</td>\n      <td>4.0</td>\n      <td>10.0</td>\n      <td>6.0</td>\n      <td>1.0</td>\n      <td>b'malignant'</td>\n    </tr>\n    <tr>\n      <th>698</th>\n      <td>4.0</td>\n      <td>8.0</td>\n      <td>8.0</td>\n      <td>5.0</td>\n      <td>4.0</td>\n      <td>5.0</td>\n      <td>10.0</td>\n      <td>4.0</td>\n      <td>1.0</td>\n      <td>b'malignant'</td>\n    </tr>\n  </tbody>\n</table>\n<p>699 rows × 10 columns</p>\n</div>"
     },
     "execution_count": 35,
     "metadata": {},
     "output_type": "execute_result"
    }
   ],
   "source": [
    "bw"
   ]
  },
  {
   "cell_type": "code",
   "execution_count": 36,
   "outputs": [],
   "source": [
    "#sns.pairplot(bw, hue='Class')"
   ],
   "metadata": {
    "collapsed": false,
    "ExecuteTime": {
     "end_time": "2023-05-05T20:19:00.553826Z",
     "start_time": "2023-05-05T20:19:00.522700Z"
    }
   }
  },
  {
   "cell_type": "code",
   "execution_count": 37,
   "outputs": [],
   "source": [
    "x = bw.loc[\"Clump_Thickness\",\"Cell_Size_Uniformity\",\"Cell_Shape_Uniformity\",\"Marginal_Adhesion\",\"Single_Epi_Cell_Size\",\"Bare_Nuclei\",\"Bland_Chromatin\",\"Normal_Nucleoli\",\"Mitoses\"].values\n",
    "y = bw.loc[\"Class\"].values"
   ],
   "metadata": {
    "collapsed": false,
    "ExecuteTime": {
     "end_time": "2023-05-05T20:19:00.555031Z",
     "start_time": "2023-05-05T20:19:00.525854Z"
    }
   }
  },
  {
   "cell_type": "code",
   "execution_count": 39,
   "outputs": [
    {
     "name": "stderr",
     "output_type": "stream",
     "text": [
      "/var/folders/69/7mc4cjm915j1s_jsnz1nwl400000gn/T/ipykernel_17502/1381773995.py:4: DataConversionWarning: A column-vector y was passed when a 1d array was expected. Please change the shape of y to (n_samples,), for example using ravel().\n",
      "  RFC_sk.fit(x_train, y_train)\n"
     ]
    },
    {
     "ename": "ValueError",
     "evalue": "Unknown label type: 'unknown'",
     "output_type": "error",
     "traceback": [
      "\u001B[0;31m---------------------------------------------------------------------------\u001B[0m",
      "\u001B[0;31mValueError\u001B[0m                                Traceback (most recent call last)",
      "Cell \u001B[0;32mIn[39], line 4\u001B[0m\n\u001B[1;32m      1\u001B[0m \u001B[38;5;28;01mfrom\u001B[39;00m \u001B[38;5;21;01mnumpy\u001B[39;00m \u001B[38;5;28;01mimport\u001B[39;00m ravel\n\u001B[1;32m      3\u001B[0m x_train, x_test, y_train, y_test \u001B[38;5;241m=\u001B[39m train_test_split(x,y,test_size\u001B[38;5;241m=\u001B[39m\u001B[38;5;241m0.3\u001B[39m, random_state\u001B[38;5;241m=\u001B[39m\u001B[38;5;241m42\u001B[39m)\n\u001B[0;32m----> 4\u001B[0m \u001B[43mRFC_sk\u001B[49m\u001B[38;5;241;43m.\u001B[39;49m\u001B[43mfit\u001B[49m\u001B[43m(\u001B[49m\u001B[43mx_train\u001B[49m\u001B[43m,\u001B[49m\u001B[43m \u001B[49m\u001B[43my_train\u001B[49m\u001B[43m)\u001B[49m\n\u001B[1;32m      5\u001B[0m predicted \u001B[38;5;241m=\u001B[39m RFC_sk\u001B[38;5;241m.\u001B[39mpredict(x_test)\n\u001B[1;32m      6\u001B[0m accuracy \u001B[38;5;241m=\u001B[39m accuracy_score(y_test, predicted)\n",
      "File \u001B[0;32m/opt/homebrew/Caskroom/miniconda/base/envs/ML/lib/python3.10/site-packages/sklearn/ensemble/_forest.py:385\u001B[0m, in \u001B[0;36mBaseForest.fit\u001B[0;34m(self, X, y, sample_weight)\u001B[0m\n\u001B[1;32m    378\u001B[0m         \u001B[38;5;28;01mraise\u001B[39;00m \u001B[38;5;167;01mValueError\u001B[39;00m(\n\u001B[1;32m    379\u001B[0m             \u001B[38;5;124m\"\u001B[39m\u001B[38;5;124mSum of y is not strictly positive which \u001B[39m\u001B[38;5;124m\"\u001B[39m\n\u001B[1;32m    380\u001B[0m             \u001B[38;5;124m\"\u001B[39m\u001B[38;5;124mis necessary for Poisson regression.\u001B[39m\u001B[38;5;124m\"\u001B[39m\n\u001B[1;32m    381\u001B[0m         )\n\u001B[1;32m    383\u001B[0m \u001B[38;5;28mself\u001B[39m\u001B[38;5;241m.\u001B[39mn_outputs_ \u001B[38;5;241m=\u001B[39m y\u001B[38;5;241m.\u001B[39mshape[\u001B[38;5;241m1\u001B[39m]\n\u001B[0;32m--> 385\u001B[0m y, expanded_class_weight \u001B[38;5;241m=\u001B[39m \u001B[38;5;28;43mself\u001B[39;49m\u001B[38;5;241;43m.\u001B[39;49m\u001B[43m_validate_y_class_weight\u001B[49m\u001B[43m(\u001B[49m\u001B[43my\u001B[49m\u001B[43m)\u001B[49m\n\u001B[1;32m    387\u001B[0m \u001B[38;5;28;01mif\u001B[39;00m \u001B[38;5;28mgetattr\u001B[39m(y, \u001B[38;5;124m\"\u001B[39m\u001B[38;5;124mdtype\u001B[39m\u001B[38;5;124m\"\u001B[39m, \u001B[38;5;28;01mNone\u001B[39;00m) \u001B[38;5;241m!=\u001B[39m DOUBLE \u001B[38;5;129;01mor\u001B[39;00m \u001B[38;5;129;01mnot\u001B[39;00m y\u001B[38;5;241m.\u001B[39mflags\u001B[38;5;241m.\u001B[39mcontiguous:\n\u001B[1;32m    388\u001B[0m     y \u001B[38;5;241m=\u001B[39m np\u001B[38;5;241m.\u001B[39mascontiguousarray(y, dtype\u001B[38;5;241m=\u001B[39mDOUBLE)\n",
      "File \u001B[0;32m/opt/homebrew/Caskroom/miniconda/base/envs/ML/lib/python3.10/site-packages/sklearn/ensemble/_forest.py:746\u001B[0m, in \u001B[0;36mForestClassifier._validate_y_class_weight\u001B[0;34m(self, y)\u001B[0m\n\u001B[1;32m    745\u001B[0m \u001B[38;5;28;01mdef\u001B[39;00m \u001B[38;5;21m_validate_y_class_weight\u001B[39m(\u001B[38;5;28mself\u001B[39m, y):\n\u001B[0;32m--> 746\u001B[0m     \u001B[43mcheck_classification_targets\u001B[49m\u001B[43m(\u001B[49m\u001B[43my\u001B[49m\u001B[43m)\u001B[49m\n\u001B[1;32m    748\u001B[0m     y \u001B[38;5;241m=\u001B[39m np\u001B[38;5;241m.\u001B[39mcopy(y)\n\u001B[1;32m    749\u001B[0m     expanded_class_weight \u001B[38;5;241m=\u001B[39m \u001B[38;5;28;01mNone\u001B[39;00m\n",
      "File \u001B[0;32m/opt/homebrew/Caskroom/miniconda/base/envs/ML/lib/python3.10/site-packages/sklearn/utils/multiclass.py:207\u001B[0m, in \u001B[0;36mcheck_classification_targets\u001B[0;34m(y)\u001B[0m\n\u001B[1;32m    199\u001B[0m y_type \u001B[38;5;241m=\u001B[39m type_of_target(y, input_name\u001B[38;5;241m=\u001B[39m\u001B[38;5;124m\"\u001B[39m\u001B[38;5;124my\u001B[39m\u001B[38;5;124m\"\u001B[39m)\n\u001B[1;32m    200\u001B[0m \u001B[38;5;28;01mif\u001B[39;00m y_type \u001B[38;5;129;01mnot\u001B[39;00m \u001B[38;5;129;01min\u001B[39;00m [\n\u001B[1;32m    201\u001B[0m     \u001B[38;5;124m\"\u001B[39m\u001B[38;5;124mbinary\u001B[39m\u001B[38;5;124m\"\u001B[39m,\n\u001B[1;32m    202\u001B[0m     \u001B[38;5;124m\"\u001B[39m\u001B[38;5;124mmulticlass\u001B[39m\u001B[38;5;124m\"\u001B[39m,\n\u001B[0;32m   (...)\u001B[0m\n\u001B[1;32m    205\u001B[0m     \u001B[38;5;124m\"\u001B[39m\u001B[38;5;124mmultilabel-sequences\u001B[39m\u001B[38;5;124m\"\u001B[39m,\n\u001B[1;32m    206\u001B[0m ]:\n\u001B[0;32m--> 207\u001B[0m     \u001B[38;5;28;01mraise\u001B[39;00m \u001B[38;5;167;01mValueError\u001B[39;00m(\u001B[38;5;124m\"\u001B[39m\u001B[38;5;124mUnknown label type: \u001B[39m\u001B[38;5;132;01m%r\u001B[39;00m\u001B[38;5;124m\"\u001B[39m \u001B[38;5;241m%\u001B[39m y_type)\n",
      "\u001B[0;31mValueError\u001B[0m: Unknown label type: 'unknown'"
     ]
    }
   ],
   "source": [
    "bw.loc[0].values"
   ],
   "metadata": {
    "collapsed": false,
    "ExecuteTime": {
     "end_time": "2023-05-05T20:19:08.664550Z",
     "start_time": "2023-05-05T20:19:08.630096Z"
    }
   }
  },
  {
   "cell_type": "code",
   "execution_count": 14,
   "outputs": [
    {
     "data": {
      "text/plain": "            Class\n0       b'benign'\n1       b'benign'\n2       b'benign'\n3       b'benign'\n4       b'benign'\n..            ...\n694     b'benign'\n695     b'benign'\n696  b'malignant'\n697  b'malignant'\n698  b'malignant'\n\n[699 rows x 1 columns]",
      "text/html": "<div>\n<style scoped>\n    .dataframe tbody tr th:only-of-type {\n        vertical-align: middle;\n    }\n\n    .dataframe tbody tr th {\n        vertical-align: top;\n    }\n\n    .dataframe thead th {\n        text-align: right;\n    }\n</style>\n<table border=\"1\" class=\"dataframe\">\n  <thead>\n    <tr style=\"text-align: right;\">\n      <th></th>\n      <th>Class</th>\n    </tr>\n  </thead>\n  <tbody>\n    <tr>\n      <th>0</th>\n      <td>b'benign'</td>\n    </tr>\n    <tr>\n      <th>1</th>\n      <td>b'benign'</td>\n    </tr>\n    <tr>\n      <th>2</th>\n      <td>b'benign'</td>\n    </tr>\n    <tr>\n      <th>3</th>\n      <td>b'benign'</td>\n    </tr>\n    <tr>\n      <th>4</th>\n      <td>b'benign'</td>\n    </tr>\n    <tr>\n      <th>...</th>\n      <td>...</td>\n    </tr>\n    <tr>\n      <th>694</th>\n      <td>b'benign'</td>\n    </tr>\n    <tr>\n      <th>695</th>\n      <td>b'benign'</td>\n    </tr>\n    <tr>\n      <th>696</th>\n      <td>b'malignant'</td>\n    </tr>\n    <tr>\n      <th>697</th>\n      <td>b'malignant'</td>\n    </tr>\n    <tr>\n      <th>698</th>\n      <td>b'malignant'</td>\n    </tr>\n  </tbody>\n</table>\n<p>699 rows × 1 columns</p>\n</div>"
     },
     "execution_count": 14,
     "metadata": {},
     "output_type": "execute_result"
    }
   ],
   "source": [
    "y"
   ],
   "metadata": {
    "collapsed": false,
    "ExecuteTime": {
     "end_time": "2023-05-05T20:13:12.219613Z",
     "start_time": "2023-05-05T20:13:11.949200Z"
    }
   }
  },
  {
   "cell_type": "code",
   "execution_count": null,
   "outputs": [],
   "source": [
    "x_train, x_test, y_train, y_test = train_test_split(x,y,test_size=0.3, random_state=42)\n",
    "RFC_local.fit(x_train, y_train)\n",
    "predicted = RFC_local.predict(x_test)\n",
    "accuracy = accuracy_score(y_test, predicted)\n",
    "\n",
    "print(f'Out-of-bag score estimate: {RFC_local.oob_score_:.3}')\n",
    "print(f'Mean accuracy score: {accuracy:.3}')"
   ],
   "metadata": {
    "collapsed": false,
    "ExecuteTime": {
     "start_time": "2023-05-05T20:19:00.567706Z"
    }
   }
  },
  {
   "cell_type": "markdown",
   "source": [
    "## Teste com o dataset qsar-biodeg"
   ],
   "metadata": {
    "collapsed": false,
    "ExecuteTime": {
     "start_time": "2023-05-05T20:19:00.568657Z"
    }
   },
   "outputs": []
  },
  {
   "cell_type": "code",
   "execution_count": null,
   "metadata": {
    "ExecuteTime": {
     "start_time": "2023-05-05T20:13:12.451279Z"
    }
   },
   "outputs": [],
   "source": [
    "qsar"
   ]
  },
  {
   "cell_type": "code",
   "execution_count": null,
   "outputs": [],
   "source": [],
   "metadata": {
    "collapsed": false,
    "ExecuteTime": {
     "start_time": "2023-05-05T20:13:12.452450Z"
    }
   }
  }
 ],
 "metadata": {
  "kernelspec": {
   "display_name": "Python 3 (ipykernel)",
   "language": "python",
   "name": "python3"
  },
  "language_info": {
   "codemirror_mode": {
    "name": "ipython",
    "version": 3
   },
   "file_extension": ".py",
   "mimetype": "text/x-python",
   "name": "python",
   "nbconvert_exporter": "python",
   "pygments_lexer": "ipython3",
   "version": "3.11.3"
  }
 },
 "nbformat": 4,
 "nbformat_minor": 1
}
