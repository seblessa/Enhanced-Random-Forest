{
 "cells": [
  {
   "cell_type": "markdown",
   "metadata": {},
   "source": [
    "# Trabalho prático AC"
   ]
  },
  {
   "cell_type": "markdown",
   "metadata": {},
   "source": [
    "## Trabalho realizado por:\n",
    "\n",
    "Margarida Vila-chã, 20210504\n",
    "\n",
    "Miguel Duarte Silva, 20210504\n",
    "\n",
    "Sebastião Lessa, 202103238\n"
   ]
  },
  {
   "cell_type": "markdown",
   "metadata": {},
   "source": [
    "## Algoritmo escolhido e breve explicação:\n",
    "\n",
    "O algoritmo escolhido pelo nosso grupo foi o Random Forrest.\n",
    "\n",
    "Este algoritmo é um algoritmo de aprendizagem computacional supervisionado. Ele usa uma combinação de árvores de decisão aleatórias. O processo começa com a criação de um grande número de árvores (floresta), em que cada uma das árvores criadas é treinada com uma amostra diferente. Isto permite a criação de árvores suficientemente diferentes, o que leva a que elas juntas consigam lidar com uma ampla variedade de situações, reduzindo o risco de overffitting.\n",
    "\n",
    "Baseamos-nos nos seguintes testes:\n",
    "\n",
    "- [credit-g](https://www.openml.org/search?type=run&id=591&collections.id=99&run_task.task_id=31&sort=date)\n",
    "- [breast-w](https://www.openml.org/search?type=run&id=7413&collections.id=99&run_task.task_id=15)\n",
    "- [qsar-biodeg](https://www.openml.org/search?type=run&id=519587&collections.id=99&run_task.task_id=9957)"
   ]
  },
  {
   "cell_type": "markdown",
   "metadata": {},
   "source": [
    "## Importação das bibliotecas necessárias:"
   ]
  },
  {
   "cell_type": "code",
   "execution_count": 10,
   "metadata": {
    "ExecuteTime": {
     "end_time": "2023-05-05T19:30:56.552919Z",
     "start_time": "2023-05-05T19:30:53.434894Z"
    }
   },
   "outputs": [],
   "source": [
    "from scipy.io import arff\n",
    "import numpy as np\n",
    "import pandas as pd\n",
    "import matplotlib.pyplot as plt\n",
    "import seaborn as sns\n",
    "from sklearn.metrics import accuracy_score\n",
    "from sklearn.ensemble import RandomForestClassifier\n",
    "from RandomForestClassifier import RandomForestClassifier as RFC_local\n",
    "from RandomForestClassifierUpgraded import RandomForestClassifierUpgraded"
   ]
  },
  {
   "cell_type": "markdown",
   "metadata": {},
   "source": [
    "## Inicializações"
   ]
  },
  {
   "cell_type": "code",
   "execution_count": 11,
   "metadata": {
    "ExecuteTime": {
     "end_time": "2023-05-05T19:30:56.593010Z",
     "start_time": "2023-05-05T19:30:56.554388Z"
    }
   },
   "outputs": [],
   "source": [
    "credit = pd.DataFrame(arff.loadarff('datasets/credit-g.arff')[0])\n",
    "bw = pd.DataFrame(arff.loadarff('datasets/breast-w.arff')[0])\n",
    "qsar = pd.DataFrame(arff.loadarff('datasets/qsar-biodeg.arff')[0])\n",
    "\n",
    "RFC_local = RFC_local(n_estimators=100, oob_score=True, random_state=42)\n",
    "RFC_upgraded = RandomForestClassifierUpgraded(n_estimators=100, oob_score=True, random_state=42)\n",
    "RFC_sk = RandomForestClassifier(n_estimators=100, oob_score=True, random_state=42)\n"
   ]
  },
  {
   "cell_type": "markdown",
   "metadata": {},
   "source": [
    "## Teste com o dataset credit-g"
   ]
  },
  {
   "cell_type": "code",
   "execution_count": 15,
   "metadata": {
    "ExecuteTime": {
     "end_time": "2023-05-05T19:32:11.451895Z",
     "start_time": "2023-05-05T19:32:11.445722Z"
    }
   },
   "outputs": [
    {
     "data": {
      "text/plain": "    checking_status  duration                     credit_history  \\\n0             b'<0'       6.0  b'critical/other existing credit'   \n1       b'0<=X<200'      48.0                   b'existing paid'   \n2    b'no checking'      12.0  b'critical/other existing credit'   \n3             b'<0'      42.0                   b'existing paid'   \n4             b'<0'      24.0              b'delayed previously'   \n..              ...       ...                                ...   \n995  b'no checking'      12.0                   b'existing paid'   \n996           b'<0'      30.0                   b'existing paid'   \n997  b'no checking'      12.0                   b'existing paid'   \n998           b'<0'      45.0                   b'existing paid'   \n999     b'0<=X<200'      45.0  b'critical/other existing credit'   \n\n                    purpose  credit_amount       savings_status  \\\n0               b'radio/tv'         1169.0  b'no known savings'   \n1               b'radio/tv'         5951.0              b'<100'   \n2              b'education'         2096.0              b'<100'   \n3    b'furniture/equipment'         7882.0              b'<100'   \n4                b'new car'         4870.0              b'<100'   \n..                      ...            ...                  ...   \n995  b'furniture/equipment'         1736.0              b'<100'   \n996             b'used car'         3857.0              b'<100'   \n997             b'radio/tv'          804.0              b'<100'   \n998             b'radio/tv'         1845.0              b'<100'   \n999             b'used car'         4576.0        b'100<=X<500'   \n\n        employment  installment_commitment        personal_status  \\\n0           b'>=7'                     4.0         b'male single'   \n1        b'1<=X<4'                     2.0  b'female div/dep/mar'   \n2        b'4<=X<7'                     2.0         b'male single'   \n3        b'4<=X<7'                     2.0         b'male single'   \n4        b'1<=X<4'                     3.0         b'male single'   \n..             ...                     ...                    ...   \n995      b'4<=X<7'                     3.0  b'female div/dep/mar'   \n996      b'1<=X<4'                     4.0        b'male div/sep'   \n997         b'>=7'                     4.0         b'male single'   \n998      b'1<=X<4'                     4.0         b'male single'   \n999  b'unemployed'                     3.0         b'male single'   \n\n    other_parties  ...    property_magnitude   age  other_payment_plans  \\\n0         b'none'  ...        b'real estate'  67.0              b'none'   \n1         b'none'  ...        b'real estate'  22.0              b'none'   \n2         b'none'  ...        b'real estate'  49.0              b'none'   \n3    b'guarantor'  ...     b'life insurance'  45.0              b'none'   \n4         b'none'  ...  b'no known property'  53.0              b'none'   \n..            ...  ...                   ...   ...                  ...   \n995       b'none'  ...        b'real estate'  31.0              b'none'   \n996       b'none'  ...     b'life insurance'  40.0              b'none'   \n997       b'none'  ...                b'car'  38.0              b'none'   \n998       b'none'  ...  b'no known property'  23.0              b'none'   \n999       b'none'  ...                b'car'  27.0              b'none'   \n\n         housing existing_credits                           job  \\\n0         b'own'              2.0                    b'skilled'   \n1         b'own'              1.0                    b'skilled'   \n2         b'own'              1.0         b'unskilled resident'   \n3    b'for free'              1.0                    b'skilled'   \n4    b'for free'              2.0                    b'skilled'   \n..           ...              ...                           ...   \n995       b'own'              1.0         b'unskilled resident'   \n996       b'own'              1.0  b'high qualif/self emp/mgmt'   \n997       b'own'              1.0                    b'skilled'   \n998  b'for free'              1.0                    b'skilled'   \n999       b'own'              1.0                    b'skilled'   \n\n    num_dependents  own_telephone foreign_worker    class  \n0              1.0         b'yes'         b'yes'  b'good'  \n1              1.0        b'none'         b'yes'   b'bad'  \n2              2.0        b'none'         b'yes'  b'good'  \n3              2.0        b'none'         b'yes'  b'good'  \n4              2.0        b'none'         b'yes'   b'bad'  \n..             ...            ...            ...      ...  \n995            1.0        b'none'         b'yes'  b'good'  \n996            1.0         b'yes'         b'yes'  b'good'  \n997            1.0        b'none'         b'yes'  b'good'  \n998            1.0         b'yes'         b'yes'   b'bad'  \n999            1.0        b'none'         b'yes'  b'good'  \n\n[1000 rows x 21 columns]",
      "text/html": "<div>\n<style scoped>\n    .dataframe tbody tr th:only-of-type {\n        vertical-align: middle;\n    }\n\n    .dataframe tbody tr th {\n        vertical-align: top;\n    }\n\n    .dataframe thead th {\n        text-align: right;\n    }\n</style>\n<table border=\"1\" class=\"dataframe\">\n  <thead>\n    <tr style=\"text-align: right;\">\n      <th></th>\n      <th>checking_status</th>\n      <th>duration</th>\n      <th>credit_history</th>\n      <th>purpose</th>\n      <th>credit_amount</th>\n      <th>savings_status</th>\n      <th>employment</th>\n      <th>installment_commitment</th>\n      <th>personal_status</th>\n      <th>other_parties</th>\n      <th>...</th>\n      <th>property_magnitude</th>\n      <th>age</th>\n      <th>other_payment_plans</th>\n      <th>housing</th>\n      <th>existing_credits</th>\n      <th>job</th>\n      <th>num_dependents</th>\n      <th>own_telephone</th>\n      <th>foreign_worker</th>\n      <th>class</th>\n    </tr>\n  </thead>\n  <tbody>\n    <tr>\n      <th>0</th>\n      <td>b'&lt;0'</td>\n      <td>6.0</td>\n      <td>b'critical/other existing credit'</td>\n      <td>b'radio/tv'</td>\n      <td>1169.0</td>\n      <td>b'no known savings'</td>\n      <td>b'&gt;=7'</td>\n      <td>4.0</td>\n      <td>b'male single'</td>\n      <td>b'none'</td>\n      <td>...</td>\n      <td>b'real estate'</td>\n      <td>67.0</td>\n      <td>b'none'</td>\n      <td>b'own'</td>\n      <td>2.0</td>\n      <td>b'skilled'</td>\n      <td>1.0</td>\n      <td>b'yes'</td>\n      <td>b'yes'</td>\n      <td>b'good'</td>\n    </tr>\n    <tr>\n      <th>1</th>\n      <td>b'0&lt;=X&lt;200'</td>\n      <td>48.0</td>\n      <td>b'existing paid'</td>\n      <td>b'radio/tv'</td>\n      <td>5951.0</td>\n      <td>b'&lt;100'</td>\n      <td>b'1&lt;=X&lt;4'</td>\n      <td>2.0</td>\n      <td>b'female div/dep/mar'</td>\n      <td>b'none'</td>\n      <td>...</td>\n      <td>b'real estate'</td>\n      <td>22.0</td>\n      <td>b'none'</td>\n      <td>b'own'</td>\n      <td>1.0</td>\n      <td>b'skilled'</td>\n      <td>1.0</td>\n      <td>b'none'</td>\n      <td>b'yes'</td>\n      <td>b'bad'</td>\n    </tr>\n    <tr>\n      <th>2</th>\n      <td>b'no checking'</td>\n      <td>12.0</td>\n      <td>b'critical/other existing credit'</td>\n      <td>b'education'</td>\n      <td>2096.0</td>\n      <td>b'&lt;100'</td>\n      <td>b'4&lt;=X&lt;7'</td>\n      <td>2.0</td>\n      <td>b'male single'</td>\n      <td>b'none'</td>\n      <td>...</td>\n      <td>b'real estate'</td>\n      <td>49.0</td>\n      <td>b'none'</td>\n      <td>b'own'</td>\n      <td>1.0</td>\n      <td>b'unskilled resident'</td>\n      <td>2.0</td>\n      <td>b'none'</td>\n      <td>b'yes'</td>\n      <td>b'good'</td>\n    </tr>\n    <tr>\n      <th>3</th>\n      <td>b'&lt;0'</td>\n      <td>42.0</td>\n      <td>b'existing paid'</td>\n      <td>b'furniture/equipment'</td>\n      <td>7882.0</td>\n      <td>b'&lt;100'</td>\n      <td>b'4&lt;=X&lt;7'</td>\n      <td>2.0</td>\n      <td>b'male single'</td>\n      <td>b'guarantor'</td>\n      <td>...</td>\n      <td>b'life insurance'</td>\n      <td>45.0</td>\n      <td>b'none'</td>\n      <td>b'for free'</td>\n      <td>1.0</td>\n      <td>b'skilled'</td>\n      <td>2.0</td>\n      <td>b'none'</td>\n      <td>b'yes'</td>\n      <td>b'good'</td>\n    </tr>\n    <tr>\n      <th>4</th>\n      <td>b'&lt;0'</td>\n      <td>24.0</td>\n      <td>b'delayed previously'</td>\n      <td>b'new car'</td>\n      <td>4870.0</td>\n      <td>b'&lt;100'</td>\n      <td>b'1&lt;=X&lt;4'</td>\n      <td>3.0</td>\n      <td>b'male single'</td>\n      <td>b'none'</td>\n      <td>...</td>\n      <td>b'no known property'</td>\n      <td>53.0</td>\n      <td>b'none'</td>\n      <td>b'for free'</td>\n      <td>2.0</td>\n      <td>b'skilled'</td>\n      <td>2.0</td>\n      <td>b'none'</td>\n      <td>b'yes'</td>\n      <td>b'bad'</td>\n    </tr>\n    <tr>\n      <th>...</th>\n      <td>...</td>\n      <td>...</td>\n      <td>...</td>\n      <td>...</td>\n      <td>...</td>\n      <td>...</td>\n      <td>...</td>\n      <td>...</td>\n      <td>...</td>\n      <td>...</td>\n      <td>...</td>\n      <td>...</td>\n      <td>...</td>\n      <td>...</td>\n      <td>...</td>\n      <td>...</td>\n      <td>...</td>\n      <td>...</td>\n      <td>...</td>\n      <td>...</td>\n      <td>...</td>\n    </tr>\n    <tr>\n      <th>995</th>\n      <td>b'no checking'</td>\n      <td>12.0</td>\n      <td>b'existing paid'</td>\n      <td>b'furniture/equipment'</td>\n      <td>1736.0</td>\n      <td>b'&lt;100'</td>\n      <td>b'4&lt;=X&lt;7'</td>\n      <td>3.0</td>\n      <td>b'female div/dep/mar'</td>\n      <td>b'none'</td>\n      <td>...</td>\n      <td>b'real estate'</td>\n      <td>31.0</td>\n      <td>b'none'</td>\n      <td>b'own'</td>\n      <td>1.0</td>\n      <td>b'unskilled resident'</td>\n      <td>1.0</td>\n      <td>b'none'</td>\n      <td>b'yes'</td>\n      <td>b'good'</td>\n    </tr>\n    <tr>\n      <th>996</th>\n      <td>b'&lt;0'</td>\n      <td>30.0</td>\n      <td>b'existing paid'</td>\n      <td>b'used car'</td>\n      <td>3857.0</td>\n      <td>b'&lt;100'</td>\n      <td>b'1&lt;=X&lt;4'</td>\n      <td>4.0</td>\n      <td>b'male div/sep'</td>\n      <td>b'none'</td>\n      <td>...</td>\n      <td>b'life insurance'</td>\n      <td>40.0</td>\n      <td>b'none'</td>\n      <td>b'own'</td>\n      <td>1.0</td>\n      <td>b'high qualif/self emp/mgmt'</td>\n      <td>1.0</td>\n      <td>b'yes'</td>\n      <td>b'yes'</td>\n      <td>b'good'</td>\n    </tr>\n    <tr>\n      <th>997</th>\n      <td>b'no checking'</td>\n      <td>12.0</td>\n      <td>b'existing paid'</td>\n      <td>b'radio/tv'</td>\n      <td>804.0</td>\n      <td>b'&lt;100'</td>\n      <td>b'&gt;=7'</td>\n      <td>4.0</td>\n      <td>b'male single'</td>\n      <td>b'none'</td>\n      <td>...</td>\n      <td>b'car'</td>\n      <td>38.0</td>\n      <td>b'none'</td>\n      <td>b'own'</td>\n      <td>1.0</td>\n      <td>b'skilled'</td>\n      <td>1.0</td>\n      <td>b'none'</td>\n      <td>b'yes'</td>\n      <td>b'good'</td>\n    </tr>\n    <tr>\n      <th>998</th>\n      <td>b'&lt;0'</td>\n      <td>45.0</td>\n      <td>b'existing paid'</td>\n      <td>b'radio/tv'</td>\n      <td>1845.0</td>\n      <td>b'&lt;100'</td>\n      <td>b'1&lt;=X&lt;4'</td>\n      <td>4.0</td>\n      <td>b'male single'</td>\n      <td>b'none'</td>\n      <td>...</td>\n      <td>b'no known property'</td>\n      <td>23.0</td>\n      <td>b'none'</td>\n      <td>b'for free'</td>\n      <td>1.0</td>\n      <td>b'skilled'</td>\n      <td>1.0</td>\n      <td>b'yes'</td>\n      <td>b'yes'</td>\n      <td>b'bad'</td>\n    </tr>\n    <tr>\n      <th>999</th>\n      <td>b'0&lt;=X&lt;200'</td>\n      <td>45.0</td>\n      <td>b'critical/other existing credit'</td>\n      <td>b'used car'</td>\n      <td>4576.0</td>\n      <td>b'100&lt;=X&lt;500'</td>\n      <td>b'unemployed'</td>\n      <td>3.0</td>\n      <td>b'male single'</td>\n      <td>b'none'</td>\n      <td>...</td>\n      <td>b'car'</td>\n      <td>27.0</td>\n      <td>b'none'</td>\n      <td>b'own'</td>\n      <td>1.0</td>\n      <td>b'skilled'</td>\n      <td>1.0</td>\n      <td>b'none'</td>\n      <td>b'yes'</td>\n      <td>b'good'</td>\n    </tr>\n  </tbody>\n</table>\n<p>1000 rows × 21 columns</p>\n</div>"
     },
     "execution_count": 15,
     "metadata": {},
     "output_type": "execute_result"
    }
   ],
   "source": [
    "credit"
   ]
  },
  {
   "cell_type": "markdown",
   "source": [
    "## Teste com o dataset tic-tac-toe"
   ],
   "metadata": {
    "collapsed": false
   }
  },
  {
   "cell_type": "code",
   "execution_count": 13,
   "metadata": {
    "ExecuteTime": {
     "end_time": "2023-05-05T19:31:03.072860Z",
     "start_time": "2023-05-05T19:31:03.064390Z"
    }
   },
   "outputs": [
    {
     "data": {
      "text/plain": "     Clump_Thickness  Cell_Size_Uniformity  Cell_Shape_Uniformity  \\\n0                5.0                   1.0                    1.0   \n1                5.0                   4.0                    4.0   \n2                3.0                   1.0                    1.0   \n3                6.0                   8.0                    8.0   \n4                4.0                   1.0                    1.0   \n..               ...                   ...                    ...   \n694              3.0                   1.0                    1.0   \n695              2.0                   1.0                    1.0   \n696              5.0                  10.0                   10.0   \n697              4.0                   8.0                    6.0   \n698              4.0                   8.0                    8.0   \n\n     Marginal_Adhesion  Single_Epi_Cell_Size  Bare_Nuclei  Bland_Chromatin  \\\n0                  1.0                   2.0          1.0              3.0   \n1                  5.0                   7.0         10.0              3.0   \n2                  1.0                   2.0          2.0              3.0   \n3                  1.0                   3.0          4.0              3.0   \n4                  3.0                   2.0          1.0              3.0   \n..                 ...                   ...          ...              ...   \n694                1.0                   3.0          2.0              1.0   \n695                1.0                   2.0          1.0              1.0   \n696                3.0                   7.0          3.0              8.0   \n697                4.0                   3.0          4.0             10.0   \n698                5.0                   4.0          5.0             10.0   \n\n     Normal_Nucleoli  Mitoses         Class  \n0                1.0      1.0     b'benign'  \n1                2.0      1.0     b'benign'  \n2                1.0      1.0     b'benign'  \n3                7.0      1.0     b'benign'  \n4                1.0      1.0     b'benign'  \n..               ...      ...           ...  \n694              1.0      1.0     b'benign'  \n695              1.0      1.0     b'benign'  \n696             10.0      2.0  b'malignant'  \n697              6.0      1.0  b'malignant'  \n698              4.0      1.0  b'malignant'  \n\n[699 rows x 10 columns]",
      "text/html": "<div>\n<style scoped>\n    .dataframe tbody tr th:only-of-type {\n        vertical-align: middle;\n    }\n\n    .dataframe tbody tr th {\n        vertical-align: top;\n    }\n\n    .dataframe thead th {\n        text-align: right;\n    }\n</style>\n<table border=\"1\" class=\"dataframe\">\n  <thead>\n    <tr style=\"text-align: right;\">\n      <th></th>\n      <th>Clump_Thickness</th>\n      <th>Cell_Size_Uniformity</th>\n      <th>Cell_Shape_Uniformity</th>\n      <th>Marginal_Adhesion</th>\n      <th>Single_Epi_Cell_Size</th>\n      <th>Bare_Nuclei</th>\n      <th>Bland_Chromatin</th>\n      <th>Normal_Nucleoli</th>\n      <th>Mitoses</th>\n      <th>Class</th>\n    </tr>\n  </thead>\n  <tbody>\n    <tr>\n      <th>0</th>\n      <td>5.0</td>\n      <td>1.0</td>\n      <td>1.0</td>\n      <td>1.0</td>\n      <td>2.0</td>\n      <td>1.0</td>\n      <td>3.0</td>\n      <td>1.0</td>\n      <td>1.0</td>\n      <td>b'benign'</td>\n    </tr>\n    <tr>\n      <th>1</th>\n      <td>5.0</td>\n      <td>4.0</td>\n      <td>4.0</td>\n      <td>5.0</td>\n      <td>7.0</td>\n      <td>10.0</td>\n      <td>3.0</td>\n      <td>2.0</td>\n      <td>1.0</td>\n      <td>b'benign'</td>\n    </tr>\n    <tr>\n      <th>2</th>\n      <td>3.0</td>\n      <td>1.0</td>\n      <td>1.0</td>\n      <td>1.0</td>\n      <td>2.0</td>\n      <td>2.0</td>\n      <td>3.0</td>\n      <td>1.0</td>\n      <td>1.0</td>\n      <td>b'benign'</td>\n    </tr>\n    <tr>\n      <th>3</th>\n      <td>6.0</td>\n      <td>8.0</td>\n      <td>8.0</td>\n      <td>1.0</td>\n      <td>3.0</td>\n      <td>4.0</td>\n      <td>3.0</td>\n      <td>7.0</td>\n      <td>1.0</td>\n      <td>b'benign'</td>\n    </tr>\n    <tr>\n      <th>4</th>\n      <td>4.0</td>\n      <td>1.0</td>\n      <td>1.0</td>\n      <td>3.0</td>\n      <td>2.0</td>\n      <td>1.0</td>\n      <td>3.0</td>\n      <td>1.0</td>\n      <td>1.0</td>\n      <td>b'benign'</td>\n    </tr>\n    <tr>\n      <th>...</th>\n      <td>...</td>\n      <td>...</td>\n      <td>...</td>\n      <td>...</td>\n      <td>...</td>\n      <td>...</td>\n      <td>...</td>\n      <td>...</td>\n      <td>...</td>\n      <td>...</td>\n    </tr>\n    <tr>\n      <th>694</th>\n      <td>3.0</td>\n      <td>1.0</td>\n      <td>1.0</td>\n      <td>1.0</td>\n      <td>3.0</td>\n      <td>2.0</td>\n      <td>1.0</td>\n      <td>1.0</td>\n      <td>1.0</td>\n      <td>b'benign'</td>\n    </tr>\n    <tr>\n      <th>695</th>\n      <td>2.0</td>\n      <td>1.0</td>\n      <td>1.0</td>\n      <td>1.0</td>\n      <td>2.0</td>\n      <td>1.0</td>\n      <td>1.0</td>\n      <td>1.0</td>\n      <td>1.0</td>\n      <td>b'benign'</td>\n    </tr>\n    <tr>\n      <th>696</th>\n      <td>5.0</td>\n      <td>10.0</td>\n      <td>10.0</td>\n      <td>3.0</td>\n      <td>7.0</td>\n      <td>3.0</td>\n      <td>8.0</td>\n      <td>10.0</td>\n      <td>2.0</td>\n      <td>b'malignant'</td>\n    </tr>\n    <tr>\n      <th>697</th>\n      <td>4.0</td>\n      <td>8.0</td>\n      <td>6.0</td>\n      <td>4.0</td>\n      <td>3.0</td>\n      <td>4.0</td>\n      <td>10.0</td>\n      <td>6.0</td>\n      <td>1.0</td>\n      <td>b'malignant'</td>\n    </tr>\n    <tr>\n      <th>698</th>\n      <td>4.0</td>\n      <td>8.0</td>\n      <td>8.0</td>\n      <td>5.0</td>\n      <td>4.0</td>\n      <td>5.0</td>\n      <td>10.0</td>\n      <td>4.0</td>\n      <td>1.0</td>\n      <td>b'malignant'</td>\n    </tr>\n  </tbody>\n</table>\n<p>699 rows × 10 columns</p>\n</div>"
     },
     "execution_count": 13,
     "metadata": {},
     "output_type": "execute_result"
    }
   ],
   "source": [
    "bw"
   ]
  },
  {
   "cell_type": "code",
   "execution_count": 17,
   "outputs": [],
   "source": [
    "#sns.pairplot(bw, hue='Class')"
   ],
   "metadata": {
    "collapsed": false,
    "ExecuteTime": {
     "end_time": "2023-05-05T19:35:15.365479Z",
     "start_time": "2023-05-05T19:35:15.348056Z"
    }
   }
  },
  {
   "cell_type": "code",
   "execution_count": null,
   "outputs": [],
   "source": [
    "x_train, x_test, y_train, y_test = RFC_local.split_data(bw['Class'])\n",
    "RFC_local.fit(x_train, y_train)\n",
    "predicted = RFC_local.predict(x_test)\n",
    "\n"
   ],
   "metadata": {
    "collapsed": false
   }
  },
  {
   "cell_type": "markdown",
   "source": [
    "## Teste com o dataset qsar-biodeg"
   ],
   "metadata": {
    "collapsed": false
   }
  },
  {
   "cell_type": "code",
   "execution_count": 14,
   "metadata": {
    "ExecuteTime": {
     "end_time": "2023-05-05T19:31:52.838007Z",
     "start_time": "2023-05-05T19:31:52.822059Z"
    }
   },
   "outputs": [
    {
     "data": {
      "text/plain": "         V1      V2   V3   V4    V5   V6   V7    V8   V9  V10  ...  V33   V34  \\\n0     3.919  2.6909  0.0  0.0   0.0  0.0  0.0  31.4  2.0  0.0  ...  0.0   0.0   \n1     4.170  2.1144  0.0  0.0   0.0  0.0  0.0  30.8  1.0  1.0  ...  0.0   0.0   \n2     3.932  3.2512  0.0  0.0   0.0  0.0  0.0  26.7  2.0  4.0  ...  0.0   0.0   \n3     3.000  2.7098  0.0  0.0   0.0  0.0  0.0  20.0  0.0  2.0  ...  0.0   0.0   \n4     4.236  3.3944  0.0  0.0   0.0  0.0  0.0  29.4  2.0  4.0  ...  0.0   0.0   \n...     ...     ...  ...  ...   ...  ...  ...   ...  ...  ...  ...  ...   ...   \n1050  5.431  2.8955  0.0  0.0   0.0  2.0  0.0  32.1  4.0  1.0  ...  0.0   6.0   \n1051  5.287  3.3732  0.0  0.0   9.0  0.0  0.0  35.3  0.0  9.0  ...  0.0   3.0   \n1052  4.869  1.7670  0.0  1.0   9.0  0.0  5.0  44.4  0.0  4.0  ...  4.0  13.0   \n1053  5.158  1.6914  2.0  0.0  36.0  0.0  9.0  56.1  0.0  0.0  ...  1.0  16.0   \n1054  5.076  2.6588  2.0  0.0   0.0  0.0  4.0  54.5  0.0  0.0  ...  2.0   0.0   \n\n      V35    V36    V37  V38     V39  V40  V41  Class  \n0     0.0  2.949  1.591  0.0   7.253  0.0  0.0   b'2'  \n1     0.0  3.315  1.967  0.0   7.257  0.0  0.0   b'2'  \n2     1.0  3.076  2.417  0.0   7.601  0.0  0.0   b'2'  \n3     1.0  3.046  5.000  0.0   6.690  0.0  0.0   b'2'  \n4     0.0  3.351  2.405  0.0   8.003  0.0  0.0   b'2'  \n...   ...    ...    ...  ...     ...  ...  ...    ...  \n1050  1.0  3.573  2.242  1.0   8.088  0.0  0.0   b'1'  \n1051  0.0  3.787  3.083  3.0   9.278  0.0  0.0   b'1'  \n1052  0.0  3.848  2.576  5.0   9.537  1.0  0.0   b'1'  \n1053  0.0  5.808  2.055  8.0  11.055  0.0  1.0   b'1'  \n1054  0.0  4.009  2.206  0.0   9.130  0.0  2.0   b'1'  \n\n[1055 rows x 42 columns]",
      "text/html": "<div>\n<style scoped>\n    .dataframe tbody tr th:only-of-type {\n        vertical-align: middle;\n    }\n\n    .dataframe tbody tr th {\n        vertical-align: top;\n    }\n\n    .dataframe thead th {\n        text-align: right;\n    }\n</style>\n<table border=\"1\" class=\"dataframe\">\n  <thead>\n    <tr style=\"text-align: right;\">\n      <th></th>\n      <th>V1</th>\n      <th>V2</th>\n      <th>V3</th>\n      <th>V4</th>\n      <th>V5</th>\n      <th>V6</th>\n      <th>V7</th>\n      <th>V8</th>\n      <th>V9</th>\n      <th>V10</th>\n      <th>...</th>\n      <th>V33</th>\n      <th>V34</th>\n      <th>V35</th>\n      <th>V36</th>\n      <th>V37</th>\n      <th>V38</th>\n      <th>V39</th>\n      <th>V40</th>\n      <th>V41</th>\n      <th>Class</th>\n    </tr>\n  </thead>\n  <tbody>\n    <tr>\n      <th>0</th>\n      <td>3.919</td>\n      <td>2.6909</td>\n      <td>0.0</td>\n      <td>0.0</td>\n      <td>0.0</td>\n      <td>0.0</td>\n      <td>0.0</td>\n      <td>31.4</td>\n      <td>2.0</td>\n      <td>0.0</td>\n      <td>...</td>\n      <td>0.0</td>\n      <td>0.0</td>\n      <td>0.0</td>\n      <td>2.949</td>\n      <td>1.591</td>\n      <td>0.0</td>\n      <td>7.253</td>\n      <td>0.0</td>\n      <td>0.0</td>\n      <td>b'2'</td>\n    </tr>\n    <tr>\n      <th>1</th>\n      <td>4.170</td>\n      <td>2.1144</td>\n      <td>0.0</td>\n      <td>0.0</td>\n      <td>0.0</td>\n      <td>0.0</td>\n      <td>0.0</td>\n      <td>30.8</td>\n      <td>1.0</td>\n      <td>1.0</td>\n      <td>...</td>\n      <td>0.0</td>\n      <td>0.0</td>\n      <td>0.0</td>\n      <td>3.315</td>\n      <td>1.967</td>\n      <td>0.0</td>\n      <td>7.257</td>\n      <td>0.0</td>\n      <td>0.0</td>\n      <td>b'2'</td>\n    </tr>\n    <tr>\n      <th>2</th>\n      <td>3.932</td>\n      <td>3.2512</td>\n      <td>0.0</td>\n      <td>0.0</td>\n      <td>0.0</td>\n      <td>0.0</td>\n      <td>0.0</td>\n      <td>26.7</td>\n      <td>2.0</td>\n      <td>4.0</td>\n      <td>...</td>\n      <td>0.0</td>\n      <td>0.0</td>\n      <td>1.0</td>\n      <td>3.076</td>\n      <td>2.417</td>\n      <td>0.0</td>\n      <td>7.601</td>\n      <td>0.0</td>\n      <td>0.0</td>\n      <td>b'2'</td>\n    </tr>\n    <tr>\n      <th>3</th>\n      <td>3.000</td>\n      <td>2.7098</td>\n      <td>0.0</td>\n      <td>0.0</td>\n      <td>0.0</td>\n      <td>0.0</td>\n      <td>0.0</td>\n      <td>20.0</td>\n      <td>0.0</td>\n      <td>2.0</td>\n      <td>...</td>\n      <td>0.0</td>\n      <td>0.0</td>\n      <td>1.0</td>\n      <td>3.046</td>\n      <td>5.000</td>\n      <td>0.0</td>\n      <td>6.690</td>\n      <td>0.0</td>\n      <td>0.0</td>\n      <td>b'2'</td>\n    </tr>\n    <tr>\n      <th>4</th>\n      <td>4.236</td>\n      <td>3.3944</td>\n      <td>0.0</td>\n      <td>0.0</td>\n      <td>0.0</td>\n      <td>0.0</td>\n      <td>0.0</td>\n      <td>29.4</td>\n      <td>2.0</td>\n      <td>4.0</td>\n      <td>...</td>\n      <td>0.0</td>\n      <td>0.0</td>\n      <td>0.0</td>\n      <td>3.351</td>\n      <td>2.405</td>\n      <td>0.0</td>\n      <td>8.003</td>\n      <td>0.0</td>\n      <td>0.0</td>\n      <td>b'2'</td>\n    </tr>\n    <tr>\n      <th>...</th>\n      <td>...</td>\n      <td>...</td>\n      <td>...</td>\n      <td>...</td>\n      <td>...</td>\n      <td>...</td>\n      <td>...</td>\n      <td>...</td>\n      <td>...</td>\n      <td>...</td>\n      <td>...</td>\n      <td>...</td>\n      <td>...</td>\n      <td>...</td>\n      <td>...</td>\n      <td>...</td>\n      <td>...</td>\n      <td>...</td>\n      <td>...</td>\n      <td>...</td>\n      <td>...</td>\n    </tr>\n    <tr>\n      <th>1050</th>\n      <td>5.431</td>\n      <td>2.8955</td>\n      <td>0.0</td>\n      <td>0.0</td>\n      <td>0.0</td>\n      <td>2.0</td>\n      <td>0.0</td>\n      <td>32.1</td>\n      <td>4.0</td>\n      <td>1.0</td>\n      <td>...</td>\n      <td>0.0</td>\n      <td>6.0</td>\n      <td>1.0</td>\n      <td>3.573</td>\n      <td>2.242</td>\n      <td>1.0</td>\n      <td>8.088</td>\n      <td>0.0</td>\n      <td>0.0</td>\n      <td>b'1'</td>\n    </tr>\n    <tr>\n      <th>1051</th>\n      <td>5.287</td>\n      <td>3.3732</td>\n      <td>0.0</td>\n      <td>0.0</td>\n      <td>9.0</td>\n      <td>0.0</td>\n      <td>0.0</td>\n      <td>35.3</td>\n      <td>0.0</td>\n      <td>9.0</td>\n      <td>...</td>\n      <td>0.0</td>\n      <td>3.0</td>\n      <td>0.0</td>\n      <td>3.787</td>\n      <td>3.083</td>\n      <td>3.0</td>\n      <td>9.278</td>\n      <td>0.0</td>\n      <td>0.0</td>\n      <td>b'1'</td>\n    </tr>\n    <tr>\n      <th>1052</th>\n      <td>4.869</td>\n      <td>1.7670</td>\n      <td>0.0</td>\n      <td>1.0</td>\n      <td>9.0</td>\n      <td>0.0</td>\n      <td>5.0</td>\n      <td>44.4</td>\n      <td>0.0</td>\n      <td>4.0</td>\n      <td>...</td>\n      <td>4.0</td>\n      <td>13.0</td>\n      <td>0.0</td>\n      <td>3.848</td>\n      <td>2.576</td>\n      <td>5.0</td>\n      <td>9.537</td>\n      <td>1.0</td>\n      <td>0.0</td>\n      <td>b'1'</td>\n    </tr>\n    <tr>\n      <th>1053</th>\n      <td>5.158</td>\n      <td>1.6914</td>\n      <td>2.0</td>\n      <td>0.0</td>\n      <td>36.0</td>\n      <td>0.0</td>\n      <td>9.0</td>\n      <td>56.1</td>\n      <td>0.0</td>\n      <td>0.0</td>\n      <td>...</td>\n      <td>1.0</td>\n      <td>16.0</td>\n      <td>0.0</td>\n      <td>5.808</td>\n      <td>2.055</td>\n      <td>8.0</td>\n      <td>11.055</td>\n      <td>0.0</td>\n      <td>1.0</td>\n      <td>b'1'</td>\n    </tr>\n    <tr>\n      <th>1054</th>\n      <td>5.076</td>\n      <td>2.6588</td>\n      <td>2.0</td>\n      <td>0.0</td>\n      <td>0.0</td>\n      <td>0.0</td>\n      <td>4.0</td>\n      <td>54.5</td>\n      <td>0.0</td>\n      <td>0.0</td>\n      <td>...</td>\n      <td>2.0</td>\n      <td>0.0</td>\n      <td>0.0</td>\n      <td>4.009</td>\n      <td>2.206</td>\n      <td>0.0</td>\n      <td>9.130</td>\n      <td>0.0</td>\n      <td>2.0</td>\n      <td>b'1'</td>\n    </tr>\n  </tbody>\n</table>\n<p>1055 rows × 42 columns</p>\n</div>"
     },
     "execution_count": 14,
     "metadata": {},
     "output_type": "execute_result"
    }
   ],
   "source": [
    "qsar"
   ]
  },
  {
   "cell_type": "code",
   "execution_count": null,
   "outputs": [],
   "source": [],
   "metadata": {
    "collapsed": false
   }
  }
 ],
 "metadata": {
  "kernelspec": {
   "display_name": "Python 3 (ipykernel)",
   "language": "python",
   "name": "python3"
  },
  "language_info": {
   "codemirror_mode": {
    "name": "ipython",
    "version": 3
   },
   "file_extension": ".py",
   "mimetype": "text/x-python",
   "name": "python",
   "nbconvert_exporter": "python",
   "pygments_lexer": "ipython3",
   "version": "3.11.3"
  }
 },
 "nbformat": 4,
 "nbformat_minor": 1
}
