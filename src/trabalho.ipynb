{
 "cells": [
  {
   "cell_type": "markdown",
   "metadata": {},
   "source": [
    "# Trabalho prático AC"
   ]
  },
  {
   "cell_type": "markdown",
   "metadata": {},
   "source": [
    "## Trabalho realizado por:\n",
    "\n",
    "Margarida Vila-chã, 20210504\n",
    "\n",
    "Miguel Duarte Silva, 20210504\n",
    "\n",
    "Sebastião Lessa, 202103238\n"
   ]
  },
  {
   "cell_type": "markdown",
   "metadata": {},
   "source": [
    "## Algoritmo escolhido e breve explicação:\n",
    "\n",
    "O algoritmo escolhido pelo nosso grupo foi o Random Forrest.\n",
    "\n",
    "Este algoritmo é um algoritmo de aprendizagem computacional supervisionado. Ele usa uma combinação de árvores de decisão aleatórias. O processo começa com a criação de um grande número de árvores (floresta), em que cada uma das árvores criadas é treinada com uma amostra diferente. Isto permite a criação de árvores suficientemente diferentes, o que leva a que elas juntas consigam lidar com uma ampla variedade de situações, reduzindo o risco de overffitting.\n",
    "\n",
    "Baseamos-nos nos seguintes data-sets:\n",
    "\n",
    "- [credit-g](https://www.openml.org/search?type=run&id=591&collections.id=99&run_task.task_id=31&sort=date)\n",
    "- [breast-w](https://www.openml.org/search?type=run&id=7413&collections.id=99&run_task.task_id=15)\n",
    "- [qsar-biodeg](https://www.openml.org/search?type=run&id=519587&collections.id=99&run_task.task_id=9957)"
   ]
  },
  {
   "cell_type": "markdown",
   "source": [
    "## Alteração escolhida"
   ],
   "metadata": {
    "collapsed": false
   }
  },
  {
   "cell_type": "markdown",
   "source": [
    "A alteração que o nosso grupo decidiu fazer no codigo fonte obtido foi a de considerar a utilização de outros tipos de critérios de divisão. O critério pré definido no nosso código fonte é o de entropia, por isso vamos testar com o gini e com o classification error."
   ],
   "metadata": {
    "collapsed": false
   }
  },
  {
   "cell_type": "markdown",
   "metadata": {},
   "source": [
    "## Import das bibliotecas necessárias:"
   ]
  },
  {
   "cell_type": "code",
   "execution_count": 60,
   "metadata": {
    "ExecuteTime": {
     "end_time": "2023-05-06T13:53:43.811839Z",
     "start_time": "2023-05-06T13:53:43.755504Z"
    }
   },
   "outputs": [],
   "source": [
    "from scipy.io import arff\n",
    "import seaborn as sns\n",
    "from sklearn.model_selection import train_test_split\n",
    "from sklearn.metrics import accuracy_score\n",
    "from sklearn.ensemble import RandomForestClassifier\n",
    "from RandomForest import RandomForest\n",
    "from random import random\n",
    "from sklearn import datasets\n",
    "from sklearn.model_selection import train_test_split\n",
    "import os\n",
    "import numpy as np\n",
    "from sklearn.model_selection import train_test_split\n",
    "from sklearn.preprocessing import LabelEncoder\n",
    "import pandas as pd\n",
    "import matplotlib.pyplot as plt\n",
    "from sklearn.metrics import accuracy_score\n",
    "\n"
   ]
  },
  {
   "cell_type": "markdown",
   "metadata": {},
   "source": []
  },
  {
   "cell_type": "markdown",
   "metadata": {},
   "source": [
    "## Testes de benchmark com todos os data-sets"
   ]
  },
  {
   "cell_type": "markdown",
   "source": [
    "### DATASET 1 - Cancro da mama"
   ],
   "metadata": {
    "collapsed": false
   }
  },
  {
   "cell_type": "code",
   "execution_count": 61,
   "metadata": {
    "ExecuteTime": {
     "end_time": "2023-05-06T13:53:43.831272Z",
     "start_time": "2023-05-06T13:53:43.760702Z"
    }
   },
   "outputs": [],
   "source": [
    "dataset = pd.DataFrame(arff.loadarff('datasets/breast-w.arff')[0])"
   ]
  },
  {
   "cell_type": "code",
   "execution_count": 62,
   "outputs": [
    {
     "data": {
      "text/plain": "   Clump_Thickness  Cell_Size_Uniformity  Cell_Shape_Uniformity  \\\n0              5.0                   1.0                    1.0   \n1              5.0                   4.0                    4.0   \n2              3.0                   1.0                    1.0   \n3              6.0                   8.0                    8.0   \n4              4.0                   1.0                    1.0   \n\n   Marginal_Adhesion  Single_Epi_Cell_Size  Bare_Nuclei  Bland_Chromatin  \\\n0                1.0                   2.0          1.0              3.0   \n1                5.0                   7.0         10.0              3.0   \n2                1.0                   2.0          2.0              3.0   \n3                1.0                   3.0          4.0              3.0   \n4                3.0                   2.0          1.0              3.0   \n\n   Normal_Nucleoli  Mitoses      Class  \n0              1.0      1.0  b'benign'  \n1              2.0      1.0  b'benign'  \n2              1.0      1.0  b'benign'  \n3              7.0      1.0  b'benign'  \n4              1.0      1.0  b'benign'  ",
      "text/html": "<div>\n<style scoped>\n    .dataframe tbody tr th:only-of-type {\n        vertical-align: middle;\n    }\n\n    .dataframe tbody tr th {\n        vertical-align: top;\n    }\n\n    .dataframe thead th {\n        text-align: right;\n    }\n</style>\n<table border=\"1\" class=\"dataframe\">\n  <thead>\n    <tr style=\"text-align: right;\">\n      <th></th>\n      <th>Clump_Thickness</th>\n      <th>Cell_Size_Uniformity</th>\n      <th>Cell_Shape_Uniformity</th>\n      <th>Marginal_Adhesion</th>\n      <th>Single_Epi_Cell_Size</th>\n      <th>Bare_Nuclei</th>\n      <th>Bland_Chromatin</th>\n      <th>Normal_Nucleoli</th>\n      <th>Mitoses</th>\n      <th>Class</th>\n    </tr>\n  </thead>\n  <tbody>\n    <tr>\n      <th>0</th>\n      <td>5.0</td>\n      <td>1.0</td>\n      <td>1.0</td>\n      <td>1.0</td>\n      <td>2.0</td>\n      <td>1.0</td>\n      <td>3.0</td>\n      <td>1.0</td>\n      <td>1.0</td>\n      <td>b'benign'</td>\n    </tr>\n    <tr>\n      <th>1</th>\n      <td>5.0</td>\n      <td>4.0</td>\n      <td>4.0</td>\n      <td>5.0</td>\n      <td>7.0</td>\n      <td>10.0</td>\n      <td>3.0</td>\n      <td>2.0</td>\n      <td>1.0</td>\n      <td>b'benign'</td>\n    </tr>\n    <tr>\n      <th>2</th>\n      <td>3.0</td>\n      <td>1.0</td>\n      <td>1.0</td>\n      <td>1.0</td>\n      <td>2.0</td>\n      <td>2.0</td>\n      <td>3.0</td>\n      <td>1.0</td>\n      <td>1.0</td>\n      <td>b'benign'</td>\n    </tr>\n    <tr>\n      <th>3</th>\n      <td>6.0</td>\n      <td>8.0</td>\n      <td>8.0</td>\n      <td>1.0</td>\n      <td>3.0</td>\n      <td>4.0</td>\n      <td>3.0</td>\n      <td>7.0</td>\n      <td>1.0</td>\n      <td>b'benign'</td>\n    </tr>\n    <tr>\n      <th>4</th>\n      <td>4.0</td>\n      <td>1.0</td>\n      <td>1.0</td>\n      <td>3.0</td>\n      <td>2.0</td>\n      <td>1.0</td>\n      <td>3.0</td>\n      <td>1.0</td>\n      <td>1.0</td>\n      <td>b'benign'</td>\n    </tr>\n  </tbody>\n</table>\n</div>"
     },
     "execution_count": 62,
     "metadata": {},
     "output_type": "execute_result"
    }
   ],
   "source": [
    "dataset.head()"
   ],
   "metadata": {
    "collapsed": false,
    "ExecuteTime": {
     "end_time": "2023-05-06T13:53:43.847414Z",
     "start_time": "2023-05-06T13:53:43.790114Z"
    }
   }
  },
  {
   "cell_type": "code",
   "execution_count": 63,
   "outputs": [],
   "source": [
    "for column in ['Class']:\n",
    "    le = LabelEncoder()\n",
    "    dataset[column] = le.fit_transform(dataset[column])"
   ],
   "metadata": {
    "collapsed": false,
    "ExecuteTime": {
     "end_time": "2023-05-06T13:53:43.847711Z",
     "start_time": "2023-05-06T13:53:43.794760Z"
    }
   }
  },
  {
   "cell_type": "code",
   "execution_count": 64,
   "outputs": [
    {
     "data": {
      "text/plain": "   Clump_Thickness  Cell_Size_Uniformity  Cell_Shape_Uniformity  \\\n0              5.0                   1.0                    1.0   \n1              5.0                   4.0                    4.0   \n2              3.0                   1.0                    1.0   \n3              6.0                   8.0                    8.0   \n4              4.0                   1.0                    1.0   \n\n   Marginal_Adhesion  Single_Epi_Cell_Size  Bare_Nuclei  Bland_Chromatin  \\\n0                1.0                   2.0          1.0              3.0   \n1                5.0                   7.0         10.0              3.0   \n2                1.0                   2.0          2.0              3.0   \n3                1.0                   3.0          4.0              3.0   \n4                3.0                   2.0          1.0              3.0   \n\n   Normal_Nucleoli  Mitoses  Class  \n0              1.0      1.0      0  \n1              2.0      1.0      0  \n2              1.0      1.0      0  \n3              7.0      1.0      0  \n4              1.0      1.0      0  ",
      "text/html": "<div>\n<style scoped>\n    .dataframe tbody tr th:only-of-type {\n        vertical-align: middle;\n    }\n\n    .dataframe tbody tr th {\n        vertical-align: top;\n    }\n\n    .dataframe thead th {\n        text-align: right;\n    }\n</style>\n<table border=\"1\" class=\"dataframe\">\n  <thead>\n    <tr style=\"text-align: right;\">\n      <th></th>\n      <th>Clump_Thickness</th>\n      <th>Cell_Size_Uniformity</th>\n      <th>Cell_Shape_Uniformity</th>\n      <th>Marginal_Adhesion</th>\n      <th>Single_Epi_Cell_Size</th>\n      <th>Bare_Nuclei</th>\n      <th>Bland_Chromatin</th>\n      <th>Normal_Nucleoli</th>\n      <th>Mitoses</th>\n      <th>Class</th>\n    </tr>\n  </thead>\n  <tbody>\n    <tr>\n      <th>0</th>\n      <td>5.0</td>\n      <td>1.0</td>\n      <td>1.0</td>\n      <td>1.0</td>\n      <td>2.0</td>\n      <td>1.0</td>\n      <td>3.0</td>\n      <td>1.0</td>\n      <td>1.0</td>\n      <td>0</td>\n    </tr>\n    <tr>\n      <th>1</th>\n      <td>5.0</td>\n      <td>4.0</td>\n      <td>4.0</td>\n      <td>5.0</td>\n      <td>7.0</td>\n      <td>10.0</td>\n      <td>3.0</td>\n      <td>2.0</td>\n      <td>1.0</td>\n      <td>0</td>\n    </tr>\n    <tr>\n      <th>2</th>\n      <td>3.0</td>\n      <td>1.0</td>\n      <td>1.0</td>\n      <td>1.0</td>\n      <td>2.0</td>\n      <td>2.0</td>\n      <td>3.0</td>\n      <td>1.0</td>\n      <td>1.0</td>\n      <td>0</td>\n    </tr>\n    <tr>\n      <th>3</th>\n      <td>6.0</td>\n      <td>8.0</td>\n      <td>8.0</td>\n      <td>1.0</td>\n      <td>3.0</td>\n      <td>4.0</td>\n      <td>3.0</td>\n      <td>7.0</td>\n      <td>1.0</td>\n      <td>0</td>\n    </tr>\n    <tr>\n      <th>4</th>\n      <td>4.0</td>\n      <td>1.0</td>\n      <td>1.0</td>\n      <td>3.0</td>\n      <td>2.0</td>\n      <td>1.0</td>\n      <td>3.0</td>\n      <td>1.0</td>\n      <td>1.0</td>\n      <td>0</td>\n    </tr>\n  </tbody>\n</table>\n</div>"
     },
     "execution_count": 64,
     "metadata": {},
     "output_type": "execute_result"
    }
   ],
   "source": [
    "dataset.head()"
   ],
   "metadata": {
    "collapsed": false,
    "ExecuteTime": {
     "end_time": "2023-05-06T13:53:43.847908Z",
     "start_time": "2023-05-06T13:53:43.801463Z"
    }
   }
  },
  {
   "cell_type": "code",
   "execution_count": 65,
   "outputs": [],
   "source": [
    "from sklearn.datasets import load_digits\n",
    "digits=load_digits()"
   ],
   "metadata": {
    "collapsed": false,
    "ExecuteTime": {
     "end_time": "2023-05-06T13:53:43.847962Z",
     "start_time": "2023-05-06T13:53:43.805813Z"
    }
   }
  },
  {
   "cell_type": "code",
   "execution_count": 66,
   "outputs": [
    {
     "data": {
      "text/plain": "['DESCR', 'data', 'feature_names', 'frame', 'images', 'target', 'target_names']"
     },
     "execution_count": 66,
     "metadata": {},
     "output_type": "execute_result"
    }
   ],
   "source": [
    "dir(digits)"
   ],
   "metadata": {
    "collapsed": false,
    "ExecuteTime": {
     "end_time": "2023-05-06T13:53:43.848070Z",
     "start_time": "2023-05-06T13:53:43.817694Z"
    }
   }
  },
  {
   "cell_type": "code",
   "execution_count": 67,
   "outputs": [
    {
     "data": {
      "text/plain": "    0    1    2     3     4     5    6    7    8    9   ...   54   55   56  \\\n0  0.0  0.0  5.0  13.0   9.0   1.0  0.0  0.0  0.0  0.0  ...  0.0  0.0  0.0   \n1  0.0  0.0  0.0  12.0  13.0   5.0  0.0  0.0  0.0  0.0  ...  0.0  0.0  0.0   \n2  0.0  0.0  0.0   4.0  15.0  12.0  0.0  0.0  0.0  0.0  ...  5.0  0.0  0.0   \n3  0.0  0.0  7.0  15.0  13.0   1.0  0.0  0.0  0.0  8.0  ...  9.0  0.0  0.0   \n4  0.0  0.0  0.0   1.0  11.0   0.0  0.0  0.0  0.0  0.0  ...  0.0  0.0  0.0   \n\n    57   58    59    60    61   62   63  \n0  0.0  6.0  13.0  10.0   0.0  0.0  0.0  \n1  0.0  0.0  11.0  16.0  10.0  0.0  0.0  \n2  0.0  0.0   3.0  11.0  16.0  9.0  0.0  \n3  0.0  7.0  13.0  13.0   9.0  0.0  0.0  \n4  0.0  0.0   2.0  16.0   4.0  0.0  0.0  \n\n[5 rows x 64 columns]",
      "text/html": "<div>\n<style scoped>\n    .dataframe tbody tr th:only-of-type {\n        vertical-align: middle;\n    }\n\n    .dataframe tbody tr th {\n        vertical-align: top;\n    }\n\n    .dataframe thead th {\n        text-align: right;\n    }\n</style>\n<table border=\"1\" class=\"dataframe\">\n  <thead>\n    <tr style=\"text-align: right;\">\n      <th></th>\n      <th>0</th>\n      <th>1</th>\n      <th>2</th>\n      <th>3</th>\n      <th>4</th>\n      <th>5</th>\n      <th>6</th>\n      <th>7</th>\n      <th>8</th>\n      <th>9</th>\n      <th>...</th>\n      <th>54</th>\n      <th>55</th>\n      <th>56</th>\n      <th>57</th>\n      <th>58</th>\n      <th>59</th>\n      <th>60</th>\n      <th>61</th>\n      <th>62</th>\n      <th>63</th>\n    </tr>\n  </thead>\n  <tbody>\n    <tr>\n      <th>0</th>\n      <td>0.0</td>\n      <td>0.0</td>\n      <td>5.0</td>\n      <td>13.0</td>\n      <td>9.0</td>\n      <td>1.0</td>\n      <td>0.0</td>\n      <td>0.0</td>\n      <td>0.0</td>\n      <td>0.0</td>\n      <td>...</td>\n      <td>0.0</td>\n      <td>0.0</td>\n      <td>0.0</td>\n      <td>0.0</td>\n      <td>6.0</td>\n      <td>13.0</td>\n      <td>10.0</td>\n      <td>0.0</td>\n      <td>0.0</td>\n      <td>0.0</td>\n    </tr>\n    <tr>\n      <th>1</th>\n      <td>0.0</td>\n      <td>0.0</td>\n      <td>0.0</td>\n      <td>12.0</td>\n      <td>13.0</td>\n      <td>5.0</td>\n      <td>0.0</td>\n      <td>0.0</td>\n      <td>0.0</td>\n      <td>0.0</td>\n      <td>...</td>\n      <td>0.0</td>\n      <td>0.0</td>\n      <td>0.0</td>\n      <td>0.0</td>\n      <td>0.0</td>\n      <td>11.0</td>\n      <td>16.0</td>\n      <td>10.0</td>\n      <td>0.0</td>\n      <td>0.0</td>\n    </tr>\n    <tr>\n      <th>2</th>\n      <td>0.0</td>\n      <td>0.0</td>\n      <td>0.0</td>\n      <td>4.0</td>\n      <td>15.0</td>\n      <td>12.0</td>\n      <td>0.0</td>\n      <td>0.0</td>\n      <td>0.0</td>\n      <td>0.0</td>\n      <td>...</td>\n      <td>5.0</td>\n      <td>0.0</td>\n      <td>0.0</td>\n      <td>0.0</td>\n      <td>0.0</td>\n      <td>3.0</td>\n      <td>11.0</td>\n      <td>16.0</td>\n      <td>9.0</td>\n      <td>0.0</td>\n    </tr>\n    <tr>\n      <th>3</th>\n      <td>0.0</td>\n      <td>0.0</td>\n      <td>7.0</td>\n      <td>15.0</td>\n      <td>13.0</td>\n      <td>1.0</td>\n      <td>0.0</td>\n      <td>0.0</td>\n      <td>0.0</td>\n      <td>8.0</td>\n      <td>...</td>\n      <td>9.0</td>\n      <td>0.0</td>\n      <td>0.0</td>\n      <td>0.0</td>\n      <td>7.0</td>\n      <td>13.0</td>\n      <td>13.0</td>\n      <td>9.0</td>\n      <td>0.0</td>\n      <td>0.0</td>\n    </tr>\n    <tr>\n      <th>4</th>\n      <td>0.0</td>\n      <td>0.0</td>\n      <td>0.0</td>\n      <td>1.0</td>\n      <td>11.0</td>\n      <td>0.0</td>\n      <td>0.0</td>\n      <td>0.0</td>\n      <td>0.0</td>\n      <td>0.0</td>\n      <td>...</td>\n      <td>0.0</td>\n      <td>0.0</td>\n      <td>0.0</td>\n      <td>0.0</td>\n      <td>0.0</td>\n      <td>2.0</td>\n      <td>16.0</td>\n      <td>4.0</td>\n      <td>0.0</td>\n      <td>0.0</td>\n    </tr>\n  </tbody>\n</table>\n<p>5 rows × 64 columns</p>\n</div>"
     },
     "execution_count": 67,
     "metadata": {},
     "output_type": "execute_result"
    }
   ],
   "source": [
    "df=pd.DataFrame(digits.data)\n",
    "df.head()"
   ],
   "metadata": {
    "collapsed": false,
    "ExecuteTime": {
     "end_time": "2023-05-06T13:53:43.874619Z",
     "start_time": "2023-05-06T13:53:43.820773Z"
    }
   }
  },
  {
   "cell_type": "code",
   "execution_count": 68,
   "outputs": [
    {
     "data": {
      "text/plain": "     0    1    2     3     4     5    6    7    8    9  ...   55   56   57  \\\n0  0.0  0.0  5.0  13.0   9.0   1.0  0.0  0.0  0.0  0.0  ...  0.0  0.0  0.0   \n1  0.0  0.0  0.0  12.0  13.0   5.0  0.0  0.0  0.0  0.0  ...  0.0  0.0  0.0   \n2  0.0  0.0  0.0   4.0  15.0  12.0  0.0  0.0  0.0  0.0  ...  0.0  0.0  0.0   \n3  0.0  0.0  7.0  15.0  13.0   1.0  0.0  0.0  0.0  8.0  ...  0.0  0.0  0.0   \n4  0.0  0.0  0.0   1.0  11.0   0.0  0.0  0.0  0.0  0.0  ...  0.0  0.0  0.0   \n\n    58    59    60    61   62   63  target  \n0  6.0  13.0  10.0   0.0  0.0  0.0       0  \n1  0.0  11.0  16.0  10.0  0.0  0.0       1  \n2  0.0   3.0  11.0  16.0  9.0  0.0       2  \n3  7.0  13.0  13.0   9.0  0.0  0.0       3  \n4  0.0   2.0  16.0   4.0  0.0  0.0       4  \n\n[5 rows x 65 columns]",
      "text/html": "<div>\n<style scoped>\n    .dataframe tbody tr th:only-of-type {\n        vertical-align: middle;\n    }\n\n    .dataframe tbody tr th {\n        vertical-align: top;\n    }\n\n    .dataframe thead th {\n        text-align: right;\n    }\n</style>\n<table border=\"1\" class=\"dataframe\">\n  <thead>\n    <tr style=\"text-align: right;\">\n      <th></th>\n      <th>0</th>\n      <th>1</th>\n      <th>2</th>\n      <th>3</th>\n      <th>4</th>\n      <th>5</th>\n      <th>6</th>\n      <th>7</th>\n      <th>8</th>\n      <th>9</th>\n      <th>...</th>\n      <th>55</th>\n      <th>56</th>\n      <th>57</th>\n      <th>58</th>\n      <th>59</th>\n      <th>60</th>\n      <th>61</th>\n      <th>62</th>\n      <th>63</th>\n      <th>target</th>\n    </tr>\n  </thead>\n  <tbody>\n    <tr>\n      <th>0</th>\n      <td>0.0</td>\n      <td>0.0</td>\n      <td>5.0</td>\n      <td>13.0</td>\n      <td>9.0</td>\n      <td>1.0</td>\n      <td>0.0</td>\n      <td>0.0</td>\n      <td>0.0</td>\n      <td>0.0</td>\n      <td>...</td>\n      <td>0.0</td>\n      <td>0.0</td>\n      <td>0.0</td>\n      <td>6.0</td>\n      <td>13.0</td>\n      <td>10.0</td>\n      <td>0.0</td>\n      <td>0.0</td>\n      <td>0.0</td>\n      <td>0</td>\n    </tr>\n    <tr>\n      <th>1</th>\n      <td>0.0</td>\n      <td>0.0</td>\n      <td>0.0</td>\n      <td>12.0</td>\n      <td>13.0</td>\n      <td>5.0</td>\n      <td>0.0</td>\n      <td>0.0</td>\n      <td>0.0</td>\n      <td>0.0</td>\n      <td>...</td>\n      <td>0.0</td>\n      <td>0.0</td>\n      <td>0.0</td>\n      <td>0.0</td>\n      <td>11.0</td>\n      <td>16.0</td>\n      <td>10.0</td>\n      <td>0.0</td>\n      <td>0.0</td>\n      <td>1</td>\n    </tr>\n    <tr>\n      <th>2</th>\n      <td>0.0</td>\n      <td>0.0</td>\n      <td>0.0</td>\n      <td>4.0</td>\n      <td>15.0</td>\n      <td>12.0</td>\n      <td>0.0</td>\n      <td>0.0</td>\n      <td>0.0</td>\n      <td>0.0</td>\n      <td>...</td>\n      <td>0.0</td>\n      <td>0.0</td>\n      <td>0.0</td>\n      <td>0.0</td>\n      <td>3.0</td>\n      <td>11.0</td>\n      <td>16.0</td>\n      <td>9.0</td>\n      <td>0.0</td>\n      <td>2</td>\n    </tr>\n    <tr>\n      <th>3</th>\n      <td>0.0</td>\n      <td>0.0</td>\n      <td>7.0</td>\n      <td>15.0</td>\n      <td>13.0</td>\n      <td>1.0</td>\n      <td>0.0</td>\n      <td>0.0</td>\n      <td>0.0</td>\n      <td>8.0</td>\n      <td>...</td>\n      <td>0.0</td>\n      <td>0.0</td>\n      <td>0.0</td>\n      <td>7.0</td>\n      <td>13.0</td>\n      <td>13.0</td>\n      <td>9.0</td>\n      <td>0.0</td>\n      <td>0.0</td>\n      <td>3</td>\n    </tr>\n    <tr>\n      <th>4</th>\n      <td>0.0</td>\n      <td>0.0</td>\n      <td>0.0</td>\n      <td>1.0</td>\n      <td>11.0</td>\n      <td>0.0</td>\n      <td>0.0</td>\n      <td>0.0</td>\n      <td>0.0</td>\n      <td>0.0</td>\n      <td>...</td>\n      <td>0.0</td>\n      <td>0.0</td>\n      <td>0.0</td>\n      <td>0.0</td>\n      <td>2.0</td>\n      <td>16.0</td>\n      <td>4.0</td>\n      <td>0.0</td>\n      <td>0.0</td>\n      <td>4</td>\n    </tr>\n  </tbody>\n</table>\n<p>5 rows × 65 columns</p>\n</div>"
     },
     "execution_count": 68,
     "metadata": {},
     "output_type": "execute_result"
    }
   ],
   "source": [
    "df['target']=digits.target\n",
    "df.head()"
   ],
   "metadata": {
    "collapsed": false,
    "ExecuteTime": {
     "end_time": "2023-05-06T13:53:43.875287Z",
     "start_time": "2023-05-06T13:53:43.849696Z"
    }
   }
  },
  {
   "cell_type": "code",
   "execution_count": 69,
   "outputs": [],
   "source": [
    "x=df.drop(['target'],axis='columns')\n",
    "y=digits.target"
   ],
   "metadata": {
    "collapsed": false,
    "ExecuteTime": {
     "end_time": "2023-05-06T13:53:43.937350Z",
     "start_time": "2023-05-06T13:53:43.855762Z"
    }
   }
  },
  {
   "cell_type": "code",
   "execution_count": 70,
   "outputs": [],
   "source": [
    "X_train, X_test, y_train, y_test = train_test_split(x,y,test_size=0.2,random_state=42)"
   ],
   "metadata": {
    "collapsed": false,
    "ExecuteTime": {
     "end_time": "2023-05-06T13:53:43.937650Z",
     "start_time": "2023-05-06T13:53:43.860445Z"
    }
   }
  },
  {
   "cell_type": "markdown",
   "source": [
    "#### Teste com o Random Forest do sklearn"
   ],
   "metadata": {
    "collapsed": false
   }
  },
  {
   "cell_type": "code",
   "execution_count": 71,
   "outputs": [
    {
     "data": {
      "text/plain": "RandomForestClassifier(criterion='entropy')",
      "text/html": "<style>#sk-container-id-5 {color: black;background-color: white;}#sk-container-id-5 pre{padding: 0;}#sk-container-id-5 div.sk-toggleable {background-color: white;}#sk-container-id-5 label.sk-toggleable__label {cursor: pointer;display: block;width: 100%;margin-bottom: 0;padding: 0.3em;box-sizing: border-box;text-align: center;}#sk-container-id-5 label.sk-toggleable__label-arrow:before {content: \"▸\";float: left;margin-right: 0.25em;color: #696969;}#sk-container-id-5 label.sk-toggleable__label-arrow:hover:before {color: black;}#sk-container-id-5 div.sk-estimator:hover label.sk-toggleable__label-arrow:before {color: black;}#sk-container-id-5 div.sk-toggleable__content {max-height: 0;max-width: 0;overflow: hidden;text-align: left;background-color: #f0f8ff;}#sk-container-id-5 div.sk-toggleable__content pre {margin: 0.2em;color: black;border-radius: 0.25em;background-color: #f0f8ff;}#sk-container-id-5 input.sk-toggleable__control:checked~div.sk-toggleable__content {max-height: 200px;max-width: 100%;overflow: auto;}#sk-container-id-5 input.sk-toggleable__control:checked~label.sk-toggleable__label-arrow:before {content: \"▾\";}#sk-container-id-5 div.sk-estimator input.sk-toggleable__control:checked~label.sk-toggleable__label {background-color: #d4ebff;}#sk-container-id-5 div.sk-label input.sk-toggleable__control:checked~label.sk-toggleable__label {background-color: #d4ebff;}#sk-container-id-5 input.sk-hidden--visually {border: 0;clip: rect(1px 1px 1px 1px);clip: rect(1px, 1px, 1px, 1px);height: 1px;margin: -1px;overflow: hidden;padding: 0;position: absolute;width: 1px;}#sk-container-id-5 div.sk-estimator {font-family: monospace;background-color: #f0f8ff;border: 1px dotted black;border-radius: 0.25em;box-sizing: border-box;margin-bottom: 0.5em;}#sk-container-id-5 div.sk-estimator:hover {background-color: #d4ebff;}#sk-container-id-5 div.sk-parallel-item::after {content: \"\";width: 100%;border-bottom: 1px solid gray;flex-grow: 1;}#sk-container-id-5 div.sk-label:hover label.sk-toggleable__label {background-color: #d4ebff;}#sk-container-id-5 div.sk-serial::before {content: \"\";position: absolute;border-left: 1px solid gray;box-sizing: border-box;top: 0;bottom: 0;left: 50%;z-index: 0;}#sk-container-id-5 div.sk-serial {display: flex;flex-direction: column;align-items: center;background-color: white;padding-right: 0.2em;padding-left: 0.2em;position: relative;}#sk-container-id-5 div.sk-item {position: relative;z-index: 1;}#sk-container-id-5 div.sk-parallel {display: flex;align-items: stretch;justify-content: center;background-color: white;position: relative;}#sk-container-id-5 div.sk-item::before, #sk-container-id-5 div.sk-parallel-item::before {content: \"\";position: absolute;border-left: 1px solid gray;box-sizing: border-box;top: 0;bottom: 0;left: 50%;z-index: -1;}#sk-container-id-5 div.sk-parallel-item {display: flex;flex-direction: column;z-index: 1;position: relative;background-color: white;}#sk-container-id-5 div.sk-parallel-item:first-child::after {align-self: flex-end;width: 50%;}#sk-container-id-5 div.sk-parallel-item:last-child::after {align-self: flex-start;width: 50%;}#sk-container-id-5 div.sk-parallel-item:only-child::after {width: 0;}#sk-container-id-5 div.sk-dashed-wrapped {border: 1px dashed gray;margin: 0 0.4em 0.5em 0.4em;box-sizing: border-box;padding-bottom: 0.4em;background-color: white;}#sk-container-id-5 div.sk-label label {font-family: monospace;font-weight: bold;display: inline-block;line-height: 1.2em;}#sk-container-id-5 div.sk-label-container {text-align: center;}#sk-container-id-5 div.sk-container {/* jupyter's `normalize.less` sets `[hidden] { display: none; }` but bootstrap.min.css set `[hidden] { display: none !important; }` so we also need the `!important` here to be able to override the default hidden behavior on the sphinx rendered scikit-learn.org. See: https://github.com/scikit-learn/scikit-learn/issues/21755 */display: inline-block !important;position: relative;}#sk-container-id-5 div.sk-text-repr-fallback {display: none;}</style><div id=\"sk-container-id-5\" class=\"sk-top-container\"><div class=\"sk-text-repr-fallback\"><pre>RandomForestClassifier(criterion=&#x27;entropy&#x27;)</pre><b>In a Jupyter environment, please rerun this cell to show the HTML representation or trust the notebook. <br />On GitHub, the HTML representation is unable to render, please try loading this page with nbviewer.org.</b></div><div class=\"sk-container\" hidden><div class=\"sk-item\"><div class=\"sk-estimator sk-toggleable\"><input class=\"sk-toggleable__control sk-hidden--visually\" id=\"sk-estimator-id-5\" type=\"checkbox\" checked><label for=\"sk-estimator-id-5\" class=\"sk-toggleable__label sk-toggleable__label-arrow\">RandomForestClassifier</label><div class=\"sk-toggleable__content\"><pre>RandomForestClassifier(criterion=&#x27;entropy&#x27;)</pre></div></div></div></div></div>"
     },
     "execution_count": 71,
     "metadata": {},
     "output_type": "execute_result"
    }
   ],
   "source": [
    "model = RandomForestClassifier(criterion='entropy')\n",
    "model.fit(X_train, y_train)"
   ],
   "metadata": {
    "collapsed": false,
    "ExecuteTime": {
     "end_time": "2023-05-06T13:53:44.134167Z",
     "start_time": "2023-05-06T13:53:43.867051Z"
    }
   }
  },
  {
   "cell_type": "code",
   "execution_count": 72,
   "outputs": [
    {
     "data": {
      "text/plain": "0.975"
     },
     "execution_count": 72,
     "metadata": {},
     "output_type": "execute_result"
    }
   ],
   "source": [
    "model.score(X_test, y_test)"
   ],
   "metadata": {
    "collapsed": false,
    "ExecuteTime": {
     "end_time": "2023-05-06T13:53:44.145684Z",
     "start_time": "2023-05-06T13:53:44.136165Z"
    }
   }
  },
  {
   "cell_type": "markdown",
   "source": [
    "#### Teste 1 - Modelo basico"
   ],
   "metadata": {
    "collapsed": false
   }
  },
  {
   "cell_type": "code",
   "execution_count": 75,
   "outputs": [
    {
     "ename": "KeyError",
     "evalue": "'[703, 1014, 957, 514, 195, 255, 511, 243, 92, 785, 399, 593, 211, 468, 1376, 1061, 1057, 1389, 165, 134, 643, 1186, 728, 1167, 1088, 887, 747, 1171, 1387, 1253, 687, 176, 650, 852, 632, 1254, 327, 343, 246, 831, 496, 1192, 251, 119, 121, 479, 334, 1326, 447, 172, 997, 581, 283, 1068, 492, 693, 777, 1181, 167, 984, 578, 1400, 612, 1359, 68, 1333, 163, 473, 1200, 73, 611, 938, 816, 1305, 1399, 1411, 99, 903, 1191, 559, 168, 345, 180, 130, 419, 694, 1170, 1355, 798, 991, 805, 488, 956, 1019, 425, 1051, 1256, 545, 1379, 566, 1244, 1418, 596, 173, 369, 982, 519, 360, 666, 344, 1073, 111, 886, 1304, 1231, 1122, 423, 569, 774, 781, 936, 527, 1290, 952, 536, 734, 232, 200, 671, 1109, 377, 450, 724, 754, 277, 125, 357, 1218, 1378, 787, 1383, 811, 575, 544, 495, 749, 1132, 266, 240, 436, 346, 307, 171, 597, 861, 409, 1374, 871, 1324, 752, 1024, 822, 1382, 296, 1183, 699, 1042, 837, 908, 215, 1161, 1077, 429, 86, 338, 904, 191, 1353, 306, 140, 1013, 336, 432, 995, 1406, 732, 379, 465, 851, 1228, 444, 1135, 888, 520, 1033, 202, 363, 662, 651, 849, 695, 1084, 1038, 1391, 917, 741, 1433, 428, 634, 1310, 803, 383, 300, 910, 750, 118, 1110, 177, 237, 320, 548, 692, 1274, 305, 1325, 1224, 387, 1207, 839, 661, 190, 902, 823, 610, 446, 779, 309, 416, 592, 212, 1221, 339, 993, 1087, 1018, 308, 576, 653, 844, 551, 1065, 931, 278, 717, 873, 773, 1142, 549, 368, 276, 186, 164, 1211, 95, 802, 1043, 636, 958, 1275, 722, 272, 1276, 840, 420, 370, 689, 109, 775, 271, 1300, 736, 489, 1071, 1080, 673, 725, 690, 382, 185, 677, 1092, 959, 64, 705, 1009, 160, 298, 1214, 1034, 598, 267, 105, 792, 75, 1134, 1291, 91, 1222, 449, 1104, 1121, 175, 1242, 1320, 784, 638, 518, 1266, 767, 1154, 1416, 756, 525, 810, 1144, 923, 557, 259, 1189, 1016, 701, 1205, 791, 814, 1114, 1178, 341, 1430, 181, 1285, 485, 762, 1233, 815, 1281, 793, 637, 374, 846, 985, 101, 1055, 875, 263, 988, 349, 1265, 1284, 1119, 1069, 670, 1421, 162, 1103, 1261, 400, 883, 322, 1137, 156, 925, 1427, 1158, 1367, 1000, 647, 595, 1006, 1297, 326, 1415, 625, 367, 1133, 1336, 617, 1032, 564, 98, 325, 1175, 398, 1179, 494, 82, 499, 1339, 586, 1259, 219, 1049, 631, 753, 806, 1426, 629, 764, 685, 1328, 820, 323, 470, 314, 388, 1247, 395, 1075, 1199, 293, 523, 431, 84, 342, 234, 1425, 145, 1102, 587, 1267, 801, 248, 998, 854, 809, 926, 1348, 1106, 706, 72, 464, 1187, 1329, 458, 1003, 1308, 838, 1380, 1204, 1414, 580, 561, 968, 137, 1360, 335, 751, 1294, 979, 1035, 1072, 992, 394, 178, 1107, 841, 1123, 1166, 708, 1394, 466, 268, 864, 114, 227, 513, 738, 1098, 288, 1385, 1373, 1152, 819, 471, 1388, 313, 906, 1237, 567, 799, 930, 682, 1327, 948, 881, 1303, 659, 133, 584, 986, 684, 275, 1321, 606, 1026, 498, 1268, 560, 1270, 1062, 187, 977, 748, 829, 403, 103, 733, 1260, 529, 660, 709, 742, 231, 126, 393, 1349, 1210, 124, 745, 628, 1311, 373, 1040, 1301, 123, 1332, 1345, 716, 1352, 680, 1258, 989, 475, 421, 932, 93, 418, 1428, 115, 907, 439, 1020, 317, 433, 1194, 151, 67, 1054, 1216, 833, 1022, 149, 223, 460, 1195, 1289, 1368, 591, 1286, 1078, 1174, 106, 624, 158, 804, 241, 675, 113, 1255, 1099, 889, 1208, 256, 1060, 1201, 676, 480, 570, 1393, 834, 504, 222, 497, 524, 1401, 765, 542, 406, 182, 538, 1118, 1202, 594, 226, 462, 789, 1011, 161, 441, 1354, 1129, 144, 245, 1182, 649, 210, 501, 235, 401, 510, 1209, 788, 1076, 698, 303, 947, 616, 1361, 1346, 827, 1432, 1295, 642, 604, 414, 874, 945, 1176, 404, 933, 117, 390, 88, 380, 1248, 996, 1168, 534, 287, 467, 1101, 500, 1037, 654, 710, 1112, 132, 96, 601, 665, 960, 100, 1396, 1193, 147, 640, 1164, 901, 120, 1395, 743, 70, 929, 1250, 507, 354, 269, 714, 1131, 1030, 290, 258, 876, 74, 961, 898, 1023, 860, 347, 635, 600, 1234, 396, 1246, 189, 225, 950, 282, 1363, 1066, 1064, 1431, 867, 440, 1021, 609, 893, 760, 744, 702, 565, 455, 678, 697, 220, 1002, 863, 590, 375, 727, 1232, 154, 1213, 142, 1287, 474, 517, 1392, 1375, 1007, 934, 920, 686, 456, 274, 254, 1052, 310, 1029, 630, 392, 515, 143, 1027, 289, 704, 193, 582, 324, 328, 835, 1081, 782, 1277, 1096, 297, 207, 153, 1223, 707, 602, 1025, 916, 857, 1317, 1143, 550, 112, 333, 1149, 238, 1160, 626, 613, 1105, 1079, 122, 201, 856, 946, 434, 1262, 1344, 1031, 909, 169, 768, 198, 547, 954, 376, 758, 800, 913, 869, 850, 821, 505, 1046, 85, 1257, 502, 1141, 372, 865, 204, 1198, 463, 217, 273, 1001, 1050, 213, 571, 384, 1005, 435, 656, 366, 1012, 81, 1111, 645, 726, 1251, 772, 135, 780, 981, 976, 1074, 937, 138, 1147, 206, 102, 808, 1130, 922, 1334, 757, 1249, 620, 1180, 1172, 295, 340, 786, 483, 1365, 461, 1335, 1272, 469, 1252, 411, 224, 812, 970, 1398, 1136, 826, 766, 730] not in index'",
     "output_type": "error",
     "traceback": [
      "\u001B[0;31m---------------------------------------------------------------------------\u001B[0m",
      "\u001B[0;31mKeyError\u001B[0m                                  Traceback (most recent call last)",
      "Cell \u001B[0;32mIn[75], line 6\u001B[0m\n\u001B[1;32m      3\u001B[0m     \u001B[38;5;28;01mreturn\u001B[39;00m accuracy\n\u001B[1;32m      5\u001B[0m clf \u001B[38;5;241m=\u001B[39m RandomForest(n_trees\u001B[38;5;241m=\u001B[39m\u001B[38;5;241m20\u001B[39m)\n\u001B[0;32m----> 6\u001B[0m \u001B[43mclf\u001B[49m\u001B[38;5;241;43m.\u001B[39;49m\u001B[43mfit\u001B[49m\u001B[43m(\u001B[49m\u001B[43mX_train\u001B[49m\u001B[43m,\u001B[49m\u001B[43m \u001B[49m\u001B[43my_train\u001B[49m\u001B[43m)\u001B[49m\n\u001B[1;32m      7\u001B[0m clf\u001B[38;5;241m.\u001B[39mscore(X_test, y_test)\n",
      "File \u001B[0;32m~/Library/CloudStorage/OneDrive-UniversidadedoPorto/2ºY/2ºS/ML-GW/src/RandomForest.py:19\u001B[0m, in \u001B[0;36mRandomForest.fit\u001B[0;34m(self, X, y)\u001B[0m\n\u001B[1;32m     15\u001B[0m \u001B[38;5;28;01mfor\u001B[39;00m _ \u001B[38;5;129;01min\u001B[39;00m \u001B[38;5;28mrange\u001B[39m(\u001B[38;5;28mself\u001B[39m\u001B[38;5;241m.\u001B[39mn_trees):\n\u001B[1;32m     16\u001B[0m     tree \u001B[38;5;241m=\u001B[39m DecisionTree(max_depth\u001B[38;5;241m=\u001B[39m\u001B[38;5;28mself\u001B[39m\u001B[38;5;241m.\u001B[39mmax_depth,\n\u001B[1;32m     17\u001B[0m                     min_samples_split\u001B[38;5;241m=\u001B[39m\u001B[38;5;28mself\u001B[39m\u001B[38;5;241m.\u001B[39mmin_samples_split,\n\u001B[1;32m     18\u001B[0m                     n_features\u001B[38;5;241m=\u001B[39m\u001B[38;5;28mself\u001B[39m\u001B[38;5;241m.\u001B[39mn_features)\n\u001B[0;32m---> 19\u001B[0m     X_sample, y_sample \u001B[38;5;241m=\u001B[39m \u001B[38;5;28;43mself\u001B[39;49m\u001B[38;5;241;43m.\u001B[39;49m\u001B[43m_bootstrap_samples\u001B[49m\u001B[43m(\u001B[49m\u001B[43mX\u001B[49m\u001B[43m,\u001B[49m\u001B[43m \u001B[49m\u001B[43my\u001B[49m\u001B[43m)\u001B[49m\n\u001B[1;32m     20\u001B[0m     tree\u001B[38;5;241m.\u001B[39mfit(X_sample, y_sample)\n\u001B[1;32m     21\u001B[0m     \u001B[38;5;28mself\u001B[39m\u001B[38;5;241m.\u001B[39mtrees\u001B[38;5;241m.\u001B[39mappend(tree)\n",
      "File \u001B[0;32m~/Library/CloudStorage/OneDrive-UniversidadedoPorto/2ºY/2ºS/ML-GW/src/RandomForest.py:26\u001B[0m, in \u001B[0;36mRandomForest._bootstrap_samples\u001B[0;34m(self, X, y)\u001B[0m\n\u001B[1;32m     24\u001B[0m n_samples \u001B[38;5;241m=\u001B[39m X\u001B[38;5;241m.\u001B[39mshape[\u001B[38;5;241m0\u001B[39m]\n\u001B[1;32m     25\u001B[0m idxs \u001B[38;5;241m=\u001B[39m np\u001B[38;5;241m.\u001B[39mrandom\u001B[38;5;241m.\u001B[39mchoice(n_samples, n_samples, replace\u001B[38;5;241m=\u001B[39m\u001B[38;5;28;01mTrue\u001B[39;00m)\n\u001B[0;32m---> 26\u001B[0m \u001B[38;5;28;01mreturn\u001B[39;00m \u001B[43mX\u001B[49m\u001B[43m[\u001B[49m\u001B[43midxs\u001B[49m\u001B[43m]\u001B[49m, y[idxs]\n",
      "File \u001B[0;32m/opt/homebrew/Caskroom/miniconda/base/envs/ML/lib/python3.10/site-packages/pandas/core/frame.py:3811\u001B[0m, in \u001B[0;36mDataFrame.__getitem__\u001B[0;34m(self, key)\u001B[0m\n\u001B[1;32m   3809\u001B[0m     \u001B[38;5;28;01mif\u001B[39;00m is_iterator(key):\n\u001B[1;32m   3810\u001B[0m         key \u001B[38;5;241m=\u001B[39m \u001B[38;5;28mlist\u001B[39m(key)\n\u001B[0;32m-> 3811\u001B[0m     indexer \u001B[38;5;241m=\u001B[39m \u001B[38;5;28;43mself\u001B[39;49m\u001B[38;5;241;43m.\u001B[39;49m\u001B[43mcolumns\u001B[49m\u001B[38;5;241;43m.\u001B[39;49m\u001B[43m_get_indexer_strict\u001B[49m\u001B[43m(\u001B[49m\u001B[43mkey\u001B[49m\u001B[43m,\u001B[49m\u001B[43m \u001B[49m\u001B[38;5;124;43m\"\u001B[39;49m\u001B[38;5;124;43mcolumns\u001B[39;49m\u001B[38;5;124;43m\"\u001B[39;49m\u001B[43m)\u001B[49m[\u001B[38;5;241m1\u001B[39m]\n\u001B[1;32m   3813\u001B[0m \u001B[38;5;66;03m# take() does not accept boolean indexers\u001B[39;00m\n\u001B[1;32m   3814\u001B[0m \u001B[38;5;28;01mif\u001B[39;00m \u001B[38;5;28mgetattr\u001B[39m(indexer, \u001B[38;5;124m\"\u001B[39m\u001B[38;5;124mdtype\u001B[39m\u001B[38;5;124m\"\u001B[39m, \u001B[38;5;28;01mNone\u001B[39;00m) \u001B[38;5;241m==\u001B[39m \u001B[38;5;28mbool\u001B[39m:\n",
      "File \u001B[0;32m/opt/homebrew/Caskroom/miniconda/base/envs/ML/lib/python3.10/site-packages/pandas/core/indexes/base.py:6113\u001B[0m, in \u001B[0;36mIndex._get_indexer_strict\u001B[0;34m(self, key, axis_name)\u001B[0m\n\u001B[1;32m   6110\u001B[0m \u001B[38;5;28;01melse\u001B[39;00m:\n\u001B[1;32m   6111\u001B[0m     keyarr, indexer, new_indexer \u001B[38;5;241m=\u001B[39m \u001B[38;5;28mself\u001B[39m\u001B[38;5;241m.\u001B[39m_reindex_non_unique(keyarr)\n\u001B[0;32m-> 6113\u001B[0m \u001B[38;5;28;43mself\u001B[39;49m\u001B[38;5;241;43m.\u001B[39;49m\u001B[43m_raise_if_missing\u001B[49m\u001B[43m(\u001B[49m\u001B[43mkeyarr\u001B[49m\u001B[43m,\u001B[49m\u001B[43m \u001B[49m\u001B[43mindexer\u001B[49m\u001B[43m,\u001B[49m\u001B[43m \u001B[49m\u001B[43maxis_name\u001B[49m\u001B[43m)\u001B[49m\n\u001B[1;32m   6115\u001B[0m keyarr \u001B[38;5;241m=\u001B[39m \u001B[38;5;28mself\u001B[39m\u001B[38;5;241m.\u001B[39mtake(indexer)\n\u001B[1;32m   6116\u001B[0m \u001B[38;5;28;01mif\u001B[39;00m \u001B[38;5;28misinstance\u001B[39m(key, Index):\n\u001B[1;32m   6117\u001B[0m     \u001B[38;5;66;03m# GH 42790 - Preserve name from an Index\u001B[39;00m\n",
      "File \u001B[0;32m/opt/homebrew/Caskroom/miniconda/base/envs/ML/lib/python3.10/site-packages/pandas/core/indexes/base.py:6176\u001B[0m, in \u001B[0;36mIndex._raise_if_missing\u001B[0;34m(self, key, indexer, axis_name)\u001B[0m\n\u001B[1;32m   6173\u001B[0m     \u001B[38;5;28;01mraise\u001B[39;00m \u001B[38;5;167;01mKeyError\u001B[39;00m(\u001B[38;5;124mf\u001B[39m\u001B[38;5;124m\"\u001B[39m\u001B[38;5;124mNone of [\u001B[39m\u001B[38;5;132;01m{\u001B[39;00mkey\u001B[38;5;132;01m}\u001B[39;00m\u001B[38;5;124m] are in the [\u001B[39m\u001B[38;5;132;01m{\u001B[39;00maxis_name\u001B[38;5;132;01m}\u001B[39;00m\u001B[38;5;124m]\u001B[39m\u001B[38;5;124m\"\u001B[39m)\n\u001B[1;32m   6175\u001B[0m not_found \u001B[38;5;241m=\u001B[39m \u001B[38;5;28mlist\u001B[39m(ensure_index(key)[missing_mask\u001B[38;5;241m.\u001B[39mnonzero()[\u001B[38;5;241m0\u001B[39m]]\u001B[38;5;241m.\u001B[39munique())\n\u001B[0;32m-> 6176\u001B[0m \u001B[38;5;28;01mraise\u001B[39;00m \u001B[38;5;167;01mKeyError\u001B[39;00m(\u001B[38;5;124mf\u001B[39m\u001B[38;5;124m\"\u001B[39m\u001B[38;5;132;01m{\u001B[39;00mnot_found\u001B[38;5;132;01m}\u001B[39;00m\u001B[38;5;124m not in index\u001B[39m\u001B[38;5;124m\"\u001B[39m)\n",
      "\u001B[0;31mKeyError\u001B[0m: '[703, 1014, 957, 514, 195, 255, 511, 243, 92, 785, 399, 593, 211, 468, 1376, 1061, 1057, 1389, 165, 134, 643, 1186, 728, 1167, 1088, 887, 747, 1171, 1387, 1253, 687, 176, 650, 852, 632, 1254, 327, 343, 246, 831, 496, 1192, 251, 119, 121, 479, 334, 1326, 447, 172, 997, 581, 283, 1068, 492, 693, 777, 1181, 167, 984, 578, 1400, 612, 1359, 68, 1333, 163, 473, 1200, 73, 611, 938, 816, 1305, 1399, 1411, 99, 903, 1191, 559, 168, 345, 180, 130, 419, 694, 1170, 1355, 798, 991, 805, 488, 956, 1019, 425, 1051, 1256, 545, 1379, 566, 1244, 1418, 596, 173, 369, 982, 519, 360, 666, 344, 1073, 111, 886, 1304, 1231, 1122, 423, 569, 774, 781, 936, 527, 1290, 952, 536, 734, 232, 200, 671, 1109, 377, 450, 724, 754, 277, 125, 357, 1218, 1378, 787, 1383, 811, 575, 544, 495, 749, 1132, 266, 240, 436, 346, 307, 171, 597, 861, 409, 1374, 871, 1324, 752, 1024, 822, 1382, 296, 1183, 699, 1042, 837, 908, 215, 1161, 1077, 429, 86, 338, 904, 191, 1353, 306, 140, 1013, 336, 432, 995, 1406, 732, 379, 465, 851, 1228, 444, 1135, 888, 520, 1033, 202, 363, 662, 651, 849, 695, 1084, 1038, 1391, 917, 741, 1433, 428, 634, 1310, 803, 383, 300, 910, 750, 118, 1110, 177, 237, 320, 548, 692, 1274, 305, 1325, 1224, 387, 1207, 839, 661, 190, 902, 823, 610, 446, 779, 309, 416, 592, 212, 1221, 339, 993, 1087, 1018, 308, 576, 653, 844, 551, 1065, 931, 278, 717, 873, 773, 1142, 549, 368, 276, 186, 164, 1211, 95, 802, 1043, 636, 958, 1275, 722, 272, 1276, 840, 420, 370, 689, 109, 775, 271, 1300, 736, 489, 1071, 1080, 673, 725, 690, 382, 185, 677, 1092, 959, 64, 705, 1009, 160, 298, 1214, 1034, 598, 267, 105, 792, 75, 1134, 1291, 91, 1222, 449, 1104, 1121, 175, 1242, 1320, 784, 638, 518, 1266, 767, 1154, 1416, 756, 525, 810, 1144, 923, 557, 259, 1189, 1016, 701, 1205, 791, 814, 1114, 1178, 341, 1430, 181, 1285, 485, 762, 1233, 815, 1281, 793, 637, 374, 846, 985, 101, 1055, 875, 263, 988, 349, 1265, 1284, 1119, 1069, 670, 1421, 162, 1103, 1261, 400, 883, 322, 1137, 156, 925, 1427, 1158, 1367, 1000, 647, 595, 1006, 1297, 326, 1415, 625, 367, 1133, 1336, 617, 1032, 564, 98, 325, 1175, 398, 1179, 494, 82, 499, 1339, 586, 1259, 219, 1049, 631, 753, 806, 1426, 629, 764, 685, 1328, 820, 323, 470, 314, 388, 1247, 395, 1075, 1199, 293, 523, 431, 84, 342, 234, 1425, 145, 1102, 587, 1267, 801, 248, 998, 854, 809, 926, 1348, 1106, 706, 72, 464, 1187, 1329, 458, 1003, 1308, 838, 1380, 1204, 1414, 580, 561, 968, 137, 1360, 335, 751, 1294, 979, 1035, 1072, 992, 394, 178, 1107, 841, 1123, 1166, 708, 1394, 466, 268, 864, 114, 227, 513, 738, 1098, 288, 1385, 1373, 1152, 819, 471, 1388, 313, 906, 1237, 567, 799, 930, 682, 1327, 948, 881, 1303, 659, 133, 584, 986, 684, 275, 1321, 606, 1026, 498, 1268, 560, 1270, 1062, 187, 977, 748, 829, 403, 103, 733, 1260, 529, 660, 709, 742, 231, 126, 393, 1349, 1210, 124, 745, 628, 1311, 373, 1040, 1301, 123, 1332, 1345, 716, 1352, 680, 1258, 989, 475, 421, 932, 93, 418, 1428, 115, 907, 439, 1020, 317, 433, 1194, 151, 67, 1054, 1216, 833, 1022, 149, 223, 460, 1195, 1289, 1368, 591, 1286, 1078, 1174, 106, 624, 158, 804, 241, 675, 113, 1255, 1099, 889, 1208, 256, 1060, 1201, 676, 480, 570, 1393, 834, 504, 222, 497, 524, 1401, 765, 542, 406, 182, 538, 1118, 1202, 594, 226, 462, 789, 1011, 161, 441, 1354, 1129, 144, 245, 1182, 649, 210, 501, 235, 401, 510, 1209, 788, 1076, 698, 303, 947, 616, 1361, 1346, 827, 1432, 1295, 642, 604, 414, 874, 945, 1176, 404, 933, 117, 390, 88, 380, 1248, 996, 1168, 534, 287, 467, 1101, 500, 1037, 654, 710, 1112, 132, 96, 601, 665, 960, 100, 1396, 1193, 147, 640, 1164, 901, 120, 1395, 743, 70, 929, 1250, 507, 354, 269, 714, 1131, 1030, 290, 258, 876, 74, 961, 898, 1023, 860, 347, 635, 600, 1234, 396, 1246, 189, 225, 950, 282, 1363, 1066, 1064, 1431, 867, 440, 1021, 609, 893, 760, 744, 702, 565, 455, 678, 697, 220, 1002, 863, 590, 375, 727, 1232, 154, 1213, 142, 1287, 474, 517, 1392, 1375, 1007, 934, 920, 686, 456, 274, 254, 1052, 310, 1029, 630, 392, 515, 143, 1027, 289, 704, 193, 582, 324, 328, 835, 1081, 782, 1277, 1096, 297, 207, 153, 1223, 707, 602, 1025, 916, 857, 1317, 1143, 550, 112, 333, 1149, 238, 1160, 626, 613, 1105, 1079, 122, 201, 856, 946, 434, 1262, 1344, 1031, 909, 169, 768, 198, 547, 954, 376, 758, 800, 913, 869, 850, 821, 505, 1046, 85, 1257, 502, 1141, 372, 865, 204, 1198, 463, 217, 273, 1001, 1050, 213, 571, 384, 1005, 435, 656, 366, 1012, 81, 1111, 645, 726, 1251, 772, 135, 780, 981, 976, 1074, 937, 138, 1147, 206, 102, 808, 1130, 922, 1334, 757, 1249, 620, 1180, 1172, 295, 340, 786, 483, 1365, 461, 1335, 1272, 469, 1252, 411, 224, 812, 970, 1398, 1136, 826, 766, 730] not in index'"
     ]
    }
   ],
   "source": [
    "def accuracy(y_true, y_pred):\n",
    "    accuracy = np.sum(y_true == y_pred) / len(y_true)\n",
    "    return accuracy\n",
    "\n",
    "clf = RandomForest(n_trees=20)\n",
    "clf.fit(X_train, y_train)\n",
    "clf.score(X_test, y_test)\n"
   ],
   "metadata": {
    "collapsed": false,
    "ExecuteTime": {
     "end_time": "2023-05-06T13:55:31.210902Z",
     "start_time": "2023-05-06T13:55:31.165934Z"
    }
   }
  },
  {
   "cell_type": "markdown",
   "source": [
    "### DATASET 2 -"
   ],
   "metadata": {
    "collapsed": false
   }
  },
  {
   "cell_type": "code",
   "execution_count": null,
   "outputs": [],
   "source": [
    "#dataset = pd.DataFrame(arff.loadarff('datasets/xxxxxx.arff')[0])"
   ],
   "metadata": {
    "collapsed": false
   }
  },
  {
   "cell_type": "markdown",
   "source": [
    "### DATASET 3 -"
   ],
   "metadata": {
    "collapsed": false
   }
  },
  {
   "cell_type": "code",
   "execution_count": null,
   "outputs": [],
   "source": [
    "#dataset = pd.DataFrame(arff.loadarff('datasets/xxxxxx.arff')[0])"
   ],
   "metadata": {
    "collapsed": false
   }
  },
  {
   "cell_type": "code",
   "execution_count": null,
   "outputs": [],
   "source": [],
   "metadata": {
    "collapsed": false
   }
  }
 ],
 "metadata": {
  "kernelspec": {
   "display_name": "Python 3 (ipykernel)",
   "language": "python",
   "name": "python3"
  },
  "language_info": {
   "codemirror_mode": {
    "name": "ipython",
    "version": 3
   },
   "file_extension": ".py",
   "mimetype": "text/x-python",
   "name": "python",
   "nbconvert_exporter": "python",
   "pygments_lexer": "ipython3",
   "version": "3.11.3"
  }
 },
 "nbformat": 4,
 "nbformat_minor": 1
}
