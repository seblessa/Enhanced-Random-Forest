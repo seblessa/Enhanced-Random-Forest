{
 "cells": [
  {
   "cell_type": "markdown",
   "metadata": {},
   "source": [
    "# Trabalho prático AC"
   ]
  },
  {
   "cell_type": "markdown",
   "metadata": {},
   "source": [
    "## Trabalho realizado por:\n",
    "\n",
    "Margarida Vila-chã, 20210504\n",
    "\n",
    "Miguel Duarte Silva, 20210504\n",
    "\n",
    "Sebastião Lessa, 202103238\n"
   ]
  },
  {
   "cell_type": "markdown",
   "metadata": {},
   "source": [
    "## Algoritmo escolhido e breve explicação:\n",
    "\n",
    "O algoritmo escolhido pelo nosso grupo foi o Random Forrest.\n",
    "\n",
    "Este algoritmo é um algoritmo de aprendizagem computacional supervisionado. Ele usa uma combinação de árvores de decisão aleatórias. O processo começa com a criação de um grande número de árvores (floresta), em que cada uma das árvores criadas é treinada com uma amostra diferente. Isto permite a criação de árvores suficientemente diferentes, o que leva a que elas juntas consigam lidar com uma ampla variedade de situações, reduzindo o risco de overffitting.\n",
    "\n",
    "Baseamos-nos nos seguintes data-sets:\n",
    "\n",
    "- [credit-g](https://www.openml.org/search?type=run&id=591&collections.id=99&run_task.task_id=31&sort=date)\n",
    "- [breast-w](https://www.openml.org/search?type=run&id=7413&collections.id=99&run_task.task_id=15)\n",
    "- [qsar-biodeg](https://www.openml.org/search?type=run&id=519587&collections.id=99&run_task.task_id=9957)"
   ]
  },
  {
   "cell_type": "markdown",
   "metadata": {},
   "source": [
    "## Alteração escolhida\n",
    "A alteração que o nosso grupo decidiu fazer no codigo fonte obtido foi a de considerar a utilização de outros tipos de critérios de divisão. O critério pré definido no nosso código fonte é o de entropia, por isso vamos testar com o gini e com o classification error."
   ]
  },
  {
   "cell_type": "markdown",
   "metadata": {
    "ExecuteTime": {
     "end_time": "2023-05-17T18:01:28.593025Z",
     "start_time": "2023-05-17T18:01:28.453152Z"
    }
   },
   "source": [
    "## Import das bibliotecas necessárias:"
   ],
   "outputs": [],
   "execution_count": 482
  },
  {
   "cell_type": "code",
   "execution_count": 21,
   "metadata": {
    "ExecuteTime": {
     "end_time": "2023-05-19T13:47:26.976204Z",
     "start_time": "2023-05-19T13:47:26.904654Z"
    }
   },
   "outputs": [],
   "source": [
    "from collections import Counter\n",
    "import numpy as np\n",
    "import pandas as pd\n",
    "from sklearn.base import BaseEstimator, ClassifierMixin\n",
    "from sklearn.utils import resample\n",
    "from sklearn.model_selection import GridSearchCV\n",
    "from sklearn.ensemble import RandomForestClassifier as RF\n",
    "from sklearn.metrics import accuracy_score\n",
    "from sklearn.model_selection import train_test_split"
   ]
  },
  {
   "cell_type": "markdown",
   "source": [
    "## Modelo implementado, sem alteração"
   ],
   "metadata": {
    "collapsed": false
   }
  },
  {
   "cell_type": "code",
   "execution_count": 22,
   "outputs": [],
   "source": [
    "class DecisionTree:\n",
    "    def __init__(self, criterion='gini', max_depth=None):\n",
    "        self.criterion = criterion\n",
    "        self.max_depth = max_depth\n",
    "        self.tree = None\n",
    "\n",
    "    def fit(self, X, y):\n",
    "        self.tree = self._build_tree(X, y, depth=0)\n",
    "\n",
    "    def _build_tree(self, X, y, depth):\n",
    "        num_samples, num_features = X.shape\n",
    "        label_counts = Counter(y)\n",
    "\n",
    "        # Base cases: check termination conditions\n",
    "        if len(label_counts) == 1:\n",
    "            # All samples belong to the same class\n",
    "            return {'class': label_counts.most_common(1)[0][0]}\n",
    "\n",
    "        if depth == self.max_depth or num_samples < 2:\n",
    "            # Reached maximum depth or too few samples remaining\n",
    "            return {'class': label_counts.most_common(1)[0][0]}\n",
    "\n",
    "        if num_features == 0:\n",
    "            # No features remaining to split on\n",
    "            return {'class': label_counts.most_common(1)[0][0]}\n",
    "\n",
    "        # Determine the best feature and split point\n",
    "        best_feature, best_split_point = self._get_best_split(X, y)\n",
    "\n",
    "        # Create the tree node\n",
    "        node = {'feature': best_feature, 'split_point': best_split_point}\n",
    "\n",
    "        # Split the data based on the best feature and split point\n",
    "        left_mask = X[:, best_feature] <= best_split_point\n",
    "        right_mask = X[:, best_feature] > best_split_point\n",
    "\n",
    "        left_X, left_y = X[left_mask], y[left_mask]\n",
    "        right_X, right_y = X[right_mask], y[right_mask]\n",
    "\n",
    "        # Recursively build the left and right subtrees\n",
    "        node['left'] = self._build_tree(left_X, left_y, depth + 1)\n",
    "        node['right'] = self._build_tree(right_X, right_y, depth + 1)\n",
    "\n",
    "        return node\n",
    "\n",
    "    def _compute_score(self, y):\n",
    "        # Compute the score based on the selected criterion\n",
    "        if self.criterion == 'gini':\n",
    "            return self._gini_index(y)\n",
    "        elif self.criterion == 'entropy':\n",
    "            return self._entropy(y)\n",
    "        elif self.criterion == 'log_loss':\n",
    "            return self._log_loss(y)\n",
    "        else:\n",
    "            raise ValueError(\"Invalid criterion: {}\".format(self.criterion))\n",
    "\n",
    "    def predict(self, X):\n",
    "        # Make predictions for the input data\n",
    "        predictions = np.zeros(len(X))\n",
    "\n",
    "        for i, sample in enumerate(X):\n",
    "            predictions[i] = self._traverse_tree(sample, self.tree)\n",
    "\n",
    "        return predictions\n",
    "\n",
    "    def _traverse_tree(self, sample, node):\n",
    "        if 'class' in node:\n",
    "            # Leaf node: return the predicted class\n",
    "            return node['class']\n",
    "\n",
    "        # Internal node: recursively traverse the tree\n",
    "        feature = node['feature']\n",
    "        split_point = node['split_point']\n",
    "\n",
    "        if sample[feature] <= split_point:\n",
    "            return self._traverse_tree(sample, node['left'])\n",
    "        else:\n",
    "            return self._traverse_tree(sample, node['right'])\n",
    "\n",
    "    @staticmethod\n",
    "    def _gini_index(y):\n",
    "        # Compute the Gini index for a given set of labels\n",
    "        _, counts = np.unique(y, return_counts=True)\n",
    "        probabilities = counts / len(y)\n",
    "        gini = 1.0 - np.sum(probabilities ** 2)\n",
    "        return gini\n",
    "\n",
    "    @staticmethod\n",
    "    def _entropy(y):\n",
    "        # Compute the entropy for a given set of labels\n",
    "        _, counts = np.unique(y, return_counts=True)\n",
    "        probabilities = counts / len(y)\n",
    "        entropy = -np.sum(probabilities * np.log2(probabilities))\n",
    "        return entropy\n",
    "\n",
    "    @staticmethod\n",
    "    def _log_loss(y):\n",
    "        # Compute the logarithmic loss for a given set of labels\n",
    "        num_samples = len(y)\n",
    "        unique_classes = np.unique(y)\n",
    "\n",
    "        class_counts = Counter(y)\n",
    "        class_probabilities = np.array([class_counts[c] / num_samples for c in unique_classes])\n",
    "\n",
    "        return -np.sum(class_probabilities * np.log2(class_probabilities))\n",
    "\n",
    "    def _get_best_split(self, X, y):\n",
    "        best_feature = None\n",
    "        best_split_point = None\n",
    "        best_score = -np.inf\n",
    "\n",
    "        for feature in range(X.shape[1]):\n",
    "            unique_values = np.unique(X[:, feature])\n",
    "            for value in unique_values:\n",
    "                left_mask = X[:, feature] <= value\n",
    "                right_mask = X[:, feature] > value\n",
    "                left_labels = y[left_mask]\n",
    "                right_labels = y[right_mask]\n",
    "\n",
    "                if len(left_labels) > 0 and len(right_labels) > 0:\n",
    "                    score = self._compute_score(left_labels) * len(left_labels) + \\\n",
    "                            self._compute_score(right_labels) * len(right_labels)\n",
    "                    if score > best_score:\n",
    "                        best_feature = feature\n",
    "                        best_split_point = value\n",
    "                        best_score = score\n",
    "\n",
    "        return best_feature, best_split_point\n",
    "\n",
    "    def set_best_criterion(self, X, y, criteria):\n",
    "        best_score = 0.0\n",
    "        best_criterion = None\n",
    "\n",
    "        for criterion in criteria:\n",
    "            self.criterion = criterion\n",
    "            X_train, X_test, y_train, y_test = train_test_split(X, y, test_size=0.3, random_state=42)\n",
    "            self.fit(X_train, y_train)\n",
    "            y_pred = self.predict(X_test)\n",
    "            score = accuracy_score(y_test, y_pred)\n",
    "\n",
    "            if score > best_score:\n",
    "                best_score = score\n",
    "                best_criterion = criterion\n",
    "\n",
    "        self.criterion=best_criterion"
   ],
   "metadata": {
    "collapsed": false,
    "ExecuteTime": {
     "end_time": "2023-05-19T13:47:27.039497Z",
     "start_time": "2023-05-19T13:47:26.916597Z"
    }
   }
  },
  {
   "cell_type": "code",
   "execution_count": 23,
   "outputs": [],
   "source": [
    "class Custom_RF(BaseEstimator, ClassifierMixin):\n",
    "    def __init__(self, n_estimators=100, max_depth=None):\n",
    "        self.n_estimators = n_estimators\n",
    "        self.max_depth = max_depth\n",
    "        self.estimators = []\n",
    "\n",
    "    def fit(self, X, y):\n",
    "        self.estimators = []\n",
    "        # self.max_depth = self._get_best_max_depth(X, y)\n",
    "        # self.n_estimators = self._get_best_n_estimators(X, y)\n",
    "\n",
    "        criteria = [\"gini\", \"entropy\", \"log_loss\"]\n",
    "\n",
    "        for _ in range(self.n_estimators):\n",
    "            bootstrap_indices = resample(range(len(X)), replace=True)\n",
    "            X_bootstrap = X[bootstrap_indices]\n",
    "            y_bootstrap = y[bootstrap_indices]\n",
    "\n",
    "            tree = DecisionTree(self.max_depth)\n",
    "            tree.set_best_criterion(X_bootstrap, y_bootstrap, criteria)\n",
    "            tree.fit(X_bootstrap, y_bootstrap)\n",
    "\n",
    "            self.estimators.append(tree)\n",
    "\n",
    "    def predict(self, X):\n",
    "        predictions = np.zeros((len(X), len(self.estimators)))\n",
    "\n",
    "        for i, estimator in enumerate(self.estimators):\n",
    "            predictions[:, i] = estimator.predict(X)\n",
    "\n",
    "        return np.apply_along_axis(lambda x: np.bincount(x.astype(int)).argmax(), axis=1, arr=predictions)\n",
    "\n",
    "    @staticmethod\n",
    "    def _get_best_max_depth(X, y):\n",
    "        param_grid = {'max_depth': [None, 5, 10, 15, 20]}\n",
    "        rf_classifier = Custom_RF(n_estimators=1)  # Temporarily create an instance for grid search\n",
    "        grid_search = GridSearchCV(rf_classifier, param_grid, cv=3, scoring='accuracy')\n",
    "        grid_search.fit(X, y)\n",
    "        best_max_depth = grid_search.best_params_['max_depth']\n",
    "        return best_max_depth\n",
    "\n",
    "    def _get_best_n_estimators(self, X, y):\n",
    "        param_grid = {'n_estimators': [50, 100, 150, 200, 250]}\n",
    "        rf_classifier = Custom_RF(max_depth=self.max_depth)  # Temporarily create an instance for grid search\n",
    "        grid_search = GridSearchCV(rf_classifier, param_grid, cv=3, scoring='accuracy')\n",
    "        grid_search.fit(X, y)\n",
    "        best_n_estimators = grid_search.best_params_['n_estimators']\n",
    "        return best_n_estimators"
   ],
   "metadata": {
    "collapsed": false,
    "ExecuteTime": {
     "end_time": "2023-05-19T13:47:27.040442Z",
     "start_time": "2023-05-19T13:47:26.924994Z"
    }
   }
  },
  {
   "cell_type": "markdown",
   "metadata": {},
   "source": [
    "## Testes para cada dataset"
   ],
   "outputs": [],
   "execution_count": null
  },
  {
   "cell_type": "code",
   "execution_count": 24,
   "outputs": [],
   "source": [
    "def test_model(dataset, model):\n",
    "\n",
    "    X=dataset.iloc[:,1:-1].values\n",
    "    y=dataset.iloc[:,-1].values\n",
    "\n",
    "    X_train, X_test, y_train, y_test = train_test_split(X, y,test_size=0.3, random_state=42)\n",
    "\n",
    "    model.fit(X_train, y_train)\n",
    "\n",
    "    print(\"Accuracy:\", accuracy_score(y_test, model.predict(X_test)))"
   ],
   "metadata": {
    "collapsed": false,
    "ExecuteTime": {
     "end_time": "2023-05-19T13:47:27.041212Z",
     "start_time": "2023-05-19T13:47:26.929315Z"
    }
   }
  },
  {
   "cell_type": "markdown",
   "metadata": {},
   "source": [
    "### DATASET 1 - Cancro da mama"
   ],
   "outputs": [],
   "execution_count": null
  },
  {
   "cell_type": "code",
   "execution_count": 25,
   "metadata": {
    "ExecuteTime": {
     "end_time": "2023-05-19T13:47:27.043794Z",
     "start_time": "2023-05-19T13:47:26.932369Z"
    }
   },
   "outputs": [
    {
     "data": {
      "text/plain": "   id  Clump_Thickness  Cell_Size_Uniformity  Cell_Shape_Uniformity  \\\n0   1                5                     1                      1   \n1   2                5                     4                      4   \n2   3                3                     1                      1   \n3   4                6                     8                      8   \n4   5                4                     1                      1   \n\n   Marginal_Adhesion  Single_Epi_Cell_Size Bare_Nuclei  Bland_Chromatin  \\\n0                  1                     2           1                3   \n1                  5                     7          10                3   \n2                  1                     2           2                3   \n3                  1                     3           4                3   \n4                  3                     2           1                3   \n\n   Normal_Nucleoli  Mitoses   Class  \n0                1        1  benign  \n1                2        1  benign  \n2                1        1  benign  \n3                7        1  benign  \n4                1        1  benign  ",
      "text/html": "<div>\n<style scoped>\n    .dataframe tbody tr th:only-of-type {\n        vertical-align: middle;\n    }\n\n    .dataframe tbody tr th {\n        vertical-align: top;\n    }\n\n    .dataframe thead th {\n        text-align: right;\n    }\n</style>\n<table border=\"1\" class=\"dataframe\">\n  <thead>\n    <tr style=\"text-align: right;\">\n      <th></th>\n      <th>id</th>\n      <th>Clump_Thickness</th>\n      <th>Cell_Size_Uniformity</th>\n      <th>Cell_Shape_Uniformity</th>\n      <th>Marginal_Adhesion</th>\n      <th>Single_Epi_Cell_Size</th>\n      <th>Bare_Nuclei</th>\n      <th>Bland_Chromatin</th>\n      <th>Normal_Nucleoli</th>\n      <th>Mitoses</th>\n      <th>Class</th>\n    </tr>\n  </thead>\n  <tbody>\n    <tr>\n      <th>0</th>\n      <td>1</td>\n      <td>5</td>\n      <td>1</td>\n      <td>1</td>\n      <td>1</td>\n      <td>2</td>\n      <td>1</td>\n      <td>3</td>\n      <td>1</td>\n      <td>1</td>\n      <td>benign</td>\n    </tr>\n    <tr>\n      <th>1</th>\n      <td>2</td>\n      <td>5</td>\n      <td>4</td>\n      <td>4</td>\n      <td>5</td>\n      <td>7</td>\n      <td>10</td>\n      <td>3</td>\n      <td>2</td>\n      <td>1</td>\n      <td>benign</td>\n    </tr>\n    <tr>\n      <th>2</th>\n      <td>3</td>\n      <td>3</td>\n      <td>1</td>\n      <td>1</td>\n      <td>1</td>\n      <td>2</td>\n      <td>2</td>\n      <td>3</td>\n      <td>1</td>\n      <td>1</td>\n      <td>benign</td>\n    </tr>\n    <tr>\n      <th>3</th>\n      <td>4</td>\n      <td>6</td>\n      <td>8</td>\n      <td>8</td>\n      <td>1</td>\n      <td>3</td>\n      <td>4</td>\n      <td>3</td>\n      <td>7</td>\n      <td>1</td>\n      <td>benign</td>\n    </tr>\n    <tr>\n      <th>4</th>\n      <td>5</td>\n      <td>4</td>\n      <td>1</td>\n      <td>1</td>\n      <td>3</td>\n      <td>2</td>\n      <td>1</td>\n      <td>3</td>\n      <td>1</td>\n      <td>1</td>\n      <td>benign</td>\n    </tr>\n  </tbody>\n</table>\n</div>"
     },
     "execution_count": 25,
     "metadata": {},
     "output_type": "execute_result"
    }
   ],
   "source": [
    "df = pd.read_csv('breast.csv')\n",
    "df.head()"
   ]
  },
  {
   "cell_type": "code",
   "execution_count": 26,
   "metadata": {
    "ExecuteTime": {
     "end_time": "2023-05-19T13:47:27.053757Z",
     "start_time": "2023-05-19T13:47:26.948907Z"
    }
   },
   "outputs": [
    {
     "data": {
      "text/plain": "   id  Clump_Thickness  Cell_Size_Uniformity  Cell_Shape_Uniformity  \\\n0   1                5                     1                      1   \n1   2                5                     4                      4   \n2   3                3                     1                      1   \n3   4                6                     8                      8   \n4   5                4                     1                      1   \n\n   Marginal_Adhesion  Single_Epi_Cell_Size Bare_Nuclei  Bland_Chromatin  \\\n0                  1                     2           1                3   \n1                  5                     7          10                3   \n2                  1                     2           2                3   \n3                  1                     3           4                3   \n4                  3                     2           1                3   \n\n   Normal_Nucleoli  Mitoses  Class  \n0                1        1      0  \n1                2        1      0  \n2                1        1      0  \n3                7        1      0  \n4                1        1      0  ",
      "text/html": "<div>\n<style scoped>\n    .dataframe tbody tr th:only-of-type {\n        vertical-align: middle;\n    }\n\n    .dataframe tbody tr th {\n        vertical-align: top;\n    }\n\n    .dataframe thead th {\n        text-align: right;\n    }\n</style>\n<table border=\"1\" class=\"dataframe\">\n  <thead>\n    <tr style=\"text-align: right;\">\n      <th></th>\n      <th>id</th>\n      <th>Clump_Thickness</th>\n      <th>Cell_Size_Uniformity</th>\n      <th>Cell_Shape_Uniformity</th>\n      <th>Marginal_Adhesion</th>\n      <th>Single_Epi_Cell_Size</th>\n      <th>Bare_Nuclei</th>\n      <th>Bland_Chromatin</th>\n      <th>Normal_Nucleoli</th>\n      <th>Mitoses</th>\n      <th>Class</th>\n    </tr>\n  </thead>\n  <tbody>\n    <tr>\n      <th>0</th>\n      <td>1</td>\n      <td>5</td>\n      <td>1</td>\n      <td>1</td>\n      <td>1</td>\n      <td>2</td>\n      <td>1</td>\n      <td>3</td>\n      <td>1</td>\n      <td>1</td>\n      <td>0</td>\n    </tr>\n    <tr>\n      <th>1</th>\n      <td>2</td>\n      <td>5</td>\n      <td>4</td>\n      <td>4</td>\n      <td>5</td>\n      <td>7</td>\n      <td>10</td>\n      <td>3</td>\n      <td>2</td>\n      <td>1</td>\n      <td>0</td>\n    </tr>\n    <tr>\n      <th>2</th>\n      <td>3</td>\n      <td>3</td>\n      <td>1</td>\n      <td>1</td>\n      <td>1</td>\n      <td>2</td>\n      <td>2</td>\n      <td>3</td>\n      <td>1</td>\n      <td>1</td>\n      <td>0</td>\n    </tr>\n    <tr>\n      <th>3</th>\n      <td>4</td>\n      <td>6</td>\n      <td>8</td>\n      <td>8</td>\n      <td>1</td>\n      <td>3</td>\n      <td>4</td>\n      <td>3</td>\n      <td>7</td>\n      <td>1</td>\n      <td>0</td>\n    </tr>\n    <tr>\n      <th>4</th>\n      <td>5</td>\n      <td>4</td>\n      <td>1</td>\n      <td>1</td>\n      <td>3</td>\n      <td>2</td>\n      <td>1</td>\n      <td>3</td>\n      <td>1</td>\n      <td>1</td>\n      <td>0</td>\n    </tr>\n  </tbody>\n</table>\n</div>"
     },
     "execution_count": 26,
     "metadata": {},
     "output_type": "execute_result"
    }
   ],
   "source": [
    "df['Class']=df['Class'].map({'benign': 0, 'malignant': 1})\n",
    "df['Bare_Nuclei'].replace('?', np.nan, inplace=True)\n",
    "df.dropna(subset=['Bare_Nuclei'], inplace=True)\n",
    "df.head()"
   ]
  },
  {
   "cell_type": "markdown",
   "metadata": {},
   "source": [
    "#### Teste 1 - Random Forest (sklearn) com o critério default (gini)"
   ],
   "outputs": [],
   "execution_count": null
  },
  {
   "cell_type": "code",
   "execution_count": 27,
   "metadata": {
    "ExecuteTime": {
     "end_time": "2023-05-19T13:47:27.060535Z",
     "start_time": "2023-05-19T13:47:26.957158Z"
    }
   },
   "outputs": [
    {
     "name": "stdout",
     "output_type": "stream",
     "text": [
      "Accuracy: 0.9560975609756097\n"
     ]
    }
   ],
   "source": [
    "test_model(df, RF())"
   ]
  },
  {
   "cell_type": "markdown",
   "source": [
    "#### Teste 2 - Random Forest (sklearn) com o critério entropy"
   ],
   "metadata": {
    "collapsed": false
   },
   "outputs": [],
   "execution_count": null
  },
  {
   "cell_type": "code",
   "execution_count": 28,
   "outputs": [
    {
     "name": "stdout",
     "output_type": "stream",
     "text": [
      "Accuracy: 0.9609756097560975\n"
     ]
    }
   ],
   "source": [
    "test_model(df, RF(criterion='entropy'))"
   ],
   "metadata": {
    "collapsed": false,
    "ExecuteTime": {
     "end_time": "2023-05-19T13:47:27.158242Z",
     "start_time": "2023-05-19T13:47:27.029548Z"
    }
   }
  },
  {
   "cell_type": "markdown",
   "metadata": {},
   "source": [
    "#### Teste 3 - Random Forest (sklearn) com o critério log_loss"
   ],
   "outputs": [],
   "execution_count": null
  },
  {
   "cell_type": "code",
   "execution_count": 29,
   "metadata": {
    "ExecuteTime": {
     "end_time": "2023-05-19T13:47:27.210942Z",
     "start_time": "2023-05-19T13:47:27.104928Z"
    }
   },
   "outputs": [
    {
     "name": "stdout",
     "output_type": "stream",
     "text": [
      "Accuracy: 0.975609756097561\n"
     ]
    }
   ],
   "source": [
    "test_model(df, RF(criterion='log_loss'))"
   ]
  },
  {
   "cell_type": "markdown",
   "metadata": {},
   "source": [
    "#### Teste 4 - Random Forest (Custom)"
   ],
   "outputs": [],
   "execution_count": null
  },
  {
   "cell_type": "code",
   "execution_count": 30,
   "metadata": {
    "ExecuteTime": {
     "end_time": "2023-05-19T13:48:12.365333Z",
     "start_time": "2023-05-19T13:47:27.185682Z"
    }
   },
   "outputs": [
    {
     "name": "stdout",
     "output_type": "stream",
     "text": [
      "Accuracy: 0.9658536585365853\n"
     ]
    }
   ],
   "source": [
    "test_model(df, Custom_RF())"
   ]
  },
  {
   "cell_type": "markdown",
   "metadata": {},
   "source": [
    "## Dataset 2 - Biodeg"
   ],
   "outputs": [],
   "execution_count": null
  },
  {
   "cell_type": "code",
   "execution_count": 31,
   "metadata": {
    "ExecuteTime": {
     "end_time": "2023-05-19T13:48:12.381629Z",
     "start_time": "2023-05-19T13:48:12.367865Z"
    }
   },
   "outputs": [
    {
     "data": {
      "text/plain": "   id     V1      V2  V3  V4  V5  V6  V7    V8  V9  ...  V33  V34  V35    V36  \\\n0   1  3.919  2.6909   0   0   0   0   0  31.4   2  ...    0    0    0  2.949   \n1   2  4.170  2.1144   0   0   0   0   0  30.8   1  ...    0    0    0  3.315   \n2   3  3.932  3.2512   0   0   0   0   0  26.7   2  ...    0    0    1  3.076   \n3   4  3.000  2.7098   0   0   0   0   0  20.0   0  ...    0    0    1  3.046   \n4   5  4.236  3.3944   0   0   0   0   0  29.4   2  ...    0    0    0  3.351   \n\n     V37  V38    V39  V40  V41  Class  \n0  1.591    0  7.253    0    0      2  \n1  1.967    0  7.257    0    0      2  \n2  2.417    0  7.601    0    0      2  \n3  5.000    0  6.690    0    0      2  \n4  2.405    0  8.003    0    0      2  \n\n[5 rows x 43 columns]",
      "text/html": "<div>\n<style scoped>\n    .dataframe tbody tr th:only-of-type {\n        vertical-align: middle;\n    }\n\n    .dataframe tbody tr th {\n        vertical-align: top;\n    }\n\n    .dataframe thead th {\n        text-align: right;\n    }\n</style>\n<table border=\"1\" class=\"dataframe\">\n  <thead>\n    <tr style=\"text-align: right;\">\n      <th></th>\n      <th>id</th>\n      <th>V1</th>\n      <th>V2</th>\n      <th>V3</th>\n      <th>V4</th>\n      <th>V5</th>\n      <th>V6</th>\n      <th>V7</th>\n      <th>V8</th>\n      <th>V9</th>\n      <th>...</th>\n      <th>V33</th>\n      <th>V34</th>\n      <th>V35</th>\n      <th>V36</th>\n      <th>V37</th>\n      <th>V38</th>\n      <th>V39</th>\n      <th>V40</th>\n      <th>V41</th>\n      <th>Class</th>\n    </tr>\n  </thead>\n  <tbody>\n    <tr>\n      <th>0</th>\n      <td>1</td>\n      <td>3.919</td>\n      <td>2.6909</td>\n      <td>0</td>\n      <td>0</td>\n      <td>0</td>\n      <td>0</td>\n      <td>0</td>\n      <td>31.4</td>\n      <td>2</td>\n      <td>...</td>\n      <td>0</td>\n      <td>0</td>\n      <td>0</td>\n      <td>2.949</td>\n      <td>1.591</td>\n      <td>0</td>\n      <td>7.253</td>\n      <td>0</td>\n      <td>0</td>\n      <td>2</td>\n    </tr>\n    <tr>\n      <th>1</th>\n      <td>2</td>\n      <td>4.170</td>\n      <td>2.1144</td>\n      <td>0</td>\n      <td>0</td>\n      <td>0</td>\n      <td>0</td>\n      <td>0</td>\n      <td>30.8</td>\n      <td>1</td>\n      <td>...</td>\n      <td>0</td>\n      <td>0</td>\n      <td>0</td>\n      <td>3.315</td>\n      <td>1.967</td>\n      <td>0</td>\n      <td>7.257</td>\n      <td>0</td>\n      <td>0</td>\n      <td>2</td>\n    </tr>\n    <tr>\n      <th>2</th>\n      <td>3</td>\n      <td>3.932</td>\n      <td>3.2512</td>\n      <td>0</td>\n      <td>0</td>\n      <td>0</td>\n      <td>0</td>\n      <td>0</td>\n      <td>26.7</td>\n      <td>2</td>\n      <td>...</td>\n      <td>0</td>\n      <td>0</td>\n      <td>1</td>\n      <td>3.076</td>\n      <td>2.417</td>\n      <td>0</td>\n      <td>7.601</td>\n      <td>0</td>\n      <td>0</td>\n      <td>2</td>\n    </tr>\n    <tr>\n      <th>3</th>\n      <td>4</td>\n      <td>3.000</td>\n      <td>2.7098</td>\n      <td>0</td>\n      <td>0</td>\n      <td>0</td>\n      <td>0</td>\n      <td>0</td>\n      <td>20.0</td>\n      <td>0</td>\n      <td>...</td>\n      <td>0</td>\n      <td>0</td>\n      <td>1</td>\n      <td>3.046</td>\n      <td>5.000</td>\n      <td>0</td>\n      <td>6.690</td>\n      <td>0</td>\n      <td>0</td>\n      <td>2</td>\n    </tr>\n    <tr>\n      <th>4</th>\n      <td>5</td>\n      <td>4.236</td>\n      <td>3.3944</td>\n      <td>0</td>\n      <td>0</td>\n      <td>0</td>\n      <td>0</td>\n      <td>0</td>\n      <td>29.4</td>\n      <td>2</td>\n      <td>...</td>\n      <td>0</td>\n      <td>0</td>\n      <td>0</td>\n      <td>3.351</td>\n      <td>2.405</td>\n      <td>0</td>\n      <td>8.003</td>\n      <td>0</td>\n      <td>0</td>\n      <td>2</td>\n    </tr>\n  </tbody>\n</table>\n<p>5 rows × 43 columns</p>\n</div>"
     },
     "execution_count": 31,
     "metadata": {},
     "output_type": "execute_result"
    }
   ],
   "source": [
    "df = pd.read_csv('biodeg.csv')\n",
    "df.head()"
   ]
  },
  {
   "cell_type": "markdown",
   "source": [
    "#### Teste 1 - Random Forest (sklearn) com o critério default (gini)\n"
   ],
   "metadata": {
    "collapsed": false
   },
   "outputs": [],
   "execution_count": null
  },
  {
   "cell_type": "code",
   "execution_count": 32,
   "metadata": {
    "ExecuteTime": {
     "end_time": "2023-05-19T13:48:12.525136Z",
     "start_time": "2023-05-19T13:48:12.382279Z"
    }
   },
   "outputs": [
    {
     "name": "stdout",
     "output_type": "stream",
     "text": [
      "Accuracy: 0.8769716088328076\n"
     ]
    }
   ],
   "source": [
    "test_model(df, RF())\n"
   ]
  },
  {
   "cell_type": "markdown",
   "source": [
    "#### Teste 2 - Random Forest (sklearn) com o critério entropy"
   ],
   "metadata": {
    "collapsed": false
   },
   "outputs": [],
   "execution_count": null
  },
  {
   "cell_type": "code",
   "execution_count": 33,
   "outputs": [
    {
     "name": "stdout",
     "output_type": "stream",
     "text": [
      "Accuracy: 0.8738170347003155\n"
     ]
    }
   ],
   "source": [
    "test_model(df, RF(criterion='entropy'))"
   ],
   "metadata": {
    "collapsed": false,
    "ExecuteTime": {
     "end_time": "2023-05-19T13:48:12.653422Z",
     "start_time": "2023-05-19T13:48:12.518978Z"
    }
   }
  },
  {
   "cell_type": "markdown",
   "source": [
    "#### Teste 3 - Random Forest (sklearn) com o critério log_loss"
   ],
   "metadata": {
    "collapsed": false
   },
   "outputs": [],
   "execution_count": null
  },
  {
   "cell_type": "code",
   "execution_count": 34,
   "outputs": [
    {
     "name": "stdout",
     "output_type": "stream",
     "text": [
      "Accuracy: 0.8738170347003155\n"
     ]
    }
   ],
   "source": [
    "test_model(df, RF(criterion='log_loss'))"
   ],
   "metadata": {
    "collapsed": false,
    "ExecuteTime": {
     "end_time": "2023-05-19T13:48:12.789653Z",
     "start_time": "2023-05-19T13:48:12.653159Z"
    }
   }
  },
  {
   "cell_type": "markdown",
   "source": [
    "#### Teste 4 - Random Forest (Custom)"
   ],
   "metadata": {
    "collapsed": false
   },
   "outputs": [],
   "execution_count": null
  },
  {
   "cell_type": "code",
   "execution_count": 35,
   "outputs": [
    {
     "name": "stdout",
     "output_type": "stream",
     "text": [
      "Accuracy: 0.6908517350157729\n"
     ]
    }
   ],
   "source": [
    "test_model(df, Custom_RF())"
   ],
   "metadata": {
    "collapsed": false,
    "ExecuteTime": {
     "end_time": "2023-05-19T13:59:17.204674Z",
     "start_time": "2023-05-19T13:48:12.785528Z"
    }
   }
  },
  {
   "cell_type": "markdown",
   "source": [
    "## Dataset 3 - Diabetes"
   ],
   "metadata": {
    "collapsed": false
   },
   "outputs": []
  },
  {
   "cell_type": "code",
   "execution_count": 36,
   "outputs": [
    {
     "data": {
      "text/plain": "   id  'preg'  'plas'  'pres'  'skin'  'insu'  'mass'  'pedi'  'age'  \\\n0   1       6     148      72      35       0    33.6   0.627     50   \n1   2       1      85      66      29       0    26.6   0.351     31   \n2   3       8     183      64       0       0    23.3   0.672     32   \n3   4       1      89      66      23      94    28.1   0.167     21   \n4   5       0     137      40      35     168    43.1   2.288     33   \n\n           'class'  \n0  tested_positive  \n1  tested_negative  \n2  tested_positive  \n3  tested_negative  \n4  tested_positive  ",
      "text/html": "<div>\n<style scoped>\n    .dataframe tbody tr th:only-of-type {\n        vertical-align: middle;\n    }\n\n    .dataframe tbody tr th {\n        vertical-align: top;\n    }\n\n    .dataframe thead th {\n        text-align: right;\n    }\n</style>\n<table border=\"1\" class=\"dataframe\">\n  <thead>\n    <tr style=\"text-align: right;\">\n      <th></th>\n      <th>id</th>\n      <th>'preg'</th>\n      <th>'plas'</th>\n      <th>'pres'</th>\n      <th>'skin'</th>\n      <th>'insu'</th>\n      <th>'mass'</th>\n      <th>'pedi'</th>\n      <th>'age'</th>\n      <th>'class'</th>\n    </tr>\n  </thead>\n  <tbody>\n    <tr>\n      <th>0</th>\n      <td>1</td>\n      <td>6</td>\n      <td>148</td>\n      <td>72</td>\n      <td>35</td>\n      <td>0</td>\n      <td>33.6</td>\n      <td>0.627</td>\n      <td>50</td>\n      <td>tested_positive</td>\n    </tr>\n    <tr>\n      <th>1</th>\n      <td>2</td>\n      <td>1</td>\n      <td>85</td>\n      <td>66</td>\n      <td>29</td>\n      <td>0</td>\n      <td>26.6</td>\n      <td>0.351</td>\n      <td>31</td>\n      <td>tested_negative</td>\n    </tr>\n    <tr>\n      <th>2</th>\n      <td>3</td>\n      <td>8</td>\n      <td>183</td>\n      <td>64</td>\n      <td>0</td>\n      <td>0</td>\n      <td>23.3</td>\n      <td>0.672</td>\n      <td>32</td>\n      <td>tested_positive</td>\n    </tr>\n    <tr>\n      <th>3</th>\n      <td>4</td>\n      <td>1</td>\n      <td>89</td>\n      <td>66</td>\n      <td>23</td>\n      <td>94</td>\n      <td>28.1</td>\n      <td>0.167</td>\n      <td>21</td>\n      <td>tested_negative</td>\n    </tr>\n    <tr>\n      <th>4</th>\n      <td>5</td>\n      <td>0</td>\n      <td>137</td>\n      <td>40</td>\n      <td>35</td>\n      <td>168</td>\n      <td>43.1</td>\n      <td>2.288</td>\n      <td>33</td>\n      <td>tested_positive</td>\n    </tr>\n  </tbody>\n</table>\n</div>"
     },
     "execution_count": 36,
     "metadata": {},
     "output_type": "execute_result"
    }
   ],
   "source": [
    "df = pd.read_csv('diabetes.csv')\n",
    "df.head()"
   ],
   "metadata": {
    "collapsed": false,
    "ExecuteTime": {
     "end_time": "2023-05-19T13:59:17.223126Z",
     "start_time": "2023-05-19T13:59:17.204255Z"
    }
   }
  },
  {
   "cell_type": "code",
   "execution_count": 37,
   "outputs": [
    {
     "data": {
      "text/plain": "   id  'preg'  'plas'  'pres'  'skin'  'insu'  'mass'  'pedi'  'age'  'class'\n0   1       6     148      72      35       0    33.6   0.627     50        0\n1   2       1      85      66      29       0    26.6   0.351     31        1\n2   3       8     183      64       0       0    23.3   0.672     32        0\n3   4       1      89      66      23      94    28.1   0.167     21        1\n4   5       0     137      40      35     168    43.1   2.288     33        0",
      "text/html": "<div>\n<style scoped>\n    .dataframe tbody tr th:only-of-type {\n        vertical-align: middle;\n    }\n\n    .dataframe tbody tr th {\n        vertical-align: top;\n    }\n\n    .dataframe thead th {\n        text-align: right;\n    }\n</style>\n<table border=\"1\" class=\"dataframe\">\n  <thead>\n    <tr style=\"text-align: right;\">\n      <th></th>\n      <th>id</th>\n      <th>'preg'</th>\n      <th>'plas'</th>\n      <th>'pres'</th>\n      <th>'skin'</th>\n      <th>'insu'</th>\n      <th>'mass'</th>\n      <th>'pedi'</th>\n      <th>'age'</th>\n      <th>'class'</th>\n    </tr>\n  </thead>\n  <tbody>\n    <tr>\n      <th>0</th>\n      <td>1</td>\n      <td>6</td>\n      <td>148</td>\n      <td>72</td>\n      <td>35</td>\n      <td>0</td>\n      <td>33.6</td>\n      <td>0.627</td>\n      <td>50</td>\n      <td>0</td>\n    </tr>\n    <tr>\n      <th>1</th>\n      <td>2</td>\n      <td>1</td>\n      <td>85</td>\n      <td>66</td>\n      <td>29</td>\n      <td>0</td>\n      <td>26.6</td>\n      <td>0.351</td>\n      <td>31</td>\n      <td>1</td>\n    </tr>\n    <tr>\n      <th>2</th>\n      <td>3</td>\n      <td>8</td>\n      <td>183</td>\n      <td>64</td>\n      <td>0</td>\n      <td>0</td>\n      <td>23.3</td>\n      <td>0.672</td>\n      <td>32</td>\n      <td>0</td>\n    </tr>\n    <tr>\n      <th>3</th>\n      <td>4</td>\n      <td>1</td>\n      <td>89</td>\n      <td>66</td>\n      <td>23</td>\n      <td>94</td>\n      <td>28.1</td>\n      <td>0.167</td>\n      <td>21</td>\n      <td>1</td>\n    </tr>\n    <tr>\n      <th>4</th>\n      <td>5</td>\n      <td>0</td>\n      <td>137</td>\n      <td>40</td>\n      <td>35</td>\n      <td>168</td>\n      <td>43.1</td>\n      <td>2.288</td>\n      <td>33</td>\n      <td>0</td>\n    </tr>\n  </tbody>\n</table>\n</div>"
     },
     "execution_count": 37,
     "metadata": {},
     "output_type": "execute_result"
    }
   ],
   "source": [
    "df[\"'class'\"]=df[\"'class'\"].map({'tested_positive': 0, 'tested_negative': 1})\n",
    "df.head()"
   ],
   "metadata": {
    "collapsed": false,
    "ExecuteTime": {
     "end_time": "2023-05-19T13:59:17.257949Z",
     "start_time": "2023-05-19T13:59:17.227595Z"
    }
   }
  },
  {
   "cell_type": "markdown",
   "source": [
    "#### Teste 1 - Random Forest (sklearn) com o critério default (gini)\n"
   ],
   "metadata": {
    "collapsed": false
   },
   "outputs": []
  },
  {
   "cell_type": "code",
   "execution_count": 38,
   "outputs": [
    {
     "name": "stdout",
     "output_type": "stream",
     "text": [
      "Accuracy: 0.7229437229437229\n"
     ]
    }
   ],
   "source": [
    "test_model(df, RF())"
   ],
   "metadata": {
    "collapsed": false,
    "ExecuteTime": {
     "end_time": "2023-05-19T13:59:17.365625Z",
     "start_time": "2023-05-19T13:59:17.232754Z"
    }
   }
  },
  {
   "cell_type": "markdown",
   "source": [
    "#### Teste 2 - Random Forest (sklearn) com o critério entropy\n"
   ],
   "metadata": {
    "collapsed": false
   },
   "outputs": []
  },
  {
   "cell_type": "code",
   "execution_count": 39,
   "outputs": [
    {
     "name": "stdout",
     "output_type": "stream",
     "text": [
      "Accuracy: 0.7532467532467533\n"
     ]
    }
   ],
   "source": [
    "test_model(df, RF(criterion='entropy'))\n"
   ],
   "metadata": {
    "collapsed": false,
    "ExecuteTime": {
     "end_time": "2023-05-19T13:59:17.447056Z",
     "start_time": "2023-05-19T13:59:17.330756Z"
    }
   }
  },
  {
   "cell_type": "markdown",
   "source": [
    "#### Teste 3 - Random Forest (sklearn) com o critério log_loss\n"
   ],
   "metadata": {
    "collapsed": false
   },
   "outputs": []
  },
  {
   "cell_type": "code",
   "execution_count": 40,
   "outputs": [
    {
     "name": "stdout",
     "output_type": "stream",
     "text": [
      "Accuracy: 0.7575757575757576\n"
     ]
    }
   ],
   "source": [
    "test_model(df, RF(criterion='log_loss'))\n"
   ],
   "metadata": {
    "collapsed": false,
    "ExecuteTime": {
     "end_time": "2023-05-19T13:59:17.528342Z",
     "start_time": "2023-05-19T13:59:17.431310Z"
    }
   }
  },
  {
   "cell_type": "markdown",
   "source": [
    "#### Teste 4 - Random Forest (Custom)\n"
   ],
   "metadata": {
    "collapsed": false
   },
   "outputs": []
  },
  {
   "cell_type": "code",
   "execution_count": 41,
   "outputs": [
    {
     "name": "stdout",
     "output_type": "stream",
     "text": [
      "Accuracy: 0.683982683982684\n"
     ]
    }
   ],
   "source": [
    "test_model(df, Custom_RF())"
   ],
   "metadata": {
    "collapsed": false,
    "ExecuteTime": {
     "end_time": "2023-05-19T14:01:34.981821Z",
     "start_time": "2023-05-19T13:59:17.529086Z"
    }
   }
  },
  {
   "cell_type": "code",
   "execution_count": 41,
   "outputs": [],
   "source": [],
   "metadata": {
    "collapsed": false,
    "ExecuteTime": {
     "end_time": "2023-05-19T14:01:34.985556Z",
     "start_time": "2023-05-19T14:01:34.982834Z"
    }
   }
  },
  {
   "cell_type": "code",
   "execution_count": 41,
   "outputs": [],
   "source": [],
   "metadata": {
    "collapsed": false,
    "ExecuteTime": {
     "end_time": "2023-05-19T14:01:34.987395Z",
     "start_time": "2023-05-19T14:01:34.984732Z"
    }
   }
  }
 ],
 "metadata": {
  "kernelspec": {
   "display_name": "Python 3 (ipykernel)",
   "language": "python",
   "name": "python3"
  },
  "language_info": {
   "codemirror_mode": {
    "name": "ipython",
    "version": 3
   },
   "file_extension": ".py",
   "mimetype": "text/x-python",
   "name": "python",
   "nbconvert_exporter": "python",
   "pygments_lexer": "ipython3",
   "version": "3.10.9"
  }
 },
 "nbformat": 4,
 "nbformat_minor": 1
}
