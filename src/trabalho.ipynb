{
 "cells": [
  {
   "cell_type": "markdown",
   "metadata": {},
   "source": [
    "# Trabalho prático AC"
   ]
  },
  {
   "cell_type": "markdown",
   "metadata": {},
   "source": [
    "## Trabalho realizado por:\n",
    "\n",
    "Margarida Vila-chã, 20210504\n",
    "\n",
    "Miguel Duarte Silva, 20210504\n",
    "\n",
    "Sebastião Lessa, 202103238\n"
   ]
  },
  {
   "cell_type": "markdown",
   "metadata": {},
   "source": [
    "## Algoritmo escolhido e breve explicação:\n",
    "\n",
    "O algoritmo escolhido pelo nosso grupo foi o Random Forrest.\n",
    "\n",
    "Este algoritmo é um algoritmo de aprendizagem computacional supervisionado. Ele usa uma combinação de árvores de decisão aleatórias. O processo começa com a criação de um grande número de árvores (floresta), em que cada uma das árvores criadas é treinada com uma amostra diferente. Isto permite a criação de árvores suficientemente diferentes, o que leva a que elas juntas consigam lidar com uma ampla variedade de situações, reduzindo o risco de overffitting.\n",
    "\n",
    "Baseamos-nos nos seguintes data-sets:\n",
    "\n",
    "- [credit-g](https://www.openml.org/search?type=run&id=591&collections.id=99&run_task.task_id=31&sort=date)\n",
    "- [breast-w](https://www.openml.org/search?type=run&id=7413&collections.id=99&run_task.task_id=15)\n",
    "- [qsar-biodeg](https://www.openml.org/search?type=run&id=519587&collections.id=99&run_task.task_id=9957)"
   ]
  },
  {
   "cell_type": "markdown",
   "metadata": {},
   "source": [
    "## Alteração escolhida\n",
    "A alteração que o nosso grupo decidiu fazer no codigo fonte obtido foi a de considerar a utilização de outros tipos de critérios de divisão. O critério pré definido no nosso código fonte é o de entropia, por isso vamos testar com o gini e com o classification error."
   ]
  },
  {
   "cell_type": "markdown",
   "metadata": {
    "ExecuteTime": {
     "end_time": "2023-05-17T18:01:28.593025Z",
     "start_time": "2023-05-17T18:01:28.453152Z"
    }
   },
   "source": [
    "## Import das bibliotecas necessárias:"
   ],
   "outputs": [],
   "execution_count": 482
  },
  {
   "cell_type": "code",
   "execution_count": 61,
   "metadata": {
    "ExecuteTime": {
     "end_time": "2023-05-19T13:11:40.217979Z",
     "start_time": "2023-05-19T13:11:40.139377Z"
    }
   },
   "outputs": [],
   "source": [
    "from collections import Counter\n",
    "import numpy as np\n",
    "import pandas as pd\n",
    "import matplotlib.pyplot as plt\n",
    "import seaborn as sns\n",
    "from random import random\n",
    "\n",
    "from sklearn.ensemble import RandomForestClassifier as RF\n",
    "from sklearn.metrics import accuracy_score\n",
    "from sklearn.model_selection import train_test_split"
   ]
  },
  {
   "cell_type": "markdown",
   "source": [
    "## Modelo implementado, sem alteração"
   ],
   "metadata": {
    "collapsed": false
   }
  },
  {
   "cell_type": "code",
   "execution_count": 62,
   "outputs": [],
   "source": [
    "class DecisionTree:\n",
    "    def __init__(self, criterion, max_features=None):\n",
    "        self.criterion = criterion\n",
    "        self.max_features = max_features\n",
    "        self.tree = None\n",
    "\n",
    "    def fit(self, X, y):\n",
    "        self.tree = self._build_tree(X, y)\n",
    "\n",
    "    def _build_tree(self, X, y):\n",
    "        if len(np.unique(y)) == 1:\n",
    "            return {'class': y[0]}\n",
    "\n",
    "        if X.shape[1] <= self.max_features:\n",
    "            features = range(X.shape[1])\n",
    "        else:\n",
    "            features = np.random.choice(X.shape[1], self.max_features, replace=False)\n",
    "\n",
    "        best_split_feature = None\n",
    "        best_split_value = None\n",
    "        best_gain = -np.inf\n",
    "\n",
    "        for feature in features:\n",
    "            if np.issubdtype(X[:, feature].dtype, np.number):\n",
    "                unique_values = np.unique(X[:, feature])\n",
    "                for value in unique_values:\n",
    "                    left_indices = X[:, feature] <= value\n",
    "                    right_indices = X[:, feature] > value\n",
    "                    left_y = y[left_indices]\n",
    "                    right_y = y[right_indices]\n",
    "                    gain = self._compute_gain(y, left_y, right_y)\n",
    "                    if gain > best_gain:\n",
    "                        best_split_feature = feature\n",
    "                        best_split_value = value\n",
    "                        best_gain = gain\n",
    "            else:\n",
    "                unique_values = np.unique(X[:, feature])\n",
    "                for value in unique_values:\n",
    "                    indices = X[:, feature] == value\n",
    "                    subset_y = y[indices]\n",
    "                    gain = self._compute_gain(y, subset_y, subset_y)\n",
    "                    if gain > best_gain:\n",
    "                        best_split_feature = feature\n",
    "                        best_split_value = value\n",
    "                        best_gain = gain\n",
    "\n",
    "        if best_gain == 0:\n",
    "            return {'class': self._get_most_common_class(y)}\n",
    "\n",
    "        if np.issubdtype(X[:, best_split_feature].dtype, np.number):\n",
    "            left_indices = X[:, best_split_feature] <= best_split_value\n",
    "            right_indices = X[:, best_split_feature] > best_split_value\n",
    "            left_X, left_y = X[left_indices], y[left_indices]\n",
    "            right_X, right_y = X[right_indices], y[right_indices]\n",
    "        else:\n",
    "            left_indices = X[:, best_split_feature] == best_split_value\n",
    "            right_indices = X[:, best_split_feature] != best_split_value\n",
    "            left_X, left_y = X[left_indices], y[left_indices]\n",
    "            right_X, right_y = X[right_indices], y[right_indices]\n",
    "\n",
    "        node = {\n",
    "            'feature': best_split_feature,\n",
    "            'value': best_split_value,\n",
    "            'left': self._build_tree(left_X, left_y),\n",
    "            'right': self._build_tree(right_X, right_y)\n",
    "        }\n",
    "        return node\n",
    "\n",
    "    def _compute_gain(self, parent_y, left_y, right_y):\n",
    "        parent_score = self._compute_score(parent_y)\n",
    "        left_score = self._compute_score(left_y)\n",
    "        right_score = self._compute_score(right_y)\n",
    "        n = len(parent_y)\n",
    "        left_ratio = len(left_y) / n\n",
    "        right_ratio = len(right_y) / n\n",
    "        gain = parent_score - (left_ratio * left_score + right_ratio * right_score)\n",
    "        return gain\n",
    "\n",
    "    def _compute_score(self, y):\n",
    "        if self.criterion == \"gini\":\n",
    "            return self._compute_gini(y)\n",
    "        elif self.criterion == \"entropy\":\n",
    "            return self._compute_entropy(y)\n",
    "        elif self.criterion == \"log_loss\":\n",
    "            return self._compute_log_loss(y)\n",
    "        else:\n",
    "            raise ValueError(\"Invalid criterion specified.\")\n",
    "\n",
    "    def _compute_gini(self, y):\n",
    "        _, counts = np.unique(y, return_counts=True)\n",
    "        probabilities = counts / len(y)\n",
    "        gini = 1 - np.sum(probabilities ** 2)\n",
    "        return gini\n",
    "\n",
    "    def _compute_entropy(self, y):\n",
    "        _, counts = np.unique(y, return_counts=True)\n",
    "        probabilities = counts / len(y)\n",
    "        entropy = -np.sum(probabilities * np.log2(probabilities))\n",
    "        return entropy\n",
    "\n",
    "    def _compute_log_loss(self, y):\n",
    "        _, counts = np.unique(y, return_counts=True)\n",
    "        probabilities = counts / len(y)\n",
    "        log_loss = -np.sum(probabilities * np.log2(probabilities + 1e-10))\n",
    "        return log_loss\n",
    "\n",
    "    def _get_most_common_class(self, y):\n",
    "        _, counts = np.unique(y, return_counts=True)\n",
    "        most_common_index = np.argmax(counts)\n",
    "        return y[most_common_index]\n",
    "\n",
    "    def predict(self, X):\n",
    "        return np.array([self._traverse_tree(x, self.tree) for x in X])\n",
    "\n",
    "    def _traverse_tree(self, x, node):\n",
    "        if 'class' in node:\n",
    "            return node['class']\n",
    "\n",
    "        feature = node['feature']\n",
    "        value = node['value']\n",
    "        # if np.issubdtype(x[features].dtype, np.number): #FIXME: isto foi o que o chatgpt deu, eu tirei '[features]' e funcionou mas esta demorado e lento e nao dá um score bom\n",
    "\n",
    "        if np.issubdtype(x.dtype, np.number):\n",
    "            if x[feature] <= value:\n",
    "                return self._traverse_tree(x, node['left'])\n",
    "            else:\n",
    "                return self._traverse_tree(x, node['right'])\n",
    "        else:\n",
    "            if x[feature] == value:\n",
    "                return self._traverse_tree(x, node['left'])\n",
    "            else:\n",
    "                return self._traverse_tree(x, node['right'])\n"
   ],
   "metadata": {
    "collapsed": false,
    "ExecuteTime": {
     "end_time": "2023-05-19T13:11:40.219946Z",
     "start_time": "2023-05-19T13:11:40.152725Z"
    }
   }
  },
  {
   "cell_type": "code",
   "execution_count": 63,
   "outputs": [],
   "source": [
    "def best_criterion(X, y, criteria):\n",
    "    best_score = 0.0\n",
    "    crit = None\n",
    "    for criterion in criteria:\n",
    "        X_train, X_test, y_train, y_test = train_test_split(X, y,test_size=0.3, random_state=42)\n",
    "        tree = DecisionTree(criterion=criterion)\n",
    "        tree.fit(X_train, y_train)\n",
    "        y_pred = tree.predict(X_test)\n",
    "        score = accuracy_score(y, y_pred)\n",
    "        if score > best_score:\n",
    "            best_score = score\n",
    "            crit=criterion\n",
    "    return crit"
   ],
   "metadata": {
    "collapsed": false,
    "ExecuteTime": {
     "end_time": "2023-05-19T13:11:40.262405Z",
     "start_time": "2023-05-19T13:11:40.160623Z"
    }
   }
  },
  {
   "cell_type": "code",
   "execution_count": 193,
   "outputs": [],
   "source": [
    "class Custom_RF:\n",
    "    def __init__(self, n_estimators=100, max_features=None):\n",
    "        self.n_estimators = n_estimators\n",
    "        self.max_features = max_features\n",
    "        self.estimators = []\n",
    "\n",
    "    def fit(self, X, y):\n",
    "        self.estimators = []\n",
    "        num_features = X.shape[1]\n",
    "        self.max_features = self._get_max_features(num_features)\n",
    "\n",
    "        criteria = [\"gini\", \"entropy\",\"log_loss\"]\n",
    "\n",
    "        for _ in range(self.n_estimators):\n",
    "            tree = DecisionTree(best_criterion(X, y, criteria), self.max_features)\n",
    "            tree.fit(X, y)\n",
    "            self.estimators.append(tree)\n",
    "\n",
    "    def _get_best_criterion(self, X, y, criteria):\n",
    "        best_criterion = None\n",
    "        best_score = -np.inf\n",
    "\n",
    "        for criterion in criteria:\n",
    "            tree = DecisionTree(criterion, self.max_features)\n",
    "            score = tree.compute_score(y)\n",
    "            if score > best_score:\n",
    "                best_criterion = criterion\n",
    "                best_score = score\n",
    "\n",
    "        return best_criterion\n",
    "\n",
    "    def predict(self, X):\n",
    "        predictions = np.array([tree.predict(X) for tree in self.estimators])\n",
    "        return np.array([Counter(pred).most_common(1)[0][0] for pred in predictions.T])\n",
    "\n",
    "    def _get_max_features(self, num_features):\n",
    "        if self.max_features is None:\n",
    "            return num_features\n",
    "        elif isinstance(self.max_features, int):\n",
    "            return min(num_features, self.max_features)\n",
    "        elif isinstance(self.max_features, float):\n",
    "            return int(num_features * self.max_features)\n",
    "        else:\n",
    "            raise ValueError(\"Invalid value for max_features. Must be int or float.\")\n"
   ],
   "metadata": {
    "collapsed": false,
    "ExecuteTime": {
     "end_time": "2023-05-18T18:33:02.355619Z",
     "start_time": "2023-05-18T18:33:02.264534Z"
    }
   }
  },
  {
   "cell_type": "markdown",
   "metadata": {
    "ExecuteTime": {
     "end_time": "2023-05-19T13:11:40.262945Z",
     "start_time": "2023-05-19T13:11:40.165580Z"
    }
   },
   "source": [
    "## Testes para cada dataset"
   ],
   "outputs": [],
   "execution_count": 64
  },
  {
   "cell_type": "code",
   "execution_count": 194,
   "outputs": [],
   "source": [
    "def test_model(dataset, model):\n",
    "\n",
    "    X=dataset.iloc[:,1:-1].values\n",
    "    y=dataset.iloc[:,-1].values\n",
    "\n",
    "    X_train, X_test, y_train, y_test = train_test_split(X, y,test_size=0.3, random_state=42)\n",
    "\n",
    "    model.fit(X_train, y_train)\n",
    "\n",
    "    print(\"Accuracy:\", accuracy_score(y_test, model.predict(X_test)))"
   ],
   "metadata": {
    "collapsed": false,
    "ExecuteTime": {
     "end_time": "2023-05-18T18:33:02.355678Z",
     "start_time": "2023-05-18T18:33:02.267604Z"
    }
   }
  },
  {
   "cell_type": "markdown",
   "metadata": {
    "ExecuteTime": {
     "end_time": "2023-05-19T13:11:40.263803Z",
     "start_time": "2023-05-19T13:11:40.170019Z"
    }
   },
   "source": [
    "### DATASET 1 - Cancro da mama"
   ],
   "outputs": [
    {
     "data": {
      "text/plain": "   id  Clump_Thickness  Cell_Size_Uniformity  Cell_Shape_Uniformity  \\\n0   1                5                     1                      1   \n1   2                5                     4                      4   \n2   3                3                     1                      1   \n3   4                6                     8                      8   \n4   5                4                     1                      1   \n\n   Marginal_Adhesion  Single_Epi_Cell_Size Bare_Nuclei  Bland_Chromatin  \\\n0                  1                     2           1                3   \n1                  5                     7          10                3   \n2                  1                     2           2                3   \n3                  1                     3           4                3   \n4                  3                     2           1                3   \n\n   Normal_Nucleoli  Mitoses   Class  \n0                1        1  benign  \n1                2        1  benign  \n2                1        1  benign  \n3                7        1  benign  \n4                1        1  benign  ",
      "text/html": "<div>\n<style scoped>\n    .dataframe tbody tr th:only-of-type {\n        vertical-align: middle;\n    }\n\n    .dataframe tbody tr th {\n        vertical-align: top;\n    }\n\n    .dataframe thead th {\n        text-align: right;\n    }\n</style>\n<table border=\"1\" class=\"dataframe\">\n  <thead>\n    <tr style=\"text-align: right;\">\n      <th></th>\n      <th>id</th>\n      <th>Clump_Thickness</th>\n      <th>Cell_Size_Uniformity</th>\n      <th>Cell_Shape_Uniformity</th>\n      <th>Marginal_Adhesion</th>\n      <th>Single_Epi_Cell_Size</th>\n      <th>Bare_Nuclei</th>\n      <th>Bland_Chromatin</th>\n      <th>Normal_Nucleoli</th>\n      <th>Mitoses</th>\n      <th>Class</th>\n    </tr>\n  </thead>\n  <tbody>\n    <tr>\n      <th>0</th>\n      <td>1</td>\n      <td>5</td>\n      <td>1</td>\n      <td>1</td>\n      <td>1</td>\n      <td>2</td>\n      <td>1</td>\n      <td>3</td>\n      <td>1</td>\n      <td>1</td>\n      <td>benign</td>\n    </tr>\n    <tr>\n      <th>1</th>\n      <td>2</td>\n      <td>5</td>\n      <td>4</td>\n      <td>4</td>\n      <td>5</td>\n      <td>7</td>\n      <td>10</td>\n      <td>3</td>\n      <td>2</td>\n      <td>1</td>\n      <td>benign</td>\n    </tr>\n    <tr>\n      <th>2</th>\n      <td>3</td>\n      <td>3</td>\n      <td>1</td>\n      <td>1</td>\n      <td>1</td>\n      <td>2</td>\n      <td>2</td>\n      <td>3</td>\n      <td>1</td>\n      <td>1</td>\n      <td>benign</td>\n    </tr>\n    <tr>\n      <th>3</th>\n      <td>4</td>\n      <td>6</td>\n      <td>8</td>\n      <td>8</td>\n      <td>1</td>\n      <td>3</td>\n      <td>4</td>\n      <td>3</td>\n      <td>7</td>\n      <td>1</td>\n      <td>benign</td>\n    </tr>\n    <tr>\n      <th>4</th>\n      <td>5</td>\n      <td>4</td>\n      <td>1</td>\n      <td>1</td>\n      <td>3</td>\n      <td>2</td>\n      <td>1</td>\n      <td>3</td>\n      <td>1</td>\n      <td>1</td>\n      <td>benign</td>\n    </tr>\n  </tbody>\n</table>\n</div>"
     },
     "execution_count": 65,
     "metadata": {},
     "output_type": "execute_result"
    }
   ],
   "execution_count": 65
  },
  {
   "cell_type": "code",
   "execution_count": 66,
   "metadata": {
    "ExecuteTime": {
     "end_time": "2023-05-19T13:11:40.264896Z",
     "start_time": "2023-05-19T13:11:40.180620Z"
    }
   },
   "outputs": [
    {
     "data": {
      "text/plain": "   id  Clump_Thickness  Cell_Size_Uniformity  Cell_Shape_Uniformity  \\\n0   1                5                     1                      1   \n1   2                5                     4                      4   \n2   3                3                     1                      1   \n3   4                6                     8                      8   \n4   5                4                     1                      1   \n\n   Marginal_Adhesion  Single_Epi_Cell_Size Bare_Nuclei  Bland_Chromatin  \\\n0                  1                     2           1                3   \n1                  5                     7          10                3   \n2                  1                     2           2                3   \n3                  1                     3           4                3   \n4                  3                     2           1                3   \n\n   Normal_Nucleoli  Mitoses  Class  \n0                1        1      0  \n1                2        1      0  \n2                1        1      0  \n3                7        1      0  \n4                1        1      0  ",
      "text/html": "<div>\n<style scoped>\n    .dataframe tbody tr th:only-of-type {\n        vertical-align: middle;\n    }\n\n    .dataframe tbody tr th {\n        vertical-align: top;\n    }\n\n    .dataframe thead th {\n        text-align: right;\n    }\n</style>\n<table border=\"1\" class=\"dataframe\">\n  <thead>\n    <tr style=\"text-align: right;\">\n      <th></th>\n      <th>id</th>\n      <th>Clump_Thickness</th>\n      <th>Cell_Size_Uniformity</th>\n      <th>Cell_Shape_Uniformity</th>\n      <th>Marginal_Adhesion</th>\n      <th>Single_Epi_Cell_Size</th>\n      <th>Bare_Nuclei</th>\n      <th>Bland_Chromatin</th>\n      <th>Normal_Nucleoli</th>\n      <th>Mitoses</th>\n      <th>Class</th>\n    </tr>\n  </thead>\n  <tbody>\n    <tr>\n      <th>0</th>\n      <td>1</td>\n      <td>5</td>\n      <td>1</td>\n      <td>1</td>\n      <td>1</td>\n      <td>2</td>\n      <td>1</td>\n      <td>3</td>\n      <td>1</td>\n      <td>1</td>\n      <td>0</td>\n    </tr>\n    <tr>\n      <th>1</th>\n      <td>2</td>\n      <td>5</td>\n      <td>4</td>\n      <td>4</td>\n      <td>5</td>\n      <td>7</td>\n      <td>10</td>\n      <td>3</td>\n      <td>2</td>\n      <td>1</td>\n      <td>0</td>\n    </tr>\n    <tr>\n      <th>2</th>\n      <td>3</td>\n      <td>3</td>\n      <td>1</td>\n      <td>1</td>\n      <td>1</td>\n      <td>2</td>\n      <td>2</td>\n      <td>3</td>\n      <td>1</td>\n      <td>1</td>\n      <td>0</td>\n    </tr>\n    <tr>\n      <th>3</th>\n      <td>4</td>\n      <td>6</td>\n      <td>8</td>\n      <td>8</td>\n      <td>1</td>\n      <td>3</td>\n      <td>4</td>\n      <td>3</td>\n      <td>7</td>\n      <td>1</td>\n      <td>0</td>\n    </tr>\n    <tr>\n      <th>4</th>\n      <td>5</td>\n      <td>4</td>\n      <td>1</td>\n      <td>1</td>\n      <td>3</td>\n      <td>2</td>\n      <td>1</td>\n      <td>3</td>\n      <td>1</td>\n      <td>1</td>\n      <td>0</td>\n    </tr>\n  </tbody>\n</table>\n</div>"
     },
     "execution_count": 66,
     "metadata": {},
     "output_type": "execute_result"
    }
   ],
   "source": [
    "df = pd.read_csv('breast.csv')\n",
    "df.head()"
   ]
  },
  {
   "cell_type": "code",
   "execution_count": 196,
   "metadata": {
    "ExecuteTime": {
     "end_time": "2023-05-18T18:33:02.358177Z",
     "start_time": "2023-05-18T18:33:02.281940Z"
    }
   },
   "outputs": [
    {
     "data": {
      "text/plain": "   id  Clump_Thickness  Cell_Size_Uniformity  Cell_Shape_Uniformity  \\\n0   1                5                     1                      1   \n1   2                5                     4                      4   \n2   3                3                     1                      1   \n3   4                6                     8                      8   \n4   5                4                     1                      1   \n\n   Marginal_Adhesion  Single_Epi_Cell_Size Bare_Nuclei  Bland_Chromatin  \\\n0                  1                     2           1                3   \n1                  5                     7          10                3   \n2                  1                     2           2                3   \n3                  1                     3           4                3   \n4                  3                     2           1                3   \n\n   Normal_Nucleoli  Mitoses  Class  \n0                1        1      0  \n1                2        1      0  \n2                1        1      0  \n3                7        1      0  \n4                1        1      0  ",
      "text/html": "<div>\n<style scoped>\n    .dataframe tbody tr th:only-of-type {\n        vertical-align: middle;\n    }\n\n    .dataframe tbody tr th {\n        vertical-align: top;\n    }\n\n    .dataframe thead th {\n        text-align: right;\n    }\n</style>\n<table border=\"1\" class=\"dataframe\">\n  <thead>\n    <tr style=\"text-align: right;\">\n      <th></th>\n      <th>id</th>\n      <th>Clump_Thickness</th>\n      <th>Cell_Size_Uniformity</th>\n      <th>Cell_Shape_Uniformity</th>\n      <th>Marginal_Adhesion</th>\n      <th>Single_Epi_Cell_Size</th>\n      <th>Bare_Nuclei</th>\n      <th>Bland_Chromatin</th>\n      <th>Normal_Nucleoli</th>\n      <th>Mitoses</th>\n      <th>Class</th>\n    </tr>\n  </thead>\n  <tbody>\n    <tr>\n      <th>0</th>\n      <td>1</td>\n      <td>5</td>\n      <td>1</td>\n      <td>1</td>\n      <td>1</td>\n      <td>2</td>\n      <td>1</td>\n      <td>3</td>\n      <td>1</td>\n      <td>1</td>\n      <td>0</td>\n    </tr>\n    <tr>\n      <th>1</th>\n      <td>2</td>\n      <td>5</td>\n      <td>4</td>\n      <td>4</td>\n      <td>5</td>\n      <td>7</td>\n      <td>10</td>\n      <td>3</td>\n      <td>2</td>\n      <td>1</td>\n      <td>0</td>\n    </tr>\n    <tr>\n      <th>2</th>\n      <td>3</td>\n      <td>3</td>\n      <td>1</td>\n      <td>1</td>\n      <td>1</td>\n      <td>2</td>\n      <td>2</td>\n      <td>3</td>\n      <td>1</td>\n      <td>1</td>\n      <td>0</td>\n    </tr>\n    <tr>\n      <th>3</th>\n      <td>4</td>\n      <td>6</td>\n      <td>8</td>\n      <td>8</td>\n      <td>1</td>\n      <td>3</td>\n      <td>4</td>\n      <td>3</td>\n      <td>7</td>\n      <td>1</td>\n      <td>0</td>\n    </tr>\n    <tr>\n      <th>4</th>\n      <td>5</td>\n      <td>4</td>\n      <td>1</td>\n      <td>1</td>\n      <td>3</td>\n      <td>2</td>\n      <td>1</td>\n      <td>3</td>\n      <td>1</td>\n      <td>1</td>\n      <td>0</td>\n    </tr>\n  </tbody>\n</table>\n</div>"
     },
     "execution_count": 196,
     "metadata": {},
     "output_type": "execute_result"
    }
   ],
   "source": [
    "df['Class']=df['Class'].map({'benign': 0, 'malignant': 1})\n",
    "df['Bare_Nuclei'].replace('?', np.nan, inplace=True)\n",
    "df.dropna(subset=['Bare_Nuclei'], inplace=True)\n",
    "df.head()"
   ]
  },
  {
   "cell_type": "markdown",
   "metadata": {
    "ExecuteTime": {
     "end_time": "2023-05-19T13:11:40.276478Z",
     "start_time": "2023-05-19T13:11:40.188485Z"
    }
   },
   "source": [
    "#### Teste 1 - Random Forest (sklearn) com o critério default (gini)"
   ],
   "outputs": [
    {
     "name": "stdout",
     "output_type": "stream",
     "text": [
      "Accuracy: 0.9512195121951219\n"
     ]
    }
   ],
   "execution_count": 67
  },
  {
   "cell_type": "code",
   "execution_count": 197,
   "metadata": {
    "ExecuteTime": {
     "end_time": "2023-05-18T18:33:02.375300Z",
     "start_time": "2023-05-18T18:33:02.287564Z"
    }
   },
   "outputs": [
    {
     "name": "stdout",
     "output_type": "stream",
     "text": [
      "Accuracy: 0.9658536585365853\n"
     ]
    }
   ],
   "source": [
    "test_model(df, RF())"
   ]
  },
  {
   "cell_type": "markdown",
   "source": [
    "#### Teste 2 - Random Forest (sklearn) com o critério entropy"
   ],
   "metadata": {
    "collapsed": false,
    "ExecuteTime": {
     "end_time": "2023-05-19T13:11:40.417597Z",
     "start_time": "2023-05-19T13:11:40.257753Z"
    }
   },
   "outputs": [
    {
     "name": "stdout",
     "output_type": "stream",
     "text": [
      "Accuracy: 0.9609756097560975\n"
     ]
    }
   ],
   "execution_count": 68
  },
  {
   "cell_type": "code",
   "execution_count": 198,
   "outputs": [
    {
     "name": "stdout",
     "output_type": "stream",
     "text": [
      "Accuracy: 0.9560975609756097\n"
     ]
    }
   ],
   "source": [
    "test_model(df, RF(criterion='entropy'))"
   ],
   "metadata": {
    "collapsed": false,
    "ExecuteTime": {
     "end_time": "2023-05-18T18:33:02.459545Z",
     "start_time": "2023-05-18T18:33:02.355069Z"
    }
   }
  },
  {
   "cell_type": "markdown",
   "metadata": {
    "ExecuteTime": {
     "end_time": "2023-05-19T13:11:40.456269Z",
     "start_time": "2023-05-19T13:11:40.338457Z"
    }
   },
   "source": [
    "#### Teste 3 - Random Forest (sklearn) com o critério log_loss"
   ],
   "outputs": [
    {
     "name": "stdout",
     "output_type": "stream",
     "text": [
      "Accuracy: 0.9560975609756097\n"
     ]
    }
   ],
   "execution_count": 69
  },
  {
   "cell_type": "code",
   "execution_count": 199,
   "metadata": {
    "ExecuteTime": {
     "end_time": "2023-05-18T18:33:02.511898Z",
     "start_time": "2023-05-18T18:33:02.441106Z"
    }
   },
   "outputs": [
    {
     "name": "stdout",
     "output_type": "stream",
     "text": [
      "Accuracy: 0.9560975609756097\n"
     ]
    }
   ],
   "source": [
    "test_model(df, RF(criterion='log_loss'))"
   ]
  },
  {
   "cell_type": "markdown",
   "metadata": {
    "ExecuteTime": {
     "end_time": "2023-05-19T13:12:28.365277Z",
     "start_time": "2023-05-19T13:11:40.438519Z"
    }
   },
   "source": [
    "#### Teste 4 - Random Forest (Custom)"
   ],
   "outputs": [
    {
     "name": "stdout",
     "output_type": "stream",
     "text": [
      "Accuracy: 0.9609756097560975\n"
     ]
    }
   ],
   "execution_count": 70
  },
  {
   "cell_type": "code",
   "execution_count": 200,
   "metadata": {
    "ExecuteTime": {
     "end_time": "2023-05-18T18:33:02.558452Z",
     "start_time": "2023-05-18T18:33:02.538869Z"
    }
   },
   "outputs": [
    {
     "ename": "TypeError",
     "evalue": "'<=' not supported between instances of 'int' and 'NoneType'",
     "output_type": "error",
     "traceback": [
      "\u001B[0;31m---------------------------------------------------------------------------\u001B[0m",
      "\u001B[0;31mTypeError\u001B[0m                                 Traceback (most recent call last)",
      "Cell \u001B[0;32mIn[200], line 1\u001B[0m\n\u001B[0;32m----> 1\u001B[0m \u001B[43mtest_model\u001B[49m\u001B[43m(\u001B[49m\u001B[43mdf\u001B[49m\u001B[43m,\u001B[49m\u001B[43m \u001B[49m\u001B[43mCustom_RF\u001B[49m\u001B[43m(\u001B[49m\u001B[43m)\u001B[49m\u001B[43m)\u001B[49m\n",
      "Cell \u001B[0;32mIn[194], line 8\u001B[0m, in \u001B[0;36mtest_model\u001B[0;34m(dataset, model)\u001B[0m\n\u001B[1;32m      4\u001B[0m y\u001B[38;5;241m=\u001B[39mdataset\u001B[38;5;241m.\u001B[39miloc[:,\u001B[38;5;241m-\u001B[39m\u001B[38;5;241m1\u001B[39m]\u001B[38;5;241m.\u001B[39mvalues\n\u001B[1;32m      6\u001B[0m X_train, X_test, y_train, y_test \u001B[38;5;241m=\u001B[39m train_test_split(X, y,test_size\u001B[38;5;241m=\u001B[39m\u001B[38;5;241m0.3\u001B[39m, random_state\u001B[38;5;241m=\u001B[39m\u001B[38;5;241m42\u001B[39m)\n\u001B[0;32m----> 8\u001B[0m \u001B[43mmodel\u001B[49m\u001B[38;5;241;43m.\u001B[39;49m\u001B[43mfit\u001B[49m\u001B[43m(\u001B[49m\u001B[43mX_train\u001B[49m\u001B[43m,\u001B[49m\u001B[43m \u001B[49m\u001B[43my_train\u001B[49m\u001B[43m)\u001B[49m\n\u001B[1;32m     10\u001B[0m \u001B[38;5;28mprint\u001B[39m(\u001B[38;5;124m\"\u001B[39m\u001B[38;5;124mAccuracy:\u001B[39m\u001B[38;5;124m\"\u001B[39m, accuracy_score(y_test, model\u001B[38;5;241m.\u001B[39mpredict(X_test)))\n",
      "Cell \u001B[0;32mIn[193], line 15\u001B[0m, in \u001B[0;36mCustom_RF.fit\u001B[0;34m(self, X, y)\u001B[0m\n\u001B[1;32m     12\u001B[0m criteria \u001B[38;5;241m=\u001B[39m [\u001B[38;5;124m\"\u001B[39m\u001B[38;5;124mgini\u001B[39m\u001B[38;5;124m\"\u001B[39m, \u001B[38;5;124m\"\u001B[39m\u001B[38;5;124mentropy\u001B[39m\u001B[38;5;124m\"\u001B[39m,\u001B[38;5;124m\"\u001B[39m\u001B[38;5;124mlog_loss\u001B[39m\u001B[38;5;124m\"\u001B[39m]\n\u001B[1;32m     14\u001B[0m \u001B[38;5;28;01mfor\u001B[39;00m _ \u001B[38;5;129;01min\u001B[39;00m \u001B[38;5;28mrange\u001B[39m(\u001B[38;5;28mself\u001B[39m\u001B[38;5;241m.\u001B[39mn_estimators):\n\u001B[0;32m---> 15\u001B[0m     tree \u001B[38;5;241m=\u001B[39m DecisionTree(\u001B[43mbest_criterion\u001B[49m\u001B[43m(\u001B[49m\u001B[43mX\u001B[49m\u001B[43m,\u001B[49m\u001B[43m \u001B[49m\u001B[43my\u001B[49m\u001B[43m,\u001B[49m\u001B[43m \u001B[49m\u001B[43mcriteria\u001B[49m\u001B[43m)\u001B[49m, \u001B[38;5;28mself\u001B[39m\u001B[38;5;241m.\u001B[39mmax_features)\n\u001B[1;32m     16\u001B[0m     tree\u001B[38;5;241m.\u001B[39mfit(X, y)\n\u001B[1;32m     17\u001B[0m     \u001B[38;5;28mself\u001B[39m\u001B[38;5;241m.\u001B[39mestimators\u001B[38;5;241m.\u001B[39mappend(tree)\n",
      "Cell \u001B[0;32mIn[192], line 7\u001B[0m, in \u001B[0;36mbest_criterion\u001B[0;34m(X, y, criteria)\u001B[0m\n\u001B[1;32m      5\u001B[0m X_train, X_test, y_train, y_test \u001B[38;5;241m=\u001B[39m train_test_split(X, y,test_size\u001B[38;5;241m=\u001B[39m\u001B[38;5;241m0.3\u001B[39m, random_state\u001B[38;5;241m=\u001B[39m\u001B[38;5;241m42\u001B[39m)\n\u001B[1;32m      6\u001B[0m tree \u001B[38;5;241m=\u001B[39m DecisionTree(criterion\u001B[38;5;241m=\u001B[39mcriterion)\n\u001B[0;32m----> 7\u001B[0m \u001B[43mtree\u001B[49m\u001B[38;5;241;43m.\u001B[39;49m\u001B[43mfit\u001B[49m\u001B[43m(\u001B[49m\u001B[43mX_train\u001B[49m\u001B[43m,\u001B[49m\u001B[43m \u001B[49m\u001B[43my_train\u001B[49m\u001B[43m)\u001B[49m\n\u001B[1;32m      8\u001B[0m y_pred \u001B[38;5;241m=\u001B[39m tree\u001B[38;5;241m.\u001B[39mpredict(X_test)\n\u001B[1;32m      9\u001B[0m score \u001B[38;5;241m=\u001B[39m accuracy_score(y, y_pred)\n",
      "Cell \u001B[0;32mIn[191], line 8\u001B[0m, in \u001B[0;36mDecisionTree.fit\u001B[0;34m(self, X, y)\u001B[0m\n\u001B[1;32m      7\u001B[0m \u001B[38;5;28;01mdef\u001B[39;00m \u001B[38;5;21mfit\u001B[39m(\u001B[38;5;28mself\u001B[39m, X, y):\n\u001B[0;32m----> 8\u001B[0m     \u001B[38;5;28mself\u001B[39m\u001B[38;5;241m.\u001B[39mtree \u001B[38;5;241m=\u001B[39m \u001B[38;5;28;43mself\u001B[39;49m\u001B[38;5;241;43m.\u001B[39;49m\u001B[43m_build_tree\u001B[49m\u001B[43m(\u001B[49m\u001B[43mX\u001B[49m\u001B[43m,\u001B[49m\u001B[43m \u001B[49m\u001B[43my\u001B[49m\u001B[43m)\u001B[49m\n",
      "Cell \u001B[0;32mIn[191], line 14\u001B[0m, in \u001B[0;36mDecisionTree._build_tree\u001B[0;34m(self, X, y)\u001B[0m\n\u001B[1;32m     11\u001B[0m \u001B[38;5;28;01mif\u001B[39;00m \u001B[38;5;28mlen\u001B[39m(np\u001B[38;5;241m.\u001B[39munique(y)) \u001B[38;5;241m==\u001B[39m \u001B[38;5;241m1\u001B[39m:\n\u001B[1;32m     12\u001B[0m     \u001B[38;5;28;01mreturn\u001B[39;00m {\u001B[38;5;124m'\u001B[39m\u001B[38;5;124mclass\u001B[39m\u001B[38;5;124m'\u001B[39m: y[\u001B[38;5;241m0\u001B[39m]}\n\u001B[0;32m---> 14\u001B[0m \u001B[38;5;28;01mif\u001B[39;00m \u001B[43mX\u001B[49m\u001B[38;5;241;43m.\u001B[39;49m\u001B[43mshape\u001B[49m\u001B[43m[\u001B[49m\u001B[38;5;241;43m1\u001B[39;49m\u001B[43m]\u001B[49m\u001B[43m \u001B[49m\u001B[38;5;241;43m<\u001B[39;49m\u001B[38;5;241;43m=\u001B[39;49m\u001B[43m \u001B[49m\u001B[38;5;28;43mself\u001B[39;49m\u001B[38;5;241;43m.\u001B[39;49m\u001B[43mmax_features\u001B[49m:\n\u001B[1;32m     15\u001B[0m     features \u001B[38;5;241m=\u001B[39m \u001B[38;5;28mrange\u001B[39m(X\u001B[38;5;241m.\u001B[39mshape[\u001B[38;5;241m1\u001B[39m])\n\u001B[1;32m     16\u001B[0m \u001B[38;5;28;01melse\u001B[39;00m:\n",
      "\u001B[0;31mTypeError\u001B[0m: '<=' not supported between instances of 'int' and 'NoneType'"
     ]
    }
   ],
   "source": [
    "test_model(df, Custom_RF())"
   ]
  },
  {
   "cell_type": "markdown",
   "metadata": {
    "ExecuteTime": {
     "end_time": "2023-05-19T13:12:28.380452Z",
     "start_time": "2023-05-19T13:12:28.367676Z"
    }
   },
   "source": [
    "## Dataset 2 - Biodeg"
   ],
   "outputs": [
    {
     "data": {
      "text/plain": "   id     V1      V2  V3  V4  V5  V6  V7    V8  V9  ...  V33  V34  V35    V36  \\\n0   1  3.919  2.6909   0   0   0   0   0  31.4   2  ...    0    0    0  2.949   \n1   2  4.170  2.1144   0   0   0   0   0  30.8   1  ...    0    0    0  3.315   \n2   3  3.932  3.2512   0   0   0   0   0  26.7   2  ...    0    0    1  3.076   \n3   4  3.000  2.7098   0   0   0   0   0  20.0   0  ...    0    0    1  3.046   \n4   5  4.236  3.3944   0   0   0   0   0  29.4   2  ...    0    0    0  3.351   \n\n     V37  V38    V39  V40  V41  Class  \n0  1.591    0  7.253    0    0      2  \n1  1.967    0  7.257    0    0      2  \n2  2.417    0  7.601    0    0      2  \n3  5.000    0  6.690    0    0      2  \n4  2.405    0  8.003    0    0      2  \n\n[5 rows x 43 columns]",
      "text/html": "<div>\n<style scoped>\n    .dataframe tbody tr th:only-of-type {\n        vertical-align: middle;\n    }\n\n    .dataframe tbody tr th {\n        vertical-align: top;\n    }\n\n    .dataframe thead th {\n        text-align: right;\n    }\n</style>\n<table border=\"1\" class=\"dataframe\">\n  <thead>\n    <tr style=\"text-align: right;\">\n      <th></th>\n      <th>id</th>\n      <th>V1</th>\n      <th>V2</th>\n      <th>V3</th>\n      <th>V4</th>\n      <th>V5</th>\n      <th>V6</th>\n      <th>V7</th>\n      <th>V8</th>\n      <th>V9</th>\n      <th>...</th>\n      <th>V33</th>\n      <th>V34</th>\n      <th>V35</th>\n      <th>V36</th>\n      <th>V37</th>\n      <th>V38</th>\n      <th>V39</th>\n      <th>V40</th>\n      <th>V41</th>\n      <th>Class</th>\n    </tr>\n  </thead>\n  <tbody>\n    <tr>\n      <th>0</th>\n      <td>1</td>\n      <td>3.919</td>\n      <td>2.6909</td>\n      <td>0</td>\n      <td>0</td>\n      <td>0</td>\n      <td>0</td>\n      <td>0</td>\n      <td>31.4</td>\n      <td>2</td>\n      <td>...</td>\n      <td>0</td>\n      <td>0</td>\n      <td>0</td>\n      <td>2.949</td>\n      <td>1.591</td>\n      <td>0</td>\n      <td>7.253</td>\n      <td>0</td>\n      <td>0</td>\n      <td>2</td>\n    </tr>\n    <tr>\n      <th>1</th>\n      <td>2</td>\n      <td>4.170</td>\n      <td>2.1144</td>\n      <td>0</td>\n      <td>0</td>\n      <td>0</td>\n      <td>0</td>\n      <td>0</td>\n      <td>30.8</td>\n      <td>1</td>\n      <td>...</td>\n      <td>0</td>\n      <td>0</td>\n      <td>0</td>\n      <td>3.315</td>\n      <td>1.967</td>\n      <td>0</td>\n      <td>7.257</td>\n      <td>0</td>\n      <td>0</td>\n      <td>2</td>\n    </tr>\n    <tr>\n      <th>2</th>\n      <td>3</td>\n      <td>3.932</td>\n      <td>3.2512</td>\n      <td>0</td>\n      <td>0</td>\n      <td>0</td>\n      <td>0</td>\n      <td>0</td>\n      <td>26.7</td>\n      <td>2</td>\n      <td>...</td>\n      <td>0</td>\n      <td>0</td>\n      <td>1</td>\n      <td>3.076</td>\n      <td>2.417</td>\n      <td>0</td>\n      <td>7.601</td>\n      <td>0</td>\n      <td>0</td>\n      <td>2</td>\n    </tr>\n    <tr>\n      <th>3</th>\n      <td>4</td>\n      <td>3.000</td>\n      <td>2.7098</td>\n      <td>0</td>\n      <td>0</td>\n      <td>0</td>\n      <td>0</td>\n      <td>0</td>\n      <td>20.0</td>\n      <td>0</td>\n      <td>...</td>\n      <td>0</td>\n      <td>0</td>\n      <td>1</td>\n      <td>3.046</td>\n      <td>5.000</td>\n      <td>0</td>\n      <td>6.690</td>\n      <td>0</td>\n      <td>0</td>\n      <td>2</td>\n    </tr>\n    <tr>\n      <th>4</th>\n      <td>5</td>\n      <td>4.236</td>\n      <td>3.3944</td>\n      <td>0</td>\n      <td>0</td>\n      <td>0</td>\n      <td>0</td>\n      <td>0</td>\n      <td>29.4</td>\n      <td>2</td>\n      <td>...</td>\n      <td>0</td>\n      <td>0</td>\n      <td>0</td>\n      <td>3.351</td>\n      <td>2.405</td>\n      <td>0</td>\n      <td>8.003</td>\n      <td>0</td>\n      <td>0</td>\n      <td>2</td>\n    </tr>\n  </tbody>\n</table>\n<p>5 rows × 43 columns</p>\n</div>"
     },
     "execution_count": 71,
     "metadata": {},
     "output_type": "execute_result"
    }
   ],
   "execution_count": 71
  },
  {
   "cell_type": "code",
   "execution_count": null,
   "metadata": {
    "ExecuteTime": {
     "start_time": "2023-05-18T18:33:02.542923Z"
    }
   },
   "outputs": [],
   "source": [
    "df = pd.read_csv('biodeg.csv')\n",
    "df.head()"
   ]
  },
  {
   "cell_type": "markdown",
   "source": [
    "#### Teste 1 - Random Forest (sklearn) com o critério default (gini)\n"
   ],
   "metadata": {
    "collapsed": false,
    "ExecuteTime": {
     "end_time": "2023-05-19T13:12:28.552793Z",
     "start_time": "2023-05-19T13:12:28.380680Z"
    }
   },
   "outputs": [
    {
     "name": "stdout",
     "output_type": "stream",
     "text": [
      "Accuracy: 0.8769716088328076\n"
     ]
    }
   ],
   "execution_count": 72
  },
  {
   "cell_type": "code",
   "execution_count": null,
   "metadata": {
    "ExecuteTime": {
     "start_time": "2023-05-18T18:33:02.551549Z"
    }
   },
   "outputs": [],
   "source": [
    "test_model(df, RF())\n"
   ]
  },
  {
   "cell_type": "markdown",
   "source": [
    "#### Teste 2 - Random Forest (sklearn) com o critério entropy"
   ],
   "metadata": {
    "collapsed": false,
    "ExecuteTime": {
     "end_time": "2023-05-19T13:12:28.663841Z",
     "start_time": "2023-05-19T13:12:28.521879Z"
    }
   },
   "outputs": [
    {
     "name": "stdout",
     "output_type": "stream",
     "text": [
      "Accuracy: 0.8706624605678234\n"
     ]
    }
   ],
   "execution_count": 73
  },
  {
   "cell_type": "code",
   "execution_count": null,
   "outputs": [],
   "source": [
    "test_model(df, RF(criterion='entropy'))"
   ],
   "metadata": {
    "collapsed": false,
    "ExecuteTime": {
     "start_time": "2023-05-18T18:33:02.551935Z"
    }
   }
  },
  {
   "cell_type": "markdown",
   "source": [
    "#### Teste 3 - Random Forest (sklearn) com o critério log_loss"
   ],
   "metadata": {
    "collapsed": false,
    "ExecuteTime": {
     "end_time": "2023-05-19T13:12:28.799656Z",
     "start_time": "2023-05-19T13:12:28.664225Z"
    }
   },
   "outputs": [
    {
     "name": "stdout",
     "output_type": "stream",
     "text": [
      "Accuracy: 0.8643533123028391\n"
     ]
    }
   ],
   "execution_count": 74
  },
  {
   "cell_type": "code",
   "execution_count": null,
   "outputs": [],
   "source": [
    "test_model(df, RF(criterion='log_loss'))"
   ],
   "metadata": {
    "collapsed": false,
    "ExecuteTime": {
     "start_time": "2023-05-18T18:33:02.552013Z"
    }
   }
  },
  {
   "cell_type": "markdown",
   "source": [
    "#### Teste 4 - Random Forest (Custom)"
   ],
   "metadata": {
    "collapsed": false,
    "is_executing": true,
    "ExecuteTime": {
     "start_time": "2023-05-19T13:12:28.795769Z"
    }
   },
   "outputs": []
  },
  {
   "cell_type": "code",
   "execution_count": null,
   "outputs": [],
   "source": [
    "test_model(df, Custom_RF())"
   ],
   "metadata": {
    "collapsed": false,
    "ExecuteTime": {
     "start_time": "2023-05-18T18:33:02.552087Z"
    }
   }
  },
  {
   "cell_type": "markdown",
   "source": [
    "## Dataset 2 - Diabetes"
   ],
   "metadata": {
    "collapsed": false,
    "is_executing": true
   },
   "outputs": []
  },
  {
   "cell_type": "code",
   "execution_count": null,
   "outputs": [],
   "source": [
    "df = pd.read_csv('diabetes.csv')\n",
    "df.head()"
   ],
   "metadata": {
    "collapsed": false,
    "is_executing": true
   }
  },
  {
   "cell_type": "code",
   "execution_count": null,
   "outputs": [],
   "source": [
    "df[\"'class'\"]=df[\"'class'\"].map({'tested_positive': 0, 'tested_negative': 1})\n",
    "df.head()"
   ],
   "metadata": {
    "collapsed": false,
    "ExecuteTime": {
     "start_time": "2023-05-18T18:33:02.552220Z"
    }
   }
  },
  {
   "cell_type": "markdown",
   "source": [
    "#### Teste 1 - Random Forest (sklearn) com o critério default (gini)\n"
   ],
   "metadata": {
    "collapsed": false,
    "is_executing": true
   },
   "outputs": []
  },
  {
   "cell_type": "code",
   "execution_count": null,
   "outputs": [],
   "source": [
    "test_model(df, RF())"
   ],
   "metadata": {
    "collapsed": false,
    "ExecuteTime": {
     "start_time": "2023-05-18T18:33:02.552280Z"
    }
   }
  },
  {
   "cell_type": "markdown",
   "source": [
    "#### Teste 2 - Random Forest (sklearn) com o critério entropy\n"
   ],
   "metadata": {
    "collapsed": false,
    "is_executing": true
   },
   "outputs": []
  },
  {
   "cell_type": "code",
   "execution_count": null,
   "outputs": [],
   "source": [
    "test_model(df, RF(criterion='entropy'))\n"
   ],
   "metadata": {
    "collapsed": false,
    "ExecuteTime": {
     "start_time": "2023-05-18T18:33:02.552350Z"
    }
   }
  },
  {
   "cell_type": "markdown",
   "source": [
    "#### Teste 3 - Random Forest (sklearn) com o critério log_loss\n"
   ],
   "metadata": {
    "collapsed": false,
    "is_executing": true
   },
   "outputs": []
  },
  {
   "cell_type": "code",
   "execution_count": null,
   "outputs": [],
   "source": [
    "test_model(df, RF(criterion='log_loss'))\n"
   ],
   "metadata": {
    "collapsed": false,
    "ExecuteTime": {
     "start_time": "2023-05-18T18:33:02.552430Z"
    }
   }
  },
  {
   "cell_type": "markdown",
   "source": [
    "#### Teste 4 - Random Forest (Custom)\n"
   ],
   "metadata": {
    "collapsed": false,
    "is_executing": true
   },
   "outputs": []
  },
  {
   "cell_type": "code",
   "execution_count": null,
   "outputs": [],
   "source": [
    "test_model(df, Custom_RF())"
   ],
   "metadata": {
    "collapsed": false,
    "is_executing": true
   }
  },
  {
   "cell_type": "code",
   "execution_count": null,
   "outputs": [],
   "source": [],
   "metadata": {
    "collapsed": false,
    "is_executing": true
   }
  },
  {
   "cell_type": "code",
   "execution_count": null,
   "outputs": [],
   "source": [],
   "metadata": {
    "collapsed": false,
    "ExecuteTime": {
     "start_time": "2023-05-18T18:33:02.553563Z"
    }
   }
  }
 ],
 "metadata": {
  "kernelspec": {
   "display_name": "Python 3 (ipykernel)",
   "language": "python",
   "name": "python3"
  },
  "language_info": {
   "codemirror_mode": {
    "name": "ipython",
    "version": 3
   },
   "file_extension": ".py",
   "mimetype": "text/x-python",
   "name": "python",
   "nbconvert_exporter": "python",
   "pygments_lexer": "ipython3",
   "version": "3.10.9"
  }
 },
 "nbformat": 4,
 "nbformat_minor": 1
}
