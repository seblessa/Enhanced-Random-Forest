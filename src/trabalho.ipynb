{
 "cells": [
  {
   "cell_type": "markdown",
   "source": [
    "# Trabalho prático AC"
   ],
   "metadata": {
    "collapsed": false
   }
  },
  {
   "cell_type": "markdown",
   "source": [
    "## Trabalho realizado por:\n",
    "\n",
    "Margarida Vila-chã, 20210504\n",
    "\n",
    "Miguel Duarte Silva, 20210504\n",
    "\n",
    "Sebastião Lessa, 202103238\n"
   ],
   "metadata": {
    "collapsed": false
   }
  },
  {
   "cell_type": "markdown",
   "source": [
    "## Algoritmo escolhido e breve explicação:\n",
    "\n",
    "O algoritmo escolhido pelo nosso grupo foi o Random Forrest.\n",
    "\n",
    "Este algoritmo é um algoritmo de aprendizagem computacional supervisionado. Ele usa uma combinação de árvores de decisão aleatórias. O processo começa com a criação de um grande número de árvores (floresta), em que cada uma das árvores criadas é treinada com uma amostra diferente. Isto permite a criação de árvores suficientemente diferentes, o que leva a que elas juntas consigam lidar com uma ampla variedade de situações, reduzindo o risco de overffitting.\n",
    "\n",
    "Baseamos-nos nos seguintes testes:\n",
    "\n",
    "credit-g:\n",
    "- https://www.openml.org/search?type=run&id=591&collections.id=99&run_task.task_id=31&sort=date\n",
    "spam base:\n",
    "- https://www.openml.org/search?type=run&id=6785&collections.id=99&run_task.task_id=43\n",
    "\n",
    "\n"
   ],
   "metadata": {
    "collapsed": false
   }
  },
  {
   "cell_type": "markdown",
   "source": [
    "## Importação das bibliotecas necessárias:"
   ],
   "metadata": {
    "collapsed": false
   }
  },
  {
   "cell_type": "code",
   "execution_count": 5,
   "metadata": {
    "collapsed": true,
    "ExecuteTime": {
     "end_time": "2023-05-04T16:22:13.227593Z",
     "start_time": "2023-05-04T16:22:13.222698Z"
    }
   },
   "outputs": [],
   "source": [
    "import pandas as pd\n",
    "from scipy.io import arff\n"
   ]
  },
  {
   "cell_type": "code",
   "execution_count": 6,
   "outputs": [
    {
     "data": {
      "text/plain": "    checking_status  duration                     credit_history  \\\n0             b'<0'       6.0  b'critical/other existing credit'   \n1       b'0<=X<200'      48.0                   b'existing paid'   \n2    b'no checking'      12.0  b'critical/other existing credit'   \n3             b'<0'      42.0                   b'existing paid'   \n4             b'<0'      24.0              b'delayed previously'   \n..              ...       ...                                ...   \n995  b'no checking'      12.0                   b'existing paid'   \n996           b'<0'      30.0                   b'existing paid'   \n997  b'no checking'      12.0                   b'existing paid'   \n998           b'<0'      45.0                   b'existing paid'   \n999     b'0<=X<200'      45.0  b'critical/other existing credit'   \n\n                    purpose  credit_amount       savings_status  \\\n0               b'radio/tv'         1169.0  b'no known savings'   \n1               b'radio/tv'         5951.0              b'<100'   \n2              b'education'         2096.0              b'<100'   \n3    b'furniture/equipment'         7882.0              b'<100'   \n4                b'new car'         4870.0              b'<100'   \n..                      ...            ...                  ...   \n995  b'furniture/equipment'         1736.0              b'<100'   \n996             b'used car'         3857.0              b'<100'   \n997             b'radio/tv'          804.0              b'<100'   \n998             b'radio/tv'         1845.0              b'<100'   \n999             b'used car'         4576.0        b'100<=X<500'   \n\n        employment  installment_commitment        personal_status  \\\n0           b'>=7'                     4.0         b'male single'   \n1        b'1<=X<4'                     2.0  b'female div/dep/mar'   \n2        b'4<=X<7'                     2.0         b'male single'   \n3        b'4<=X<7'                     2.0         b'male single'   \n4        b'1<=X<4'                     3.0         b'male single'   \n..             ...                     ...                    ...   \n995      b'4<=X<7'                     3.0  b'female div/dep/mar'   \n996      b'1<=X<4'                     4.0        b'male div/sep'   \n997         b'>=7'                     4.0         b'male single'   \n998      b'1<=X<4'                     4.0         b'male single'   \n999  b'unemployed'                     3.0         b'male single'   \n\n    other_parties  ...    property_magnitude   age  other_payment_plans  \\\n0         b'none'  ...        b'real estate'  67.0              b'none'   \n1         b'none'  ...        b'real estate'  22.0              b'none'   \n2         b'none'  ...        b'real estate'  49.0              b'none'   \n3    b'guarantor'  ...     b'life insurance'  45.0              b'none'   \n4         b'none'  ...  b'no known property'  53.0              b'none'   \n..            ...  ...                   ...   ...                  ...   \n995       b'none'  ...        b'real estate'  31.0              b'none'   \n996       b'none'  ...     b'life insurance'  40.0              b'none'   \n997       b'none'  ...                b'car'  38.0              b'none'   \n998       b'none'  ...  b'no known property'  23.0              b'none'   \n999       b'none'  ...                b'car'  27.0              b'none'   \n\n         housing existing_credits                           job  \\\n0         b'own'              2.0                    b'skilled'   \n1         b'own'              1.0                    b'skilled'   \n2         b'own'              1.0         b'unskilled resident'   \n3    b'for free'              1.0                    b'skilled'   \n4    b'for free'              2.0                    b'skilled'   \n..           ...              ...                           ...   \n995       b'own'              1.0         b'unskilled resident'   \n996       b'own'              1.0  b'high qualif/self emp/mgmt'   \n997       b'own'              1.0                    b'skilled'   \n998  b'for free'              1.0                    b'skilled'   \n999       b'own'              1.0                    b'skilled'   \n\n    num_dependents  own_telephone foreign_worker    class  \n0              1.0         b'yes'         b'yes'  b'good'  \n1              1.0        b'none'         b'yes'   b'bad'  \n2              2.0        b'none'         b'yes'  b'good'  \n3              2.0        b'none'         b'yes'  b'good'  \n4              2.0        b'none'         b'yes'   b'bad'  \n..             ...            ...            ...      ...  \n995            1.0        b'none'         b'yes'  b'good'  \n996            1.0         b'yes'         b'yes'  b'good'  \n997            1.0        b'none'         b'yes'  b'good'  \n998            1.0         b'yes'         b'yes'   b'bad'  \n999            1.0        b'none'         b'yes'  b'good'  \n\n[1000 rows x 21 columns]",
      "text/html": "<div>\n<style scoped>\n    .dataframe tbody tr th:only-of-type {\n        vertical-align: middle;\n    }\n\n    .dataframe tbody tr th {\n        vertical-align: top;\n    }\n\n    .dataframe thead th {\n        text-align: right;\n    }\n</style>\n<table border=\"1\" class=\"dataframe\">\n  <thead>\n    <tr style=\"text-align: right;\">\n      <th></th>\n      <th>checking_status</th>\n      <th>duration</th>\n      <th>credit_history</th>\n      <th>purpose</th>\n      <th>credit_amount</th>\n      <th>savings_status</th>\n      <th>employment</th>\n      <th>installment_commitment</th>\n      <th>personal_status</th>\n      <th>other_parties</th>\n      <th>...</th>\n      <th>property_magnitude</th>\n      <th>age</th>\n      <th>other_payment_plans</th>\n      <th>housing</th>\n      <th>existing_credits</th>\n      <th>job</th>\n      <th>num_dependents</th>\n      <th>own_telephone</th>\n      <th>foreign_worker</th>\n      <th>class</th>\n    </tr>\n  </thead>\n  <tbody>\n    <tr>\n      <th>0</th>\n      <td>b'&lt;0'</td>\n      <td>6.0</td>\n      <td>b'critical/other existing credit'</td>\n      <td>b'radio/tv'</td>\n      <td>1169.0</td>\n      <td>b'no known savings'</td>\n      <td>b'&gt;=7'</td>\n      <td>4.0</td>\n      <td>b'male single'</td>\n      <td>b'none'</td>\n      <td>...</td>\n      <td>b'real estate'</td>\n      <td>67.0</td>\n      <td>b'none'</td>\n      <td>b'own'</td>\n      <td>2.0</td>\n      <td>b'skilled'</td>\n      <td>1.0</td>\n      <td>b'yes'</td>\n      <td>b'yes'</td>\n      <td>b'good'</td>\n    </tr>\n    <tr>\n      <th>1</th>\n      <td>b'0&lt;=X&lt;200'</td>\n      <td>48.0</td>\n      <td>b'existing paid'</td>\n      <td>b'radio/tv'</td>\n      <td>5951.0</td>\n      <td>b'&lt;100'</td>\n      <td>b'1&lt;=X&lt;4'</td>\n      <td>2.0</td>\n      <td>b'female div/dep/mar'</td>\n      <td>b'none'</td>\n      <td>...</td>\n      <td>b'real estate'</td>\n      <td>22.0</td>\n      <td>b'none'</td>\n      <td>b'own'</td>\n      <td>1.0</td>\n      <td>b'skilled'</td>\n      <td>1.0</td>\n      <td>b'none'</td>\n      <td>b'yes'</td>\n      <td>b'bad'</td>\n    </tr>\n    <tr>\n      <th>2</th>\n      <td>b'no checking'</td>\n      <td>12.0</td>\n      <td>b'critical/other existing credit'</td>\n      <td>b'education'</td>\n      <td>2096.0</td>\n      <td>b'&lt;100'</td>\n      <td>b'4&lt;=X&lt;7'</td>\n      <td>2.0</td>\n      <td>b'male single'</td>\n      <td>b'none'</td>\n      <td>...</td>\n      <td>b'real estate'</td>\n      <td>49.0</td>\n      <td>b'none'</td>\n      <td>b'own'</td>\n      <td>1.0</td>\n      <td>b'unskilled resident'</td>\n      <td>2.0</td>\n      <td>b'none'</td>\n      <td>b'yes'</td>\n      <td>b'good'</td>\n    </tr>\n    <tr>\n      <th>3</th>\n      <td>b'&lt;0'</td>\n      <td>42.0</td>\n      <td>b'existing paid'</td>\n      <td>b'furniture/equipment'</td>\n      <td>7882.0</td>\n      <td>b'&lt;100'</td>\n      <td>b'4&lt;=X&lt;7'</td>\n      <td>2.0</td>\n      <td>b'male single'</td>\n      <td>b'guarantor'</td>\n      <td>...</td>\n      <td>b'life insurance'</td>\n      <td>45.0</td>\n      <td>b'none'</td>\n      <td>b'for free'</td>\n      <td>1.0</td>\n      <td>b'skilled'</td>\n      <td>2.0</td>\n      <td>b'none'</td>\n      <td>b'yes'</td>\n      <td>b'good'</td>\n    </tr>\n    <tr>\n      <th>4</th>\n      <td>b'&lt;0'</td>\n      <td>24.0</td>\n      <td>b'delayed previously'</td>\n      <td>b'new car'</td>\n      <td>4870.0</td>\n      <td>b'&lt;100'</td>\n      <td>b'1&lt;=X&lt;4'</td>\n      <td>3.0</td>\n      <td>b'male single'</td>\n      <td>b'none'</td>\n      <td>...</td>\n      <td>b'no known property'</td>\n      <td>53.0</td>\n      <td>b'none'</td>\n      <td>b'for free'</td>\n      <td>2.0</td>\n      <td>b'skilled'</td>\n      <td>2.0</td>\n      <td>b'none'</td>\n      <td>b'yes'</td>\n      <td>b'bad'</td>\n    </tr>\n    <tr>\n      <th>...</th>\n      <td>...</td>\n      <td>...</td>\n      <td>...</td>\n      <td>...</td>\n      <td>...</td>\n      <td>...</td>\n      <td>...</td>\n      <td>...</td>\n      <td>...</td>\n      <td>...</td>\n      <td>...</td>\n      <td>...</td>\n      <td>...</td>\n      <td>...</td>\n      <td>...</td>\n      <td>...</td>\n      <td>...</td>\n      <td>...</td>\n      <td>...</td>\n      <td>...</td>\n      <td>...</td>\n    </tr>\n    <tr>\n      <th>995</th>\n      <td>b'no checking'</td>\n      <td>12.0</td>\n      <td>b'existing paid'</td>\n      <td>b'furniture/equipment'</td>\n      <td>1736.0</td>\n      <td>b'&lt;100'</td>\n      <td>b'4&lt;=X&lt;7'</td>\n      <td>3.0</td>\n      <td>b'female div/dep/mar'</td>\n      <td>b'none'</td>\n      <td>...</td>\n      <td>b'real estate'</td>\n      <td>31.0</td>\n      <td>b'none'</td>\n      <td>b'own'</td>\n      <td>1.0</td>\n      <td>b'unskilled resident'</td>\n      <td>1.0</td>\n      <td>b'none'</td>\n      <td>b'yes'</td>\n      <td>b'good'</td>\n    </tr>\n    <tr>\n      <th>996</th>\n      <td>b'&lt;0'</td>\n      <td>30.0</td>\n      <td>b'existing paid'</td>\n      <td>b'used car'</td>\n      <td>3857.0</td>\n      <td>b'&lt;100'</td>\n      <td>b'1&lt;=X&lt;4'</td>\n      <td>4.0</td>\n      <td>b'male div/sep'</td>\n      <td>b'none'</td>\n      <td>...</td>\n      <td>b'life insurance'</td>\n      <td>40.0</td>\n      <td>b'none'</td>\n      <td>b'own'</td>\n      <td>1.0</td>\n      <td>b'high qualif/self emp/mgmt'</td>\n      <td>1.0</td>\n      <td>b'yes'</td>\n      <td>b'yes'</td>\n      <td>b'good'</td>\n    </tr>\n    <tr>\n      <th>997</th>\n      <td>b'no checking'</td>\n      <td>12.0</td>\n      <td>b'existing paid'</td>\n      <td>b'radio/tv'</td>\n      <td>804.0</td>\n      <td>b'&lt;100'</td>\n      <td>b'&gt;=7'</td>\n      <td>4.0</td>\n      <td>b'male single'</td>\n      <td>b'none'</td>\n      <td>...</td>\n      <td>b'car'</td>\n      <td>38.0</td>\n      <td>b'none'</td>\n      <td>b'own'</td>\n      <td>1.0</td>\n      <td>b'skilled'</td>\n      <td>1.0</td>\n      <td>b'none'</td>\n      <td>b'yes'</td>\n      <td>b'good'</td>\n    </tr>\n    <tr>\n      <th>998</th>\n      <td>b'&lt;0'</td>\n      <td>45.0</td>\n      <td>b'existing paid'</td>\n      <td>b'radio/tv'</td>\n      <td>1845.0</td>\n      <td>b'&lt;100'</td>\n      <td>b'1&lt;=X&lt;4'</td>\n      <td>4.0</td>\n      <td>b'male single'</td>\n      <td>b'none'</td>\n      <td>...</td>\n      <td>b'no known property'</td>\n      <td>23.0</td>\n      <td>b'none'</td>\n      <td>b'for free'</td>\n      <td>1.0</td>\n      <td>b'skilled'</td>\n      <td>1.0</td>\n      <td>b'yes'</td>\n      <td>b'yes'</td>\n      <td>b'bad'</td>\n    </tr>\n    <tr>\n      <th>999</th>\n      <td>b'0&lt;=X&lt;200'</td>\n      <td>45.0</td>\n      <td>b'critical/other existing credit'</td>\n      <td>b'used car'</td>\n      <td>4576.0</td>\n      <td>b'100&lt;=X&lt;500'</td>\n      <td>b'unemployed'</td>\n      <td>3.0</td>\n      <td>b'male single'</td>\n      <td>b'none'</td>\n      <td>...</td>\n      <td>b'car'</td>\n      <td>27.0</td>\n      <td>b'none'</td>\n      <td>b'own'</td>\n      <td>1.0</td>\n      <td>b'skilled'</td>\n      <td>1.0</td>\n      <td>b'none'</td>\n      <td>b'yes'</td>\n      <td>b'good'</td>\n    </tr>\n  </tbody>\n</table>\n<p>1000 rows × 21 columns</p>\n</div>"
     },
     "execution_count": 6,
     "metadata": {},
     "output_type": "execute_result"
    }
   ],
   "source": [
    "credit = pd.DataFrame(arff.loadarff('datasets/credit-g.arff')[0])\n",
    "credit"
   ],
   "metadata": {
    "collapsed": false,
    "ExecuteTime": {
     "end_time": "2023-05-04T16:22:13.267639Z",
     "start_time": "2023-05-04T16:22:13.228783Z"
    }
   }
  },
  {
   "cell_type": "code",
   "execution_count": 7,
   "outputs": [
    {
     "data": {
      "text/plain": "      word_freq_make  word_freq_address  word_freq_all  word_freq_3d  \\\n0               0.00               0.64           0.64           0.0   \n1               0.21               0.28           0.50           0.0   \n2               0.06               0.00           0.71           0.0   \n3               0.00               0.00           0.00           0.0   \n4               0.00               0.00           0.00           0.0   \n...              ...                ...            ...           ...   \n4596            0.31               0.00           0.62           0.0   \n4597            0.00               0.00           0.00           0.0   \n4598            0.30               0.00           0.30           0.0   \n4599            0.96               0.00           0.00           0.0   \n4600            0.00               0.00           0.65           0.0   \n\n      word_freq_our  word_freq_over  word_freq_remove  word_freq_internet  \\\n0              0.32            0.00              0.00                0.00   \n1              0.14            0.28              0.21                0.07   \n2              1.23            0.19              0.19                0.12   \n3              0.63            0.00              0.31                0.63   \n4              0.63            0.00              0.31                0.63   \n...             ...             ...               ...                 ...   \n4596           0.00            0.31              0.00                0.00   \n4597           0.00            0.00              0.00                0.00   \n4598           0.00            0.00              0.00                0.00   \n4599           0.32            0.00              0.00                0.00   \n4600           0.00            0.00              0.00                0.00   \n\n      word_freq_order  word_freq_mail  ...  char_freq_%3B  char_freq_%28  \\\n0                0.00            0.00  ...          0.000          0.000   \n1                0.00            0.94  ...          0.000          0.132   \n2                0.64            0.25  ...          0.010          0.143   \n3                0.31            0.63  ...          0.000          0.137   \n4                0.31            0.63  ...          0.000          0.135   \n...               ...             ...  ...            ...            ...   \n4596             0.00            0.00  ...          0.000          0.232   \n4597             0.00            0.00  ...          0.000          0.000   \n4598             0.00            0.00  ...          0.102          0.718   \n4599             0.00            0.00  ...          0.000          0.057   \n4600             0.00            0.00  ...          0.000          0.000   \n\n      char_freq_%5B  char_freq_%21  char_freq_%24  char_freq_%23  \\\n0               0.0          0.778          0.000          0.000   \n1               0.0          0.372          0.180          0.048   \n2               0.0          0.276          0.184          0.010   \n3               0.0          0.137          0.000          0.000   \n4               0.0          0.135          0.000          0.000   \n...             ...            ...            ...            ...   \n4596            0.0          0.000          0.000          0.000   \n4597            0.0          0.353          0.000          0.000   \n4598            0.0          0.000          0.000          0.000   \n4599            0.0          0.000          0.000          0.000   \n4600            0.0          0.125          0.000          0.000   \n\n      capital_run_length_average  capital_run_length_longest  \\\n0                          3.756                        61.0   \n1                          5.114                       101.0   \n2                          9.821                       485.0   \n3                          3.537                        40.0   \n4                          3.537                        40.0   \n...                          ...                         ...   \n4596                       1.142                         3.0   \n4597                       1.555                         4.0   \n4598                       1.404                         6.0   \n4599                       1.147                         5.0   \n4600                       1.250                         5.0   \n\n      capital_run_length_total  class  \n0                        278.0   b'1'  \n1                       1028.0   b'1'  \n2                       2259.0   b'1'  \n3                        191.0   b'1'  \n4                        191.0   b'1'  \n...                        ...    ...  \n4596                      88.0   b'0'  \n4597                      14.0   b'0'  \n4598                     118.0   b'0'  \n4599                      78.0   b'0'  \n4600                      40.0   b'0'  \n\n[4601 rows x 58 columns]",
      "text/html": "<div>\n<style scoped>\n    .dataframe tbody tr th:only-of-type {\n        vertical-align: middle;\n    }\n\n    .dataframe tbody tr th {\n        vertical-align: top;\n    }\n\n    .dataframe thead th {\n        text-align: right;\n    }\n</style>\n<table border=\"1\" class=\"dataframe\">\n  <thead>\n    <tr style=\"text-align: right;\">\n      <th></th>\n      <th>word_freq_make</th>\n      <th>word_freq_address</th>\n      <th>word_freq_all</th>\n      <th>word_freq_3d</th>\n      <th>word_freq_our</th>\n      <th>word_freq_over</th>\n      <th>word_freq_remove</th>\n      <th>word_freq_internet</th>\n      <th>word_freq_order</th>\n      <th>word_freq_mail</th>\n      <th>...</th>\n      <th>char_freq_%3B</th>\n      <th>char_freq_%28</th>\n      <th>char_freq_%5B</th>\n      <th>char_freq_%21</th>\n      <th>char_freq_%24</th>\n      <th>char_freq_%23</th>\n      <th>capital_run_length_average</th>\n      <th>capital_run_length_longest</th>\n      <th>capital_run_length_total</th>\n      <th>class</th>\n    </tr>\n  </thead>\n  <tbody>\n    <tr>\n      <th>0</th>\n      <td>0.00</td>\n      <td>0.64</td>\n      <td>0.64</td>\n      <td>0.0</td>\n      <td>0.32</td>\n      <td>0.00</td>\n      <td>0.00</td>\n      <td>0.00</td>\n      <td>0.00</td>\n      <td>0.00</td>\n      <td>...</td>\n      <td>0.000</td>\n      <td>0.000</td>\n      <td>0.0</td>\n      <td>0.778</td>\n      <td>0.000</td>\n      <td>0.000</td>\n      <td>3.756</td>\n      <td>61.0</td>\n      <td>278.0</td>\n      <td>b'1'</td>\n    </tr>\n    <tr>\n      <th>1</th>\n      <td>0.21</td>\n      <td>0.28</td>\n      <td>0.50</td>\n      <td>0.0</td>\n      <td>0.14</td>\n      <td>0.28</td>\n      <td>0.21</td>\n      <td>0.07</td>\n      <td>0.00</td>\n      <td>0.94</td>\n      <td>...</td>\n      <td>0.000</td>\n      <td>0.132</td>\n      <td>0.0</td>\n      <td>0.372</td>\n      <td>0.180</td>\n      <td>0.048</td>\n      <td>5.114</td>\n      <td>101.0</td>\n      <td>1028.0</td>\n      <td>b'1'</td>\n    </tr>\n    <tr>\n      <th>2</th>\n      <td>0.06</td>\n      <td>0.00</td>\n      <td>0.71</td>\n      <td>0.0</td>\n      <td>1.23</td>\n      <td>0.19</td>\n      <td>0.19</td>\n      <td>0.12</td>\n      <td>0.64</td>\n      <td>0.25</td>\n      <td>...</td>\n      <td>0.010</td>\n      <td>0.143</td>\n      <td>0.0</td>\n      <td>0.276</td>\n      <td>0.184</td>\n      <td>0.010</td>\n      <td>9.821</td>\n      <td>485.0</td>\n      <td>2259.0</td>\n      <td>b'1'</td>\n    </tr>\n    <tr>\n      <th>3</th>\n      <td>0.00</td>\n      <td>0.00</td>\n      <td>0.00</td>\n      <td>0.0</td>\n      <td>0.63</td>\n      <td>0.00</td>\n      <td>0.31</td>\n      <td>0.63</td>\n      <td>0.31</td>\n      <td>0.63</td>\n      <td>...</td>\n      <td>0.000</td>\n      <td>0.137</td>\n      <td>0.0</td>\n      <td>0.137</td>\n      <td>0.000</td>\n      <td>0.000</td>\n      <td>3.537</td>\n      <td>40.0</td>\n      <td>191.0</td>\n      <td>b'1'</td>\n    </tr>\n    <tr>\n      <th>4</th>\n      <td>0.00</td>\n      <td>0.00</td>\n      <td>0.00</td>\n      <td>0.0</td>\n      <td>0.63</td>\n      <td>0.00</td>\n      <td>0.31</td>\n      <td>0.63</td>\n      <td>0.31</td>\n      <td>0.63</td>\n      <td>...</td>\n      <td>0.000</td>\n      <td>0.135</td>\n      <td>0.0</td>\n      <td>0.135</td>\n      <td>0.000</td>\n      <td>0.000</td>\n      <td>3.537</td>\n      <td>40.0</td>\n      <td>191.0</td>\n      <td>b'1'</td>\n    </tr>\n    <tr>\n      <th>...</th>\n      <td>...</td>\n      <td>...</td>\n      <td>...</td>\n      <td>...</td>\n      <td>...</td>\n      <td>...</td>\n      <td>...</td>\n      <td>...</td>\n      <td>...</td>\n      <td>...</td>\n      <td>...</td>\n      <td>...</td>\n      <td>...</td>\n      <td>...</td>\n      <td>...</td>\n      <td>...</td>\n      <td>...</td>\n      <td>...</td>\n      <td>...</td>\n      <td>...</td>\n      <td>...</td>\n    </tr>\n    <tr>\n      <th>4596</th>\n      <td>0.31</td>\n      <td>0.00</td>\n      <td>0.62</td>\n      <td>0.0</td>\n      <td>0.00</td>\n      <td>0.31</td>\n      <td>0.00</td>\n      <td>0.00</td>\n      <td>0.00</td>\n      <td>0.00</td>\n      <td>...</td>\n      <td>0.000</td>\n      <td>0.232</td>\n      <td>0.0</td>\n      <td>0.000</td>\n      <td>0.000</td>\n      <td>0.000</td>\n      <td>1.142</td>\n      <td>3.0</td>\n      <td>88.0</td>\n      <td>b'0'</td>\n    </tr>\n    <tr>\n      <th>4597</th>\n      <td>0.00</td>\n      <td>0.00</td>\n      <td>0.00</td>\n      <td>0.0</td>\n      <td>0.00</td>\n      <td>0.00</td>\n      <td>0.00</td>\n      <td>0.00</td>\n      <td>0.00</td>\n      <td>0.00</td>\n      <td>...</td>\n      <td>0.000</td>\n      <td>0.000</td>\n      <td>0.0</td>\n      <td>0.353</td>\n      <td>0.000</td>\n      <td>0.000</td>\n      <td>1.555</td>\n      <td>4.0</td>\n      <td>14.0</td>\n      <td>b'0'</td>\n    </tr>\n    <tr>\n      <th>4598</th>\n      <td>0.30</td>\n      <td>0.00</td>\n      <td>0.30</td>\n      <td>0.0</td>\n      <td>0.00</td>\n      <td>0.00</td>\n      <td>0.00</td>\n      <td>0.00</td>\n      <td>0.00</td>\n      <td>0.00</td>\n      <td>...</td>\n      <td>0.102</td>\n      <td>0.718</td>\n      <td>0.0</td>\n      <td>0.000</td>\n      <td>0.000</td>\n      <td>0.000</td>\n      <td>1.404</td>\n      <td>6.0</td>\n      <td>118.0</td>\n      <td>b'0'</td>\n    </tr>\n    <tr>\n      <th>4599</th>\n      <td>0.96</td>\n      <td>0.00</td>\n      <td>0.00</td>\n      <td>0.0</td>\n      <td>0.32</td>\n      <td>0.00</td>\n      <td>0.00</td>\n      <td>0.00</td>\n      <td>0.00</td>\n      <td>0.00</td>\n      <td>...</td>\n      <td>0.000</td>\n      <td>0.057</td>\n      <td>0.0</td>\n      <td>0.000</td>\n      <td>0.000</td>\n      <td>0.000</td>\n      <td>1.147</td>\n      <td>5.0</td>\n      <td>78.0</td>\n      <td>b'0'</td>\n    </tr>\n    <tr>\n      <th>4600</th>\n      <td>0.00</td>\n      <td>0.00</td>\n      <td>0.65</td>\n      <td>0.0</td>\n      <td>0.00</td>\n      <td>0.00</td>\n      <td>0.00</td>\n      <td>0.00</td>\n      <td>0.00</td>\n      <td>0.00</td>\n      <td>...</td>\n      <td>0.000</td>\n      <td>0.000</td>\n      <td>0.0</td>\n      <td>0.125</td>\n      <td>0.000</td>\n      <td>0.000</td>\n      <td>1.250</td>\n      <td>5.0</td>\n      <td>40.0</td>\n      <td>b'0'</td>\n    </tr>\n  </tbody>\n</table>\n<p>4601 rows × 58 columns</p>\n</div>"
     },
     "execution_count": 7,
     "metadata": {},
     "output_type": "execute_result"
    }
   ],
   "source": [
    "spam = pd.DataFrame(arff.loadarff('datasets/spambase.arff')[0])\n",
    "spam"
   ],
   "metadata": {
    "collapsed": false,
    "ExecuteTime": {
     "end_time": "2023-05-04T16:22:13.363489Z",
     "start_time": "2023-05-04T16:22:13.268050Z"
    }
   }
  },
  {
   "cell_type": "code",
   "execution_count": 8,
   "outputs": [
    {
     "data": {
      "text/plain": "         V1      V2   V3   V4    V5   V6   V7    V8   V9  V10  ...  V33   V34  \\\n0     3.919  2.6909  0.0  0.0   0.0  0.0  0.0  31.4  2.0  0.0  ...  0.0   0.0   \n1     4.170  2.1144  0.0  0.0   0.0  0.0  0.0  30.8  1.0  1.0  ...  0.0   0.0   \n2     3.932  3.2512  0.0  0.0   0.0  0.0  0.0  26.7  2.0  4.0  ...  0.0   0.0   \n3     3.000  2.7098  0.0  0.0   0.0  0.0  0.0  20.0  0.0  2.0  ...  0.0   0.0   \n4     4.236  3.3944  0.0  0.0   0.0  0.0  0.0  29.4  2.0  4.0  ...  0.0   0.0   \n...     ...     ...  ...  ...   ...  ...  ...   ...  ...  ...  ...  ...   ...   \n1050  5.431  2.8955  0.0  0.0   0.0  2.0  0.0  32.1  4.0  1.0  ...  0.0   6.0   \n1051  5.287  3.3732  0.0  0.0   9.0  0.0  0.0  35.3  0.0  9.0  ...  0.0   3.0   \n1052  4.869  1.7670  0.0  1.0   9.0  0.0  5.0  44.4  0.0  4.0  ...  4.0  13.0   \n1053  5.158  1.6914  2.0  0.0  36.0  0.0  9.0  56.1  0.0  0.0  ...  1.0  16.0   \n1054  5.076  2.6588  2.0  0.0   0.0  0.0  4.0  54.5  0.0  0.0  ...  2.0   0.0   \n\n      V35    V36    V37  V38     V39  V40  V41  Class  \n0     0.0  2.949  1.591  0.0   7.253  0.0  0.0   b'2'  \n1     0.0  3.315  1.967  0.0   7.257  0.0  0.0   b'2'  \n2     1.0  3.076  2.417  0.0   7.601  0.0  0.0   b'2'  \n3     1.0  3.046  5.000  0.0   6.690  0.0  0.0   b'2'  \n4     0.0  3.351  2.405  0.0   8.003  0.0  0.0   b'2'  \n...   ...    ...    ...  ...     ...  ...  ...    ...  \n1050  1.0  3.573  2.242  1.0   8.088  0.0  0.0   b'1'  \n1051  0.0  3.787  3.083  3.0   9.278  0.0  0.0   b'1'  \n1052  0.0  3.848  2.576  5.0   9.537  1.0  0.0   b'1'  \n1053  0.0  5.808  2.055  8.0  11.055  0.0  1.0   b'1'  \n1054  0.0  4.009  2.206  0.0   9.130  0.0  2.0   b'1'  \n\n[1055 rows x 42 columns]",
      "text/html": "<div>\n<style scoped>\n    .dataframe tbody tr th:only-of-type {\n        vertical-align: middle;\n    }\n\n    .dataframe tbody tr th {\n        vertical-align: top;\n    }\n\n    .dataframe thead th {\n        text-align: right;\n    }\n</style>\n<table border=\"1\" class=\"dataframe\">\n  <thead>\n    <tr style=\"text-align: right;\">\n      <th></th>\n      <th>V1</th>\n      <th>V2</th>\n      <th>V3</th>\n      <th>V4</th>\n      <th>V5</th>\n      <th>V6</th>\n      <th>V7</th>\n      <th>V8</th>\n      <th>V9</th>\n      <th>V10</th>\n      <th>...</th>\n      <th>V33</th>\n      <th>V34</th>\n      <th>V35</th>\n      <th>V36</th>\n      <th>V37</th>\n      <th>V38</th>\n      <th>V39</th>\n      <th>V40</th>\n      <th>V41</th>\n      <th>Class</th>\n    </tr>\n  </thead>\n  <tbody>\n    <tr>\n      <th>0</th>\n      <td>3.919</td>\n      <td>2.6909</td>\n      <td>0.0</td>\n      <td>0.0</td>\n      <td>0.0</td>\n      <td>0.0</td>\n      <td>0.0</td>\n      <td>31.4</td>\n      <td>2.0</td>\n      <td>0.0</td>\n      <td>...</td>\n      <td>0.0</td>\n      <td>0.0</td>\n      <td>0.0</td>\n      <td>2.949</td>\n      <td>1.591</td>\n      <td>0.0</td>\n      <td>7.253</td>\n      <td>0.0</td>\n      <td>0.0</td>\n      <td>b'2'</td>\n    </tr>\n    <tr>\n      <th>1</th>\n      <td>4.170</td>\n      <td>2.1144</td>\n      <td>0.0</td>\n      <td>0.0</td>\n      <td>0.0</td>\n      <td>0.0</td>\n      <td>0.0</td>\n      <td>30.8</td>\n      <td>1.0</td>\n      <td>1.0</td>\n      <td>...</td>\n      <td>0.0</td>\n      <td>0.0</td>\n      <td>0.0</td>\n      <td>3.315</td>\n      <td>1.967</td>\n      <td>0.0</td>\n      <td>7.257</td>\n      <td>0.0</td>\n      <td>0.0</td>\n      <td>b'2'</td>\n    </tr>\n    <tr>\n      <th>2</th>\n      <td>3.932</td>\n      <td>3.2512</td>\n      <td>0.0</td>\n      <td>0.0</td>\n      <td>0.0</td>\n      <td>0.0</td>\n      <td>0.0</td>\n      <td>26.7</td>\n      <td>2.0</td>\n      <td>4.0</td>\n      <td>...</td>\n      <td>0.0</td>\n      <td>0.0</td>\n      <td>1.0</td>\n      <td>3.076</td>\n      <td>2.417</td>\n      <td>0.0</td>\n      <td>7.601</td>\n      <td>0.0</td>\n      <td>0.0</td>\n      <td>b'2'</td>\n    </tr>\n    <tr>\n      <th>3</th>\n      <td>3.000</td>\n      <td>2.7098</td>\n      <td>0.0</td>\n      <td>0.0</td>\n      <td>0.0</td>\n      <td>0.0</td>\n      <td>0.0</td>\n      <td>20.0</td>\n      <td>0.0</td>\n      <td>2.0</td>\n      <td>...</td>\n      <td>0.0</td>\n      <td>0.0</td>\n      <td>1.0</td>\n      <td>3.046</td>\n      <td>5.000</td>\n      <td>0.0</td>\n      <td>6.690</td>\n      <td>0.0</td>\n      <td>0.0</td>\n      <td>b'2'</td>\n    </tr>\n    <tr>\n      <th>4</th>\n      <td>4.236</td>\n      <td>3.3944</td>\n      <td>0.0</td>\n      <td>0.0</td>\n      <td>0.0</td>\n      <td>0.0</td>\n      <td>0.0</td>\n      <td>29.4</td>\n      <td>2.0</td>\n      <td>4.0</td>\n      <td>...</td>\n      <td>0.0</td>\n      <td>0.0</td>\n      <td>0.0</td>\n      <td>3.351</td>\n      <td>2.405</td>\n      <td>0.0</td>\n      <td>8.003</td>\n      <td>0.0</td>\n      <td>0.0</td>\n      <td>b'2'</td>\n    </tr>\n    <tr>\n      <th>...</th>\n      <td>...</td>\n      <td>...</td>\n      <td>...</td>\n      <td>...</td>\n      <td>...</td>\n      <td>...</td>\n      <td>...</td>\n      <td>...</td>\n      <td>...</td>\n      <td>...</td>\n      <td>...</td>\n      <td>...</td>\n      <td>...</td>\n      <td>...</td>\n      <td>...</td>\n      <td>...</td>\n      <td>...</td>\n      <td>...</td>\n      <td>...</td>\n      <td>...</td>\n      <td>...</td>\n    </tr>\n    <tr>\n      <th>1050</th>\n      <td>5.431</td>\n      <td>2.8955</td>\n      <td>0.0</td>\n      <td>0.0</td>\n      <td>0.0</td>\n      <td>2.0</td>\n      <td>0.0</td>\n      <td>32.1</td>\n      <td>4.0</td>\n      <td>1.0</td>\n      <td>...</td>\n      <td>0.0</td>\n      <td>6.0</td>\n      <td>1.0</td>\n      <td>3.573</td>\n      <td>2.242</td>\n      <td>1.0</td>\n      <td>8.088</td>\n      <td>0.0</td>\n      <td>0.0</td>\n      <td>b'1'</td>\n    </tr>\n    <tr>\n      <th>1051</th>\n      <td>5.287</td>\n      <td>3.3732</td>\n      <td>0.0</td>\n      <td>0.0</td>\n      <td>9.0</td>\n      <td>0.0</td>\n      <td>0.0</td>\n      <td>35.3</td>\n      <td>0.0</td>\n      <td>9.0</td>\n      <td>...</td>\n      <td>0.0</td>\n      <td>3.0</td>\n      <td>0.0</td>\n      <td>3.787</td>\n      <td>3.083</td>\n      <td>3.0</td>\n      <td>9.278</td>\n      <td>0.0</td>\n      <td>0.0</td>\n      <td>b'1'</td>\n    </tr>\n    <tr>\n      <th>1052</th>\n      <td>4.869</td>\n      <td>1.7670</td>\n      <td>0.0</td>\n      <td>1.0</td>\n      <td>9.0</td>\n      <td>0.0</td>\n      <td>5.0</td>\n      <td>44.4</td>\n      <td>0.0</td>\n      <td>4.0</td>\n      <td>...</td>\n      <td>4.0</td>\n      <td>13.0</td>\n      <td>0.0</td>\n      <td>3.848</td>\n      <td>2.576</td>\n      <td>5.0</td>\n      <td>9.537</td>\n      <td>1.0</td>\n      <td>0.0</td>\n      <td>b'1'</td>\n    </tr>\n    <tr>\n      <th>1053</th>\n      <td>5.158</td>\n      <td>1.6914</td>\n      <td>2.0</td>\n      <td>0.0</td>\n      <td>36.0</td>\n      <td>0.0</td>\n      <td>9.0</td>\n      <td>56.1</td>\n      <td>0.0</td>\n      <td>0.0</td>\n      <td>...</td>\n      <td>1.0</td>\n      <td>16.0</td>\n      <td>0.0</td>\n      <td>5.808</td>\n      <td>2.055</td>\n      <td>8.0</td>\n      <td>11.055</td>\n      <td>0.0</td>\n      <td>1.0</td>\n      <td>b'1'</td>\n    </tr>\n    <tr>\n      <th>1054</th>\n      <td>5.076</td>\n      <td>2.6588</td>\n      <td>2.0</td>\n      <td>0.0</td>\n      <td>0.0</td>\n      <td>0.0</td>\n      <td>4.0</td>\n      <td>54.5</td>\n      <td>0.0</td>\n      <td>0.0</td>\n      <td>...</td>\n      <td>2.0</td>\n      <td>0.0</td>\n      <td>0.0</td>\n      <td>4.009</td>\n      <td>2.206</td>\n      <td>0.0</td>\n      <td>9.130</td>\n      <td>0.0</td>\n      <td>2.0</td>\n      <td>b'1'</td>\n    </tr>\n  </tbody>\n</table>\n<p>1055 rows × 42 columns</p>\n</div>"
     },
     "execution_count": 8,
     "metadata": {},
     "output_type": "execute_result"
    }
   ],
   "source": [
    "kc = pd.DataFrame(arff.loadarff('datasets/kc2.arff')[0])\n",
    "kc"
   ],
   "metadata": {
    "collapsed": false,
    "ExecuteTime": {
     "end_time": "2023-05-04T16:22:13.402881Z",
     "start_time": "2023-05-04T16:22:13.344867Z"
    }
   }
  },
  {
   "cell_type": "code",
   "execution_count": 8,
   "outputs": [],
   "source": [],
   "metadata": {
    "collapsed": false,
    "ExecuteTime": {
     "end_time": "2023-05-04T16:22:13.403370Z",
     "start_time": "2023-05-04T16:22:13.380894Z"
    }
   }
  }
 ],
 "metadata": {
  "kernelspec": {
   "display_name": "Python 3",
   "language": "python",
   "name": "python3"
  },
  "language_info": {
   "codemirror_mode": {
    "name": "ipython",
    "version": 2
   },
   "file_extension": ".py",
   "mimetype": "text/x-python",
   "name": "python",
   "nbconvert_exporter": "python",
   "pygments_lexer": "ipython2",
   "version": "2.7.6"
  }
 },
 "nbformat": 4,
 "nbformat_minor": 0
}
